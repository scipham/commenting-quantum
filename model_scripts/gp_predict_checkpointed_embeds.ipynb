{
 "cells": [
  {
   "cell_type": "code",
   "execution_count": 2,
   "metadata": {},
   "outputs": [
    {
     "name": "stderr",
     "output_type": "stream",
     "text": [
      "C:\\Users\\trothe\\AppData\\Local\\Packages\\PythonSoftwareFoundation.Python.3.11_qbz5n2kfra8p0\\LocalCache\\local-packages\\Python311\\site-packages\\torchaudio\\backend\\utils.py:74: UserWarning: No audio backend is available.\n",
      "  warnings.warn(\"No audio backend is available.\")\n",
      "C:\\Users\\trothe\\AppData\\Local\\Packages\\PythonSoftwareFoundation.Python.3.11_qbz5n2kfra8p0\\LocalCache\\local-packages\\Python311\\site-packages\\tqdm\\auto.py:21: TqdmWarning: IProgress not found. Please update jupyter and ipywidgets. See https://ipywidgets.readthedocs.io/en/stable/user_install.html\n",
      "  from .autonotebook import tqdm as notebook_tqdm\n"
     ]
    }
   ],
   "source": [
    "\n",
    "import h5py\n",
    "import numpy as np\n",
    "\n",
    "\n",
    "import os\n",
    "import sys\n",
    "import warnings\n",
    "import random\n",
    "from typing import Dict, List, Optional\n",
    "from types import SimpleNamespace\n",
    "from itertools import chain, combinations\n",
    "import numpy as np\n",
    "import pandas as pd\n",
    "import re\n",
    "import time\n",
    "from tqdm import tqdm\n",
    "import h5py\n",
    "\n",
    "# Importing the ML and transformers libraries\n",
    "import torch\n",
    "from torch import cuda\n",
    "from torch import nn\n",
    "from torchmetrics import MeanSquaredError\n",
    "from torch.utils.data import Dataset, DataLoader, BatchSampler, SequentialSampler\n",
    "\n",
    "from transformers import RobertaTokenizer, RobertaModel, RobertaForSequenceClassification, RobertaConfig, Trainer, TrainingArguments, AutoModel, AutoTokenizer, EarlyStoppingCallback\n",
    "#require sentencepiece\n",
    "\n",
    "import sklearn\n",
    "from sklearn.metrics.pairwise import cosine_similarity\n",
    "import wandb\n",
    "\n",
    "import gpytorch\n",
    "from gpytorch.models import ApproximateGP\n",
    "from gpytorch.variational import CholeskyVariationalDistribution\n",
    "from gpytorch.variational import VariationalStrategy\n",
    "\n",
    "\n",
    "# Set random seeds and deterministic pytorch for reproducibility\n",
    "global_seed = 22\n",
    "random.seed(global_seed)\n",
    "torch.manual_seed(global_seed) \n",
    "np.random.seed(global_seed) \n",
    "torch.backends.cudnn.deterministic = True\n",
    "\n",
    "\n",
    "def load_hdf_embed_checkpoint(hdf_filepath, verbose=True):\n",
    "    with h5py.File(hdf_filepath, \"r\") as file:\n",
    "        article_ids = np.array(file[\"article_ids\"], dtype=str)\n",
    "        targets = np.array(file[\"targets\"], dtype=np.float32)\n",
    "        text_embeds = np.array(file[\"text_embeddings\"], dtype=np.float32)\n",
    "        \n",
    "        #Rescale and recenter sll features around 0.0\n",
    "        padd_mask = np.std(text_embeds, axis=0) < 1e-6\n",
    "        text_embeds = (text_embeds - np.mean(text_embeds, axis=0)) / np.std(text_embeds, axis=0)\n",
    "        text_embeds[:, padd_mask] = 0.0\n",
    "        if verbose:\n",
    "            print(f\"article_ids: {type(article_ids)}, {article_ids.shape}\")\n",
    "            print(f\"targets: {type(targets)}, {targets.shape}\")\n",
    "            print(f\"text_embeds: {type(text_embeds)}, {text_embeds.shape}\")\n",
    "\n",
    "        return article_ids, targets, text_embeds\n",
    "\n",
    "\n",
    "def get_predict_data_filepath(predict_feature, input_type, embed_type):\n",
    "\n",
    "    #base_folder = \"S:/Sync/University/2023_MRP_1/MRP1_WorkDir/model_scripts/embed_checkpointsv\" + predict_feature + \"/\" + input_type + \"/\"\n",
    "    base_folder = \"./embed_checkpoints/\" + predict_feature + \"/\" + input_type + \"/\"\n",
    "    \n",
    "    predict_feature = \"_senti\" if predict_feature == \"sentiment\" else \"\"\n",
    "    # You can uncomment the following line if needed, but please make sure to define the variable input_type\n",
    "    # predict_feature = predict_feature + \"_subtextLevel\" if input_type == \"subtextLevel\" else predict_feature\n",
    "    exchange_model = True if embed_type == \"xlnet\" else False\n",
    "    embed_type = \"zero\" if embed_type == \"xlnet\" else embed_type\n",
    "\n",
    "\n",
    "\n",
    "    if input_type == \"headline\":\n",
    "        train_data_filepath = base_folder + \"train\" + predict_feature + \"_distilroberta_\" + embed_type + \"_embeddings.hdf5\"\n",
    "    elif input_type == \"body\":\n",
    "        train_data_filepath = base_folder + \"train\" + predict_feature + \"_distilroberta_body_\" + embed_type + \"_embeddings.hdf5\"\n",
    "    elif input_type == \"subtextLevel\":\n",
    "        train_data_filepath = base_folder + \"train\" + predict_feature + \"_subtextLevel_distilroberta_\" + embed_type + \"_embeddings.hdf5\"\n",
    "\n",
    "    if exchange_model:\n",
    "        train_data_filepath = train_data_filepath.replace(\"distilroberta\", \"xlnet\")\n",
    "\n",
    "    return train_data_filepath\n",
    "\n",
    "\n",
    "model_output_dir = \"./models/gp_checkpointed_embeds/\"\n"
   ]
  },
  {
   "cell_type": "code",
   "execution_count": 3,
   "metadata": {},
   "outputs": [
    {
     "name": "stdout",
     "output_type": "stream",
     "text": [
      "article_ids: <class 'numpy.ndarray'>, (98,)\n",
      "targets: <class 'numpy.ndarray'>, (98, 1)\n",
      "text_embeds: <class 'numpy.ndarray'>, (98, 768)\n",
      "article_ids: <class 'numpy.ndarray'>, (25,)\n",
      "targets: <class 'numpy.ndarray'>, (25, 1)\n",
      "text_embeds: <class 'numpy.ndarray'>, (25, 768)\n",
      "(98,) (98, 768) (98, 1)\n",
      "(25,) (25, 768) (25, 1)\n"
     ]
    },
    {
     "name": "stderr",
     "output_type": "stream",
     "text": [
      "C:\\Users\\trothe\\AppData\\Local\\Temp\\ipykernel_45680\\3774969653.py:55: RuntimeWarning: divide by zero encountered in divide\n",
      "  text_embeds = (text_embeds - np.mean(text_embeds, axis=0)) / np.std(text_embeds, axis=0)\n"
     ]
    }
   ],
   "source": [
    "\n",
    "c_train_filepath = \"./embed_checkpoints/engagement/body/train_distilroberta_body_zero_embeddings.hdf5\"\n",
    "c_train_filepath = \"./embed_checkpoints/engagement/headline/train_distilroberta_zero_embeddings.hdf5\"\n",
    "c_train_filepath = \"./embed_checkpoints/engagement/train_roberta_zero_embeddings.hdf5\"\n",
    "\n",
    "#c_train_filepath = \"./embed_checkpoints/sentiment/body/train_senti_distilroberta_body_zero_embeddings.hdf5\"\n",
    "\n",
    "c_train_filepath = get_predict_data_filepath(\"engagement\", \n",
    "                                             \"body\",   #\"subtextLevel\", \"headline\", \"body\"\n",
    "                                             \"zero\") #\"SimCE-Head-Body\", \"CosSim\", \"zero\", \"xlnet\"\n",
    "\n",
    "\n",
    "c_test_filepath = re.sub(\"train\", \"test\", c_train_filepath)\n",
    "\n",
    "article_ids, targets, text_embeds = load_hdf_embed_checkpoint(c_train_filepath)\n",
    "\n",
    "article_id_train = article_ids\n",
    "X_train = text_embeds\n",
    "y_train = targets\n",
    "\n",
    "article_ids, targets, text_embeds = load_hdf_embed_checkpoint(c_test_filepath)\n",
    "\n",
    "article_id_val = article_ids\n",
    "X_val = text_embeds\n",
    "y_val = targets\n",
    "\n",
    "print(article_id_train.shape, X_train.shape, y_train.shape)\n",
    "print(article_id_val.shape, X_val.shape, y_val.shape)\n",
    "assert X_train.shape[0] == y_train.shape[0]\n"
   ]
  },
  {
   "cell_type": "code",
   "execution_count": null,
   "metadata": {},
   "outputs": [],
   "source": []
  },
  {
   "cell_type": "code",
   "execution_count": null,
   "metadata": {},
   "outputs": [],
   "source": []
  },
  {
   "cell_type": "code",
   "execution_count": 4,
   "metadata": {},
   "outputs": [
    {
     "name": "stderr",
     "output_type": "stream",
     "text": [
      "C:\\Users\\trothe\\AppData\\Local\\Temp\\ipykernel_45680\\649595691.py:5: UserWarning: To copy construct from a tensor, it is recommended to use sourceTensor.clone().detach() or sourceTensor.clone().detach().requires_grad_(True), rather than torch.tensor(sourceTensor).\n",
      "  self.X = torch.tensor(X, dtype=torch.float32)\n",
      "C:\\Users\\trothe\\AppData\\Local\\Temp\\ipykernel_45680\\649595691.py:6: UserWarning: To copy construct from a tensor, it is recommended to use sourceTensor.clone().detach() or sourceTensor.clone().detach().requires_grad_(True), rather than torch.tensor(sourceTensor).\n",
      "  self.y = torch.tensor(y, dtype=torch.float32)\n"
     ]
    }
   ],
   "source": [
    "from torch.utils.data import Dataset, DataLoader\n",
    "\n",
    "class CustomDataset(Dataset):\n",
    "    def __init__(self, X, y, article_ids):\n",
    "        self.X = torch.tensor(X, dtype=torch.float32)\n",
    "        self.y = torch.tensor(y, dtype=torch.float32)\n",
    "        self.article_ids = article_ids\n",
    "\n",
    "    def __len__(self):\n",
    "        return len(self.article_ids)\n",
    "\n",
    "    def __getitem__(self, idx):\n",
    "        return {'embeddings' : self.X[idx,:],\n",
    "                'targets' : self.y[idx],\n",
    "                'article_ids' : self.article_ids[idx],\n",
    "                }\n",
    "\n",
    "X_train = torch.from_numpy(X_train)\n",
    "y_train = torch.from_numpy(y_train)\n",
    "\n",
    "train_data = CustomDataset(X_train, y_train, article_id_train)\n",
    "val_data = CustomDataset(X_val, y_val, article_id_val)\n"
   ]
  },
  {
   "cell_type": "code",
   "execution_count": 5,
   "metadata": {},
   "outputs": [],
   "source": [
    "\n",
    "def compute_simple_regression_metrics(EvalPred):\n",
    "    preds, labels = EvalPred\n",
    "    preds = preds.squeeze()\n",
    "    labels = labels.squeeze()\n",
    "    \n",
    "    #print(preds, labels)\n",
    "    #print(preds.shape, labels.shape)\n",
    "    \n",
    "    mse_loss = nn.functional.mse_loss(preds, labels).item()\n",
    "    mae_loss = nn.functional.l1_loss(preds, labels).item()\n",
    "    print(\"Finished computing metrics\")\n",
    "    return {\"mse_loss\": mse_loss, \"mae_loss\": mae_loss}\n",
    "  \n",
    "\n",
    "def evaluate_exact_gp_model(model, likelihood, X_eval, y_eval, preds_output_filepath, device):\n",
    "\n",
    "    metrics_output = {}\n",
    "        \n",
    "    prediction_buffer = []\n",
    "\n",
    "    with torch.no_grad():\n",
    "        \n",
    "        targets = y_eval.to(device)\n",
    "        \n",
    "        outputs = model(X_eval.to(device),\n",
    "                        #return_attention_weights=True,\n",
    "                        )\n",
    "        \n",
    "        \n",
    "        #NOTE: Outputs is of type MultiVariateNormal\n",
    "        #f_preds = model(test_x)\n",
    "        f_preds = outputs\n",
    "        f_mean = f_preds.mean\n",
    "        f_var = f_preds.variance\n",
    "        f_covar = f_preds.covariance_matrix\n",
    "        #f_samples = f_preds.sample(sample_shape=torch.Size(1000,))\n",
    "        \n",
    "        print(\"f_preds: \", f_preds)\n",
    "\n",
    "        if isinstance(likelihood, gpytorch.likelihoods.GaussianLikelihood):\n",
    "            y_preds = likelihood(f_preds)\n",
    "            y_mean = y_preds.mean\n",
    "            y_var = y_preds.variance\n",
    "        elif isinstance(likelihood, gpytorch.likelihoods.BetaLikelihood):\n",
    "            with gpytorch.settings.num_likelihood_samples(100):\n",
    "                y_preds = likelihood(f_preds)\n",
    "                y_mean = torch.mean(y_preds.mean, dim=0)\n",
    "                y_var = torch.mean(y_preds.variance, dim=0)\n",
    "\n",
    "        print(\"f Result: \", f_mean.shape, targets.shape)\n",
    "        print(\"y Result: \", y_mean.shape, targets.shape, y_var)\n",
    "        \n",
    "        errors = torch.abs(y_mean - targets)\n",
    "\n",
    "        print(\"Errors: \", errors)\n",
    "        \n",
    "        metrics_output = compute_simple_regression_metrics((y_mean, targets))\n",
    "\n",
    "        y_mean = y_mean.cpu().numpy()\n",
    "        y_var = y_var.cpu().numpy()\n",
    "        f_mean = f_mean.cpu().numpy()\n",
    "\n",
    "\n",
    "        targets = targets.cpu().numpy()\n",
    "        \n",
    "        print(\"Targets: \", targets)\n",
    "        print(\"Outputs: \", y_mean)\n",
    "        print(\"f Mean: \", f_mean)\n",
    "        print(metrics_output)\n",
    "        \n",
    "        \n",
    "        \n",
    "        batch_out_dicts = [{\"article_id\": None,\n",
    "                    \"prediction\": y_mean[sample_idx,:],  \n",
    "                    \"variability\": y_var[sample_idx,:],\n",
    "                    \"target\": targets[sample_idx],\n",
    "                    \"error\": errors[sample_idx],\n",
    "                    } for sample_idx in range(batch_size)]\n",
    "\n",
    "        prediction_buffer.extend(batch_out_dicts)\n",
    "        \n",
    "\n",
    "    print(\"Total Metrics: \", running_metrics)\n",
    "    \n",
    "    export_eval_df = pd.DataFrame(prediction_buffer)\n",
    "\n",
    "    #wandb.log({\"Prediction_output_table\": wandb.Table(dataframe=export_eval_df)})\n",
    "\n",
    "    export_eval_df.to_csv(preds_output_filepath, index=False, sep=\";\")\n",
    "    return export_eval_df\n",
    "\n",
    "\n",
    "\n",
    "def evaluate_gp_model(model, likelihood, eval_loader, preds_output_filepath, device):\n",
    "\n",
    "    running_metrics = {\"mse_loss\": 0.0,\n",
    "                        }\n",
    "        \n",
    "    prediction_buffer = []\n",
    "\n",
    "    with torch.no_grad():\n",
    "        for (b_i, batch) in enumerate(eval_loader,0):\n",
    "            batch_size = len(batch['article_ids'])\n",
    "            \n",
    "            targets = batch['targets'].to(device)\n",
    "            \n",
    "            outputs = model(batch['embeddings'].to(device),\n",
    "                            #return_attention_weights=True,\n",
    "                            )\n",
    "            \n",
    "            \n",
    "            #NOTE: Outputs is of type MultiVariateNormal\n",
    "            #f_preds = model(test_x)\n",
    "            f_preds = outputs\n",
    "            f_mean = f_preds.mean\n",
    "            f_var = f_preds.variance\n",
    "            f_covar = f_preds.covariance_matrix\n",
    "            #f_samples = f_preds.sample(sample_shape=torch.Size(1000,))\n",
    "            \n",
    "            print(\"f_preds: \", f_preds)\n",
    "\n",
    "            if isinstance(likelihood, gpytorch.likelihoods.GaussianLikelihood):\n",
    "                y_preds = likelihood(f_preds)\n",
    "                y_mean = y_preds.mean\n",
    "                y_var = y_preds.variance\n",
    "            elif isinstance(likelihood, gpytorch.likelihoods.BetaLikelihood):\n",
    "                with gpytorch.settings.num_likelihood_samples(100):\n",
    "                    y_preds = likelihood(f_preds)\n",
    "                    y_mean = torch.mean(y_preds.mean, dim=0)\n",
    "                    y_var = torch.mean(y_preds.variance, dim=0)\n",
    "\n",
    "            print(\"f Result: \", f_mean.shape, targets.shape)\n",
    "            print(\"y Result: \", y_mean.shape, targets.shape, y_var)\n",
    "            \n",
    "            errors = torch.abs(y_mean - targets)\n",
    "\n",
    "            print(\"Errors: \", errors)\n",
    "            \n",
    "            metrics_output = compute_simple_regression_metrics((y_mean, targets))\n",
    "\n",
    "            running_metrics = {k: running_metrics[k] + metrics_output[k] / (len(eval_loader)*batch_size) for k in running_metrics.keys()}\n",
    "\n",
    "            y_mean = y_mean.cpu().numpy()\n",
    "            y_var = y_var.cpu().numpy()\n",
    "            f_mean = f_mean.cpu().numpy()\n",
    "\n",
    "\n",
    "            targets = targets.cpu().numpy()\n",
    "            \n",
    "            print(\"Targets: \", targets)\n",
    "            print(\"Outputs: \", y_mean)\n",
    "            print(\"f Mean: \", f_mean)\n",
    "            print(metrics_output)\n",
    "            \n",
    "            \n",
    "            \n",
    "            batch_out_dicts = [{\"article_id\": batch[\"article_ids\"][sample_idx],\n",
    "                        \"prediction\": y_mean[sample_idx],  \n",
    "                        \"variability\": y_var[sample_idx],\n",
    "                        \"target\": targets[sample_idx],\n",
    "                        \"error\": errors[sample_idx],\n",
    "                        } for sample_idx in range(batch_size)]\n",
    "\n",
    "            prediction_buffer.extend(batch_out_dicts)\n",
    "            \n",
    "            if b_i%100==0:\n",
    "                print(f'Completed evaluation on {b_i} batches out of {len(eval_loader)}')\n",
    "\n",
    "    print(\"Total Metrics: \", running_metrics)\n",
    "    \n",
    "    export_eval_df = pd.DataFrame(prediction_buffer)\n",
    "\n",
    "    #wandb.log({\"Prediction_output_table\": wandb.Table(dataframe=export_eval_df)})\n",
    "\n",
    "    export_eval_df.to_csv(preds_output_filepath, index=False, sep=\";\")\n",
    "    return export_eval_df\n",
    "\n"
   ]
  },
  {
   "cell_type": "code",
   "execution_count": 12,
   "metadata": {},
   "outputs": [],
   "source": [
    "from gpytorch.models import ExactGP\n",
    "from gpytorch.means import ConstantMean\n",
    "from gpytorch.kernels import ScaleKernel, RBFKernel, MaternKernel\n",
    "from gpytorch.distributions import MultivariateNormal\n",
    "\n",
    "class CustomExactGPModel(ExactGP):\n",
    "    def __init__(self, train_x, train_y, likelihood):\n",
    "        super(CustomExactGPModel, self).__init__(train_x, train_y, likelihood)\n",
    "        self.mean_module = ConstantMean()\n",
    "        #self.covar_module = ScaleKernel(RBFKernel(ard_num_dims=train_x.size(-1)))\n",
    "        self.covar_module = ScaleKernel(MaternKernel(5/2, ard_num_dims=train_x.size(-1)))\n",
    "        \n",
    "        self.likelihood = likelihood\n",
    "\n",
    "    def forward(self, x):\n",
    "        mean_x = self.mean_module(x)\n",
    "        covar_x = self.covar_module(x)\n",
    "        \n",
    "        return MultivariateNormal(mean_x, covar_x)\n",
    "\n",
    "class CustomApproximateGPModel(gpytorch.models.ApproximateGP):\n",
    "    def __init__(self, x_train):\n",
    "        variational_distribution = gpytorch.variational.CholeskyVariationalDistribution(x_train.size(0))\n",
    "        variational_strategy = gpytorch.variational.VariationalStrategy(self, x_train, variational_distribution)\n",
    "        super().__init__(variational_strategy)\n",
    "        \n",
    "        self.mean_module = gpytorch.means.ConstantMean()\n",
    "        self.covar_module = gpytorch.kernels.ScaleKernel(gpytorch.kernels.RBFKernel())\n",
    "    \n",
    "    def forward(self, x):\n",
    "        mean_x = self.mean_module(x)\n",
    "        covar_x = self.covar_module(x)\n",
    "        latent_pred = gpytorch.distributions.MultivariateNormal(mean_x, covar_x)\n",
    "        return latent_pred\n",
    "\n",
    "class CustomVariationalGPModel(gpytorch.models.ApproximateGP):\n",
    "    def __init__(self, inducing_points, likelihood_label):\n",
    "        # Inducing points are the points that are used to approximate the function and are optimized during training. Given are only the initial values.\n",
    "        variational_distribution = gpytorch.variational.CholeskyVariationalDistribution(inducing_points.size(0)) # The variational distribution is a distribution over the inducing points. It is initialized with the number of inducing points.\n",
    "        \n",
    "        #variational_distribution = gpytorch.variational.NaturalVariationalDistribution(inducing_points.size(0)) # The variational distribution is a distribution over the inducing points. It is initialized with the number of inducing points.\n",
    "        \n",
    "        variational_strategy = gpytorch.variational.VariationalStrategy(self, inducing_points, variational_distribution, learn_inducing_locations=True)\n",
    "        \n",
    "        super(CustomVariationalGPModel, self).__init__(variational_strategy)\n",
    "        \n",
    "        # Determine if using ARD\n",
    "        ard_num_dims = None\n",
    "        use_ard = True\n",
    "        if use_ard:\n",
    "            ard_num_dims = inducing_points.size(-1)\n",
    "        self.mean_module = ConstantMean()\n",
    "        self.base_kernel = RBFKernel(ard_num_dims=ard_num_dims)\n",
    "        self.covar_module = ScaleKernel(self.base_kernel)\n",
    "        self.mean_module = gpytorch.means.ConstantMean()\n",
    "        self.likelihood_label = likelihood_label\n",
    "\n",
    "    def forward(self, embeddings, *args,**kwargs):\n",
    "        mean_x = self.mean_module(embeddings)\n",
    "        covar_x = self.covar_module(embeddings)\n",
    "        \n",
    "        return gpytorch.distributions.MultivariateNormal(mean_x, covar_x)\n",
    "\n",
    "\n",
    "\n",
    "class CustomVariationalGPModelWithNGD(gpytorch.models.ApproximateGP):\n",
    "    def __init__(self, inducing_points, likelihood_label, variational_dist_label):\n",
    "        # Inducing points are the points that are used to approximate the function and are optimized during training. Given are only the initial values.\n",
    "        if variational_dist_label == \"NaturalVariationalDistribution\":  \n",
    "            variational_distribution = gpytorch.variational.NaturalVariationalDistribution(inducing_points.size(0)) # The variational distribution is a distribution over the inducing points. It is initialized with the number of inducing points.\n",
    "        elif variational_dist_label == \"TrilNaturalVariationalDistribution\":\n",
    "            variational_distribution = gpytorch.variational.TrilNaturalVariationalDistribution(inducing_points.size(0)) # The variational distribution is a distribution over the inducing points. It is initialized with the number of inducing points.\n",
    "\n",
    "        variational_strategy = gpytorch.variational.VariationalStrategy(self, inducing_points, variational_distribution, learn_inducing_locations=True)\n",
    "        \n",
    "        super(CustomVariationalGPModelWithNGD, self).__init__(variational_strategy)\n",
    "        \n",
    "        # Determine if using ARD\n",
    "        ard_num_dims = None\n",
    "        use_ard = True\n",
    "        if use_ard:\n",
    "            ard_num_dims = inducing_points.size(-1)\n",
    "\n",
    "        self.mean_module = gpytorch.means.ConstantMean()\n",
    "        #self.mean_module = gpytorch.means.LinearMean(inducing_points.size(1))\n",
    "        #self.covar_module = gpytorch.kernels.ScaleKernel(gpytorch.kernels.RBFKernel())\n",
    "        #self.covar_module = gpytorch.kernels.ScaleKernel(gpytorch.kernels.MaternKernel())\n",
    "        #self.covar_module = gpytorch.kernels.RQKernel()\n",
    "        #self.base_kernel = RBFKernel(ard_num_dims=ard_num_dims)\n",
    "        #self.base_kernel = RBFKernel()\n",
    "        self.base_kernel = gpytorch.kernels.MaternKernel()\n",
    "        self.covar_module = ScaleKernel(self.base_kernel)\n",
    "        self.mean_module = gpytorch.means.ConstantMean()\n",
    "        #\n",
    "        self.likelihood_label = likelihood_label\n",
    "\n",
    "    def forward(self, embeddings, *args,**kwargs):\n",
    "        mean_x = self.mean_module(embeddings)\n",
    "        covar_x = self.covar_module(embeddings)\n",
    "        \n",
    "        return gpytorch.distributions.MultivariateNormal(mean_x, covar_x)\n",
    "        \n",
    "\n",
    "class CustomEnd2EndGPRegressionTrainer(Trainer):\n",
    "    def __init__(self, *args, loss_func_or_wrapper, likelihood, device,  **kwargs):\n",
    "        super().__init__(*args, **kwargs)\n",
    "        self.device = device\n",
    "        self.loss_func_or_wrapper = loss_func_or_wrapper\n",
    "        self.likelihood = likelihood\n",
    "        \n",
    "    \n",
    "    def compute_loss(self, model, inputs, return_outputs=False):\n",
    "        # implement custom logic here\n",
    "        outputs = model(inputs['embeddings'],\n",
    "                        #attention_mask=inputs['attention_mask'],\n",
    "                        #return_attention_weights = False,\n",
    "                        )\n",
    "        \n",
    "\n",
    "        #NOTE: Outputs is of type MultiVariateNormal\n",
    "        #f_preds = model(test_x)\n",
    "        #y_preds = likelihood(model(test_x))\n",
    "        \n",
    "        #f_mean = f_preds.mean\n",
    "        #f_var = f_preds.variance\n",
    "        #f_covar = f_preds.covariance_matrix\n",
    "        #f_samples = f_preds.sample(sample_shape=torch.Size(1000,))\n",
    "            \n",
    "\n",
    "        #For GP MLI loss must have a minus sign in front of it!\n",
    "        loss = -self.loss_func_or_wrapper(outputs, inputs['targets'].squeeze(-1).to(self.device))\n",
    "        \n",
    "        #print(\"MSE train loss: \", compute_simple_regression_metrics((self.likelihood(outputs).mean, targets)))\n",
    "\n",
    "\n",
    "        #print(outputs, \" || \", inputs['targets'].squeeze(-1))\n",
    "        #print(outputs.mean.shape, \" |-| \",  outputs.covariance_matrix.shape, \" |-| \", loss.shape, \" |-| \", inputs['targets'].squeeze(-1).shape )\n",
    "        #print(type(outputs), \" || \", type(inputs['targets'].squeeze(-1)))\n",
    "        #print(loss, type(loss))\n",
    "        return (loss, outputs) if return_outputs else loss\n",
    "\n"
   ]
  },
  {
   "cell_type": "code",
   "execution_count": 27,
   "metadata": {},
   "outputs": [
    {
     "data": {
      "text/html": [
       "Changes to your `wandb` environment variables will be ignored because your `wandb` session has already started. For more information on how to modify your settings with `wandb.init()` arguments, please refer to <a href='https://wandb.me/wandb-init' target=\"_blank\">the W&B docs</a>."
      ],
      "text/plain": [
       "<IPython.core.display.HTML object>"
      ]
     },
     "metadata": {},
     "output_type": "display_data"
    },
    {
     "data": {
      "text/html": [
       "Finishing last run (ID:cqasn3nk) before initializing another..."
      ],
      "text/plain": [
       "<IPython.core.display.HTML object>"
      ]
     },
     "metadata": {},
     "output_type": "display_data"
    },
    {
     "data": {
      "text/html": [
       "Waiting for W&B process to finish... <strong style=\"color:green\">(success).</strong>"
      ],
      "text/plain": [
       "<IPython.core.display.HTML object>"
      ]
     },
     "metadata": {},
     "output_type": "display_data"
    },
    {
     "data": {
      "text/html": [
       " View run <strong style=\"color:#cdcd00\">spring-monkey-160</strong> at: <a href='https://wandb.ai/rothe/article_mean_score_regression/runs/cqasn3nk' target=\"_blank\">https://wandb.ai/rothe/article_mean_score_regression/runs/cqasn3nk</a><br/>Synced 5 W&B file(s), 0 media file(s), 0 artifact file(s) and 0 other file(s)"
      ],
      "text/plain": [
       "<IPython.core.display.HTML object>"
      ]
     },
     "metadata": {},
     "output_type": "display_data"
    },
    {
     "data": {
      "text/html": [
       "Find logs at: <code>.\\wandb\\run-20230812_183810-cqasn3nk\\logs</code>"
      ],
      "text/plain": [
       "<IPython.core.display.HTML object>"
      ]
     },
     "metadata": {},
     "output_type": "display_data"
    },
    {
     "data": {
      "text/html": [
       "Successfully finished last run (ID:cqasn3nk). Initializing new run:<br/>"
      ],
      "text/plain": [
       "<IPython.core.display.HTML object>"
      ]
     },
     "metadata": {},
     "output_type": "display_data"
    },
    {
     "data": {
      "text/html": [
       "wandb version 0.15.8 is available!  To upgrade, please run:\n",
       " $ pip install wandb --upgrade"
      ],
      "text/plain": [
       "<IPython.core.display.HTML object>"
      ]
     },
     "metadata": {},
     "output_type": "display_data"
    },
    {
     "data": {
      "text/html": [
       "Tracking run with wandb version 0.15.5"
      ],
      "text/plain": [
       "<IPython.core.display.HTML object>"
      ]
     },
     "metadata": {},
     "output_type": "display_data"
    },
    {
     "data": {
      "text/html": [
       "Run data is saved locally in <code>s:\\Sync\\University\\2023_MRP_1\\MRP1_WorkDir\\model_scripts\\wandb\\run-20230812_183831-jyc5vpe2</code>"
      ],
      "text/plain": [
       "<IPython.core.display.HTML object>"
      ]
     },
     "metadata": {},
     "output_type": "display_data"
    },
    {
     "data": {
      "text/html": [
       "Syncing run <strong><a href='https://wandb.ai/rothe/article_mean_score_regression/runs/jyc5vpe2' target=\"_blank\">neat-feather-161</a></strong> to <a href='https://wandb.ai/rothe/article_mean_score_regression' target=\"_blank\">Weights & Biases</a> (<a href='https://wandb.me/run' target=\"_blank\">docs</a>)<br/>"
      ],
      "text/plain": [
       "<IPython.core.display.HTML object>"
      ]
     },
     "metadata": {},
     "output_type": "display_data"
    },
    {
     "data": {
      "text/html": [
       " View project at <a href='https://wandb.ai/rothe/article_mean_score_regression' target=\"_blank\">https://wandb.ai/rothe/article_mean_score_regression</a>"
      ],
      "text/plain": [
       "<IPython.core.display.HTML object>"
      ]
     },
     "metadata": {},
     "output_type": "display_data"
    },
    {
     "data": {
      "text/html": [
       " View run at <a href='https://wandb.ai/rothe/article_mean_score_regression/runs/jyc5vpe2' target=\"_blank\">https://wandb.ai/rothe/article_mean_score_regression/runs/jyc5vpe2</a>"
      ],
      "text/plain": [
       "<IPython.core.display.HTML object>"
      ]
     },
     "metadata": {},
     "output_type": "display_data"
    },
    {
     "name": "stdout",
     "output_type": "stream",
     "text": [
      "<class 'torch.Tensor'> <class 'torch.Tensor'> torch.Size([98, 768]) torch.Size([98])\n"
     ]
    },
    {
     "name": "stderr",
     "output_type": "stream",
     "text": [
      "Epoch: 100%|██████████| 40/40 [00:00<00:00, 123.79it/s]\n"
     ]
    }
   ],
   "source": [
    "device = torch.device('cuda' if torch.cuda.is_available() else 'cpu')\n",
    "    \n",
    "os.environ[\"TORCH_DISTRIBUTED_DEBUG\"]=\"DETAIL\"\n",
    "\n",
    "os.environ[\"WANDB_API_KEY.\"]=\"925f0f3c8de42f022a0a5a390aab9845cb5c92cf\"\n",
    "#wandb.login()\n",
    "# WandB – Initialize a new run\n",
    "wandb.init(project=\"article_mean_score_regression\")\n",
    "# save the trained model checkpoint to wandb\n",
    "#os.environ[\"WANDB_LOG_MODEL\"]=\"true\"\n",
    "# turn off watch to log faster\n",
    "os.environ[\"WANDB_WATCH\"]=\"all\"\n",
    "\n",
    "training_args = TrainingArguments(output_dir=model_output_dir,\n",
    "                                        #report_to=\"wandb\",\n",
    "                                        #logging_steps=5,\n",
    "                                        #run_name=\"...\", # A descriptor for the run. Typically used for wandb logging.\n",
    "                                        label_names= [\"targets\"],\n",
    "                                        remove_unused_columns=False,\n",
    "                                        per_device_train_batch_size=64,\n",
    "                                        per_device_eval_batch_size=8,\n",
    "                                        #dataloader_drop_last=True, \n",
    "                                        #gradient_accumulation_steps=2,\n",
    "                                        #gradient_checkpointing=True,\n",
    "                                        #fp16=True,#,tf32=True,\n",
    "                                        optim=\"adamw_torch\",\n",
    "                                        learning_rate=0.01,\n",
    "                                        num_train_epochs=40,\n",
    "                                        #max_steps = 25,\n",
    "                                        save_strategy=\"epoch\",\n",
    "                                        save_steps = 2,\n",
    "                                        #do_eval=True,\n",
    "                                        evaluation_strategy=\"epoch\", \n",
    "                                        #eval_steps=20, #10,\n",
    "                                        seed=global_seed,\n",
    "                                        dataloader_pin_memory=False,\n",
    "                                        deepspeed=None,\n",
    "                                        )\n",
    "    \n",
    "# Store some key paramters to the WandB config for later reference\n",
    "config = wandb.config          # Initialize config\n",
    "\n",
    "config.TRAIN_BATCH_SIZE = training_args.per_device_train_batch_size  \n",
    "config.VALID_BATCH_SIZE = training_args.per_device_eval_batch_size   \n",
    "config.TRAIN_EPOCHS = training_args.num_train_epochs           \n",
    "#config.VAL_EPOCHS = training_args.num_eval_epochs      \n",
    "config.LEARNING_RATE = training_args.learning_rate    \n",
    "config.SEED = training_args.seed\n",
    "\n",
    "use_trainer_class = False\n",
    "likelihood = gpytorch.likelihoods.GaussianLikelihood()\n",
    "#likelihood = gpytorch.likelihoods.BetaLikelihood()\n",
    "likelihood_label = \"GaussianLikelihood\" if isinstance(likelihood, gpytorch.likelihoods.GaussianLikelihood) else \"BetaLikelihood\"\n",
    "likelihood.to(device)\n",
    "\n",
    "print(type(X_train), type(y_train), X_train.shape, y_train.shape)\n",
    "if isinstance(X_train, np.ndarray):\n",
    "    X_train = torch.from_numpy(X_train).float()\n",
    "if isinstance(y_train, np.ndarray):\n",
    "    y_train = torch.from_numpy(y_train).float()\n",
    "if y_train.shape != torch.Size([y_train.shape[0]]):\n",
    "    y_train = y_train.squeeze(-1)\n",
    "\n",
    "\n",
    "if isinstance(likelihood, gpytorch.likelihoods.BetaLikelihood):\n",
    "    embedding_regressor = CustomApproximateGPModel(X_train).to(device)\n",
    "    # \"Loss\" for GPs - the marginal log likelihood\n",
    "    mll = gpytorch.mlls.VariationalELBO(likelihood, embedding_regressor, num_data=len(y_train))\n",
    "    \n",
    "else:\n",
    "    embedding_regressor = CustomExactGPModel(X_train, y_train, likelihood).to(device)\n",
    "    # \"Loss\" for GPs - the marginal log likelihood\n",
    "    mll = gpytorch.mlls.ExactMarginalLogLikelihood(likelihood, embedding_regressor)\n",
    "    \n",
    "\n",
    "\n",
    "#optimizer = torch.optim.AdamW(embedding_regressor.parameters(), lr=training_args.learning_rate)\n",
    "\n",
    "# Find optimal model hyperparameters\n",
    "embedding_regressor.train()\n",
    "likelihood.train()\n",
    "\n",
    "# Use the adam optimizer\n",
    "optimizer = torch.optim.Adam(embedding_regressor.parameters(), lr=training_args.learning_rate)  # Includes GaussianLikelihood parameters\n",
    "\n",
    "def dispersion(likelihood, y_model, y_true):\n",
    "    y_model = likelihood(y_model).mean\n",
    "    return -torch.mean(torch.abs(y_model - y_true) * torch.abs(y_model.t() - y_model))\n",
    "\n",
    "epochs_iter = tqdm(range(training_args.num_train_epochs), desc=\"Epoch\")\n",
    "for i in epochs_iter:\n",
    "    optimizer.zero_grad()\n",
    "    output = embedding_regressor(X_train.to(device))\n",
    "    loss = -mll(output, y_train.squeeze(-1).to(device)) #+ 0.4*dispersion(likelihood, output, y_train.squeeze(-1).to(device))\n",
    "    loss.backward()\n",
    "    #print('Iter %d/%d - Loss: %.3f   lengthscale: %.3f   noise: %.3f' % (i + 1, epochs_iter, loss.item(),\n",
    "    #            torch.mean(embedding_regressor.covar_module.base_kernel.lengthscale).item(),\n",
    "    #            embedding_regressor.likelihood.noise.item()\n",
    "    #            ))\n",
    "    optimizer.step()\n",
    "\n",
    "\n",
    "            "
   ]
  },
  {
   "cell_type": "code",
   "execution_count": 29,
   "metadata": {},
   "outputs": [
    {
     "name": "stdout",
     "output_type": "stream",
     "text": [
      "RMSE:  0.106433354\n",
      "r2:  -0.12399653705271874\n"
     ]
    },
    {
     "data": {
      "image/png": "[encoded data removed]",
      "text/plain": [
       "<Figure size 900x900 with 1 Axes>"
      ]
     },
     "metadata": {},
     "output_type": "display_data"
    }
   ],
   "source": [
    "import matplotlib\n",
    "#Import r2_score\n",
    "from sklearn.metrics import r2_score\n",
    "\n",
    "# Get into evaluation (predictive posterior) mode\n",
    "embedding_regressor.eval()\n",
    "likelihood.eval()\n",
    "\n",
    "if isinstance(X_train, np.ndarray):\n",
    "    X_train = torch.from_numpy(X_train).float()\n",
    "if isinstance(X_val, np.ndarray):\n",
    "    X_val = torch.from_numpy(X_val).float()\n",
    "\n",
    "probe_dim_idx = 2\n",
    "# Test points are regularly spaced along [0,1]\n",
    "# Make predictions by feeding model through likelihood\n",
    "with torch.no_grad(), gpytorch.settings.fast_pred_var():\n",
    "    observed_pred = likelihood(embedding_regressor(X_val.to(device)))\n",
    "\n",
    "with torch.no_grad():\n",
    "    # Initialize plot\n",
    "    #f, ax = plt.subplots(1, 1, figsize=(4, 3))\n",
    "\n",
    "    # Get upper and lower confidence bounds\n",
    "    #lower, upper = observed_pred.confidence_region()\n",
    "    # Plot training data as black stars\n",
    "    #ax.plot(X_train[:, probe_dim_idx].numpy(), y_train.numpy(), 'k*')\n",
    "    # Plot predictive means as blue line\n",
    "    #ax.plot(X_val[:, probe_dim_idx].cpu().numpy(), observed_pred.mean.cpu().numpy(), 'b')\n",
    "    # Shade between the lower and upper confidence bounds\n",
    "    #ax.fill_between(X_val[:, probe_dim_idx].cpu().numpy(), lower.cpu().numpy(), upper.cpu().numpy(), alpha=0.5)\n",
    "    #ax.set_ylim([-3, 3])\n",
    "    #ax.legend(['Observed Data', 'Mean', 'Confidence'])\n",
    "\n",
    "    np_observed_pred = observed_pred.mean.cpu().numpy()\n",
    "    rmse = np.sqrt(np.mean((np_observed_pred - y_val)**2))\n",
    "    r2 = r2_score(y_val, np_observed_pred)\n",
    "    print('RMSE: ', rmse)\n",
    "    print('r2: ', r2)\n",
    "    \n",
    "\n",
    "    f, ax = matplotlib.pyplot.subplots(1, 1, figsize=(9, 9))\n",
    "    \n",
    "    #observed_pred = torch.mean(observed_pred.mean, dim=0)\n",
    "\n",
    "    ax.plot(y_val, observed_pred.mean.cpu().numpy(), 'b.')\n",
    "    ax.plot([0, 1], [0, 1], 'k-')\n",
    "\n",
    "    #ax.fill_between(X_val[:, probe_dim_idx].cpu().numpy(), lower.cpu().numpy(), upper.cpu().numpy(), alpha=0.5)\n",
    "\n",
    "\n"
   ]
  },
  {
   "cell_type": "code",
   "execution_count": 43,
   "metadata": {},
   "outputs": [
    {
     "data": {
      "text/html": [
       "Changes to your `wandb` environment variables will be ignored because your `wandb` session has already started. For more information on how to modify your settings with `wandb.init()` arguments, please refer to <a href='https://wandb.me/wandb-init' target=\"_blank\">the W&B docs</a>."
      ],
      "text/plain": [
       "<IPython.core.display.HTML object>"
      ]
     },
     "metadata": {},
     "output_type": "display_data"
    },
    {
     "data": {
      "text/html": [
       "Finishing last run (ID:37unjg0z) before initializing another..."
      ],
      "text/plain": [
       "<IPython.core.display.HTML object>"
      ]
     },
     "metadata": {},
     "output_type": "display_data"
    },
    {
     "data": {
      "text/html": [
       "Waiting for W&B process to finish... <strong style=\"color:green\">(success).</strong>"
      ],
      "text/plain": [
       "<IPython.core.display.HTML object>"
      ]
     },
     "metadata": {},
     "output_type": "display_data"
    },
    {
     "data": {
      "text/html": [
       "<style>\n",
       "    table.wandb td:nth-child(1) { padding: 0 10px; text-align: left ; width: auto;} td:nth-child(2) {text-align: left ; width: 100%}\n",
       "    .wandb-row { display: flex; flex-direction: row; flex-wrap: wrap; justify-content: flex-start; width: 100% }\n",
       "    .wandb-col { display: flex; flex-direction: column; flex-basis: 100%; flex: 1; padding: 10px; }\n",
       "    </style>\n",
       "<div class=\"wandb-row\"><div class=\"wandb-col\"><h3>Run history:</h3><br/><table class=\"wandb\"><tr><td>loss</td><td>█▇▆▅▅▄▃▂▂▂▃▂▂▄▃▄▂▂▁▁▄▃▇▂▅▄▂▁▃▃▁▂▁▁▂▃▂▁▇▂</td></tr></table><br/></div><div class=\"wandb-col\"><h3>Run summary:</h3><br/><table class=\"wandb\"><tr><td>loss</td><td>-0.98361</td></tr></table><br/></div></div>"
      ],
      "text/plain": [
       "<IPython.core.display.HTML object>"
      ]
     },
     "metadata": {},
     "output_type": "display_data"
    },
    {
     "data": {
      "text/html": [
       " View run <strong style=\"color:#cdcd00\">whole-valley-138</strong> at: <a href='https://wandb.ai/rothe/article_mean_score_regression/runs/37unjg0z' target=\"_blank\">https://wandb.ai/rothe/article_mean_score_regression/runs/37unjg0z</a><br/>Synced 5 W&B file(s), 0 media file(s), 0 artifact file(s) and 0 other file(s)"
      ],
      "text/plain": [
       "<IPython.core.display.HTML object>"
      ]
     },
     "metadata": {},
     "output_type": "display_data"
    },
    {
     "data": {
      "text/html": [
       "Find logs at: <code>.\\wandb\\run-20230811_125526-37unjg0z\\logs</code>"
      ],
      "text/plain": [
       "<IPython.core.display.HTML object>"
      ]
     },
     "metadata": {},
     "output_type": "display_data"
    },
    {
     "data": {
      "text/html": [
       "Successfully finished last run (ID:37unjg0z). Initializing new run:<br/>"
      ],
      "text/plain": [
       "<IPython.core.display.HTML object>"
      ]
     },
     "metadata": {},
     "output_type": "display_data"
    },
    {
     "data": {
      "text/html": [
       "wandb version 0.15.8 is available!  To upgrade, please run:\n",
       " $ pip install wandb --upgrade"
      ],
      "text/plain": [
       "<IPython.core.display.HTML object>"
      ]
     },
     "metadata": {},
     "output_type": "display_data"
    },
    {
     "data": {
      "text/html": [
       "Tracking run with wandb version 0.15.5"
      ],
      "text/plain": [
       "<IPython.core.display.HTML object>"
      ]
     },
     "metadata": {},
     "output_type": "display_data"
    },
    {
     "data": {
      "text/html": [
       "Run data is saved locally in <code>s:\\Sync\\University\\2023_MRP_1\\MRP1_WorkDir\\model_scripts\\wandb\\run-20230811_152514-juhj7xyz</code>"
      ],
      "text/plain": [
       "<IPython.core.display.HTML object>"
      ]
     },
     "metadata": {},
     "output_type": "display_data"
    },
    {
     "data": {
      "text/html": [
       "Syncing run <strong><a href='https://wandb.ai/rothe/article_mean_score_regression/runs/juhj7xyz' target=\"_blank\">driven-dawn-139</a></strong> to <a href='https://wandb.ai/rothe/article_mean_score_regression' target=\"_blank\">Weights & Biases</a> (<a href='https://wandb.me/run' target=\"_blank\">docs</a>)<br/>"
      ],
      "text/plain": [
       "<IPython.core.display.HTML object>"
      ]
     },
     "metadata": {},
     "output_type": "display_data"
    },
    {
     "data": {
      "text/html": [
       " View project at <a href='https://wandb.ai/rothe/article_mean_score_regression' target=\"_blank\">https://wandb.ai/rothe/article_mean_score_regression</a>"
      ],
      "text/plain": [
       "<IPython.core.display.HTML object>"
      ]
     },
     "metadata": {},
     "output_type": "display_data"
    },
    {
     "data": {
      "text/html": [
       " View run at <a href='https://wandb.ai/rothe/article_mean_score_regression/runs/juhj7xyz' target=\"_blank\">https://wandb.ai/rothe/article_mean_score_regression/runs/juhj7xyz</a>"
      ],
      "text/plain": [
       "<IPython.core.display.HTML object>"
      ]
     },
     "metadata": {},
     "output_type": "display_data"
    },
    {
     "name": "stderr",
     "output_type": "stream",
     "text": [
      "Epoch: 100%|██████████| 4000/4000 [05:25<00:00, 12.27it/s]\n"
     ]
    }
   ],
   "source": [
    "device = torch.device('cuda' if torch.cuda.is_available() else 'cpu')\n",
    "    \n",
    "os.environ[\"TORCH_DISTRIBUTED_DEBUG\"]=\"DETAIL\"\n",
    "\n",
    "os.environ[\"WANDB_API_KEY.\"]=\"925f0f3c8de42f022a0a5a390aab9845cb5c92cf\"\n",
    "#wandb.login()\n",
    "# WandB – Initialize a new run\n",
    "wandb.init(project=\"article_mean_score_regression\")\n",
    "# save the trained model checkpoint to wandb\n",
    "#os.environ[\"WANDB_LOG_MODEL\"]=\"true\"\n",
    "# turn off watch to log faster\n",
    "os.environ[\"WANDB_WATCH\"]=\"all\"\n",
    "\n",
    "training_args = TrainingArguments(output_dir=model_output_dir,\n",
    "                                        #report_to=\"wandb\",\n",
    "                                        #logging_steps=5,\n",
    "                                        #run_name=\"...\", # A descriptor for the run. Typically used for wandb logging.\n",
    "                                        label_names= [\"targets\"],\n",
    "                                        remove_unused_columns=False,\n",
    "                                        per_device_train_batch_size=32,\n",
    "                                        per_device_eval_batch_size=8,\n",
    "                                        #dataloader_drop_last=True, \n",
    "                                        #gradient_accumulation_steps=2,\n",
    "                                        #gradient_checkpointing=True,\n",
    "                                        #fp16=True,#,tf32=True,\n",
    "                                        optim=\"adamw_torch\",\n",
    "                                        learning_rate=0.002,\n",
    "                                        num_train_epochs=4000,\n",
    "                                        #max_steps = 25,\n",
    "                                        save_strategy=\"epoch\",\n",
    "                                        save_steps = 2,\n",
    "                                        #do_eval=True,\n",
    "                                        evaluation_strategy=\"epoch\", \n",
    "                                        #eval_steps=20, #10,\n",
    "                                        seed=global_seed,\n",
    "                                        dataloader_pin_memory=False,\n",
    "                                        deepspeed=None,\n",
    "                                        )\n",
    "    \n",
    "# Store some key paramters to the WandB config for later reference\n",
    "config = wandb.config          # Initialize config\n",
    "\n",
    "config.TRAIN_BATCH_SIZE = training_args.per_device_train_batch_size  \n",
    "config.VALID_BATCH_SIZE = training_args.per_device_eval_batch_size   \n",
    "config.TRAIN_EPOCHS = training_args.num_train_epochs           \n",
    "#config.VAL_EPOCHS = training_args.num_eval_epochs      \n",
    "config.LEARNING_RATE = training_args.learning_rate    \n",
    "config.SEED = training_args.seed\n",
    "\n",
    "variational_learning_rate = 0.1\n",
    "use_NGD = True\n",
    "use_trainer_class = False\n",
    "\n",
    "############################################################################\n",
    "############################################################################\n",
    "############################################################################\n",
    "\n",
    "num_inducing_points = len(y_train) #Initialiye with 200 random points from the training set\n",
    "inducing_points = []\n",
    "for idx in range(num_inducing_points):\n",
    "    inducing_points.append(X_train[idx, :])\n",
    "    \n",
    "inducing_points = torch.concatenate([ind_point.reshape(1, -1) for ind_point in inducing_points], axis=0)\n",
    "inducing_points = inducing_points\n",
    "\n",
    "likelihood = gpytorch.likelihoods.GaussianLikelihood()\n",
    "#likelihood = gpytorch.likelihoods.BetaLikelihood()\n",
    "likelihood_label = \"GaussianLikelihood\" if isinstance(likelihood, gpytorch.likelihoods.GaussianLikelihood) else \"BetaLikelihood\"\n",
    "likelihood.to(device)\n",
    "\n",
    "\n",
    "if use_NGD:\n",
    "    variational_dist_label = \"NaturalVariationalDistribution\"\n",
    "    #variational_dist_label = \"TrilNaturalVariationalDistribution\"\n",
    "    embedding_regressor = CustomVariationalGPModelWithNGD(inducing_points=inducing_points, likelihood_label=likelihood_label, variational_dist_label=variational_dist_label)\n",
    "    embedding_regressor.to(device)\n",
    "\n",
    "    variational_ngd_optimizer = gpytorch.optim.NGD(embedding_regressor.variational_parameters(), \n",
    "                                                   num_data=len(train_data), \n",
    "                                                   lr=variational_learning_rate)\n",
    "\n",
    "else:\n",
    "    embedding_regressor = CustomVariationalGPModel(inducing_points=inducing_points, likelihood_label=likelihood_label)\n",
    "    embedding_regressor.to(device)\n",
    "\n",
    "gp_loss = gpytorch.mlls.VariationalELBO(likelihood, embedding_regressor, num_data=len(train_data)) #num_data: Number of \n",
    "\n",
    "train_loader = DataLoader(train_data, batch_size=training_args.per_device_train_batch_size, shuffle=True)\n",
    "val_loader = DataLoader(val_data, batch_size=training_args.per_device_eval_batch_size,shuffle=False)\n",
    "\n",
    "# Start training\n",
    "\n",
    "embedding_regressor.train()\n",
    "likelihood.train()\n",
    "\n",
    "\n",
    "if not use_trainer_class and use_NGD:\n",
    "    \n",
    "    hyperparameter_optimizer = torch.optim.Adam([\n",
    "        {'params': embedding_regressor.hyperparameters()},\n",
    "        {'params': likelihood.parameters()},\n",
    "    ], lr=training_args.learning_rate)\n",
    "\n",
    "    epochs_iter = tqdm(range(training_args.num_train_epochs), desc=\"Epoch\")\n",
    "    for i in epochs_iter:\n",
    "        # Within each iteration, we will go over each minibatch of data\n",
    "        minibatch_iter = tqdm(train_loader, desc=\"Minibatch\", leave=False)\n",
    "        for batch in minibatch_iter:\n",
    "            ### Perform NGD step to optimize variational parameters\n",
    "            variational_ngd_optimizer.zero_grad()\n",
    "            hyperparameter_optimizer.zero_grad()\n",
    "            output = embedding_regressor(batch[\"embeddings\"].to(device))\n",
    "            loss = -gp_loss(output, batch[\"targets\"].squeeze(-1).to(device))\n",
    "            wandb.log({\"loss\": loss.item()})\n",
    "            minibatch_iter.set_postfix(loss=loss.item())\n",
    "            loss.backward()\n",
    "            variational_ngd_optimizer.step()\n",
    "            hyperparameter_optimizer.step()\n",
    "\n",
    "if not use_trainer_class and not use_NGD:\n",
    "\n",
    "    optimizer = torch.optim.AdamW([\n",
    "        {'params': embedding_regressor.parameters()},\n",
    "        {'params': likelihood.parameters()},\n",
    "    ], lr=training_args.learning_rate)\n",
    "\n",
    "    epochs_iter = tqdm(range(training_args.num_train_epochs), desc=\"Epoch\")\n",
    "    for i in epochs_iter:\n",
    "        # Within each iteration, we will go over each minibatch of data\n",
    "        minibatch_iter = tqdm(train_loader, desc=\"Minibatch\", leave=False)\n",
    "        for batch in minibatch_iter:\n",
    "            optimizer.zero_grad()\n",
    "            output = embedding_regressor(batch[\"embeddings\"].to(device))\n",
    "            loss = -gp_loss(output, batch[\"targets\"].squeeze(-1).to(device))\n",
    "            minibatch_iter.set_postfix(loss=loss.item())\n",
    "            loss.backward()\n",
    "            optimizer.step()\n",
    "            \n",
    "            \n",
    "\n",
    "elif use_trainer_class:\n",
    "    \n",
    "    trainer = CustomEnd2EndGPRegressionTrainer(model=embedding_regressor,\n",
    "                                                args=training_args,\n",
    "                                                loss_func_or_wrapper=gp_loss,\n",
    "                                                likelihood=likelihood,\n",
    "                                                device=device,\n",
    "                                                train_dataset=train_data,\n",
    "                                                eval_dataset=val_data,\n",
    "                                                #data_collator=data_collator,\n",
    "                                                #compute_metrics=compute_metrics,\n",
    "                                            )\n",
    "\n",
    "    trainer.train()\n",
    "            \n",
    "\n",
    "    "
   ]
  },
  {
   "cell_type": "code",
   "execution_count": null,
   "metadata": {},
   "outputs": [],
   "source": [
    "c"
   ]
  },
  {
   "cell_type": "markdown",
   "metadata": {},
   "source": [
    "#### Evaluation"
   ]
  },
  {
   "cell_type": "code",
   "execution_count": 35,
   "metadata": {},
   "outputs": [
    {
     "name": "stdout",
     "output_type": "stream",
     "text": [
      "f_preds:  MultivariateNormal(loc: torch.Size([32]), covariance_matrix: torch.Size([32, 32]))\n",
      "f Result:  torch.Size([32]) torch.Size([32, 1])\n",
      "y Result:  torch.Size([32]) torch.Size([32, 1]) tensor([0.0187, 0.0187, 0.0187, 0.0187, 0.0187, 0.0187, 0.0187, 0.0187, 0.0187,\n",
      "        0.0187, 0.0187, 0.0187, 0.0187, 0.0187, 0.0187, 0.0187, 0.0187, 0.0187,\n",
      "        0.0187, 0.0187, 0.0187, 0.0187, 0.0187, 0.0187, 0.0187, 0.0187, 0.0187,\n",
      "        0.0187, 0.0187, 0.0187, 0.0187, 0.0187], device='cuda:0')\n",
      "Errors:  tensor([[0.0706, 0.0706, 0.0706,  ..., 0.0706, 0.0706, 0.0706],\n",
      "        [0.0644, 0.0644, 0.0644,  ..., 0.0644, 0.0644, 0.0644],\n",
      "        [0.1731, 0.1731, 0.1731,  ..., 0.1731, 0.1731, 0.1731],\n",
      "        ...,\n",
      "        [0.1394, 0.1394, 0.1394,  ..., 0.1394, 0.1394, 0.1394],\n",
      "        [0.1981, 0.1981, 0.1981,  ..., 0.1981, 0.1981, 0.1981],\n",
      "        [0.0356, 0.0356, 0.0356,  ..., 0.0356, 0.0356, 0.0356]],\n",
      "       device='cuda:0')\n",
      "Finished computing metrics\n",
      "Targets:  [[0.375  ]\n",
      " [0.36875]\n",
      " [0.13125]\n",
      " [0.3125 ]\n",
      " [0.35   ]\n",
      " [0.18125]\n",
      " [0.25   ]\n",
      " [0.54375]\n",
      " [0.4    ]\n",
      " [0.45625]\n",
      " [0.3125 ]\n",
      " [0.14375]\n",
      " [0.26875]\n",
      " [0.70625]\n",
      " [0.19375]\n",
      " [0.68125]\n",
      " [0.54375]\n",
      " [0.48125]\n",
      " [0.10625]\n",
      " [0.3125 ]\n",
      " [0.29375]\n",
      " [0.2125 ]\n",
      " [0.5    ]\n",
      " [0.18125]\n",
      " [0.3    ]\n",
      " [0.4375 ]\n",
      " [0.3375 ]\n",
      " [0.275  ]\n",
      " [0.2875 ]\n",
      " [0.44375]\n",
      " [0.10625]\n",
      " [0.26875]]\n",
      "Outputs:  [0.3043602 0.3043602 0.3043602 0.3043602 0.3043602 0.3043602 0.3043602\n",
      " 0.3043602 0.3043602 0.3043602 0.3043602 0.3043602 0.3043602 0.3043602\n",
      " 0.3043602 0.3043602 0.3043602 0.3043602 0.3043602 0.3043602 0.3043602\n",
      " 0.3043602 0.3043602 0.3043602 0.3043602 0.3043602 0.3043602 0.3043602\n",
      " 0.3043602 0.3043602 0.3043602 0.3043602]\n",
      "f Mean:  [0.3043602 0.3043602 0.3043602 0.3043602 0.3043602 0.3043602 0.3043602\n",
      " 0.3043602 0.3043602 0.3043602 0.3043602 0.3043602 0.3043602 0.3043602\n",
      " 0.3043602 0.3043602 0.3043602 0.3043602 0.3043602 0.3043602 0.3043602\n",
      " 0.3043602 0.3043602 0.3043602 0.3043602 0.3043602 0.3043602 0.3043602\n",
      " 0.3043602 0.3043602 0.3043602 0.3043602]\n",
      "{'mse_loss': 0.02380133606493473, 'mae_loss': 0.11730560660362244}\n",
      "Completed evaluation on 0 batches out of 4\n",
      "f_preds:  MultivariateNormal(loc: torch.Size([32]), covariance_matrix: torch.Size([32, 32]))\n",
      "f Result:  torch.Size([32]) torch.Size([32, 1])\n",
      "y Result:  torch.Size([32]) torch.Size([32, 1]) tensor([0.0187, 0.0187, 0.0187, 0.0187, 0.0187, 0.0187, 0.0187, 0.0187, 0.0187,\n",
      "        0.0187, 0.0187, 0.0187, 0.0187, 0.0187, 0.0187, 0.0187, 0.0187, 0.0187,\n",
      "        0.0187, 0.0187, 0.0187, 0.0187, 0.0187, 0.0187, 0.0187, 0.0187, 0.0187,\n",
      "        0.0187, 0.0187, 0.0187, 0.0187, 0.0187], device='cuda:0')\n",
      "Errors:  tensor([[0.0081, 0.0081, 0.0081,  ..., 0.0081, 0.0081, 0.0081],\n",
      "        [0.1331, 0.1331, 0.1331,  ..., 0.1331, 0.1331, 0.1331],\n",
      "        [0.0019, 0.0019, 0.0019,  ..., 0.0019, 0.0019, 0.0019],\n",
      "        ...,\n",
      "        [0.0231, 0.0231, 0.0231,  ..., 0.0231, 0.0231, 0.0231],\n",
      "        [0.0894, 0.0894, 0.0894,  ..., 0.0894, 0.0894, 0.0894],\n",
      "        [0.1456, 0.1456, 0.1456,  ..., 0.1456, 0.1456, 0.1456]],\n",
      "       device='cuda:0')\n",
      "Finished computing metrics\n",
      "Targets:  [[0.3125 ]\n",
      " [0.4375 ]\n",
      " [0.30625]\n",
      " [0.3375 ]\n",
      " [0.275  ]\n",
      " [0.425  ]\n",
      " [0.04375]\n",
      " [0.50625]\n",
      " [0.1625 ]\n",
      " [0.43125]\n",
      " [0.39375]\n",
      " [0.325  ]\n",
      " [0.48125]\n",
      " [0.4375 ]\n",
      " [0.3875 ]\n",
      " [0.50625]\n",
      " [0.24375]\n",
      " [0.34375]\n",
      " [0.4125 ]\n",
      " [0.38125]\n",
      " [0.1875 ]\n",
      " [0.5    ]\n",
      " [0.4375 ]\n",
      " [0.35625]\n",
      " [0.15   ]\n",
      " [0.6375 ]\n",
      " [0.24375]\n",
      " [0.1125 ]\n",
      " [0.5125 ]\n",
      " [0.28125]\n",
      " [0.39375]\n",
      " [0.45   ]]\n",
      "Outputs:  [0.3043602 0.3043602 0.3043602 0.3043602 0.3043602 0.3043602 0.3043602\n",
      " 0.3043602 0.3043602 0.3043602 0.3043602 0.3043602 0.3043602 0.3043602\n",
      " 0.3043602 0.3043602 0.3043602 0.3043602 0.3043602 0.3043602 0.3043602\n",
      " 0.3043602 0.3043602 0.3043602 0.3043602 0.3043602 0.3043602 0.3043602\n",
      " 0.3043602 0.3043602 0.3043602 0.3043602]\n",
      "f Mean:  [0.3043602 0.3043602 0.3043602 0.3043602 0.3043602 0.3043602 0.3043602\n",
      " 0.3043602 0.3043602 0.3043602 0.3043602 0.3043602 0.3043602 0.3043602\n",
      " 0.3043602 0.3043602 0.3043602 0.3043602 0.3043602 0.3043602 0.3043602\n",
      " 0.3043602 0.3043602 0.3043602 0.3043602 0.3043602 0.3043602 0.3043602\n",
      " 0.3043602 0.3043602 0.3043602 0.3043602]\n",
      "{'mse_loss': 0.019620295614004135, 'mae_loss': 0.1172330379486084}\n",
      "f_preds:  MultivariateNormal(loc: torch.Size([32]), covariance_matrix: torch.Size([32, 32]))\n",
      "f Result:  torch.Size([32]) torch.Size([32, 1])\n",
      "y Result:  torch.Size([32]) torch.Size([32, 1]) tensor([0.0187, 0.0187, 0.0187, 0.0187, 0.0187, 0.0187, 0.0187, 0.0187, 0.0187,\n",
      "        0.0187, 0.0187, 0.0187, 0.0187, 0.0187, 0.0187, 0.0187, 0.0187, 0.0187,\n",
      "        0.0187, 0.0187, 0.0187, 0.0187, 0.0187, 0.0187, 0.0187, 0.0187, 0.0187,\n",
      "        0.0187, 0.0187, 0.0187, 0.0187, 0.0187], device='cuda:0')\n",
      "Errors:  tensor([[0.0044, 0.0044, 0.0044,  ..., 0.0044, 0.0044, 0.0044],\n",
      "        [0.0269, 0.0269, 0.0269,  ..., 0.0269, 0.0269, 0.0269],\n",
      "        [0.0581, 0.0581, 0.0581,  ..., 0.0581, 0.0581, 0.0581],\n",
      "        ...,\n",
      "        [0.2044, 0.2044, 0.2044,  ..., 0.2044, 0.2044, 0.2044],\n",
      "        [0.0956, 0.0956, 0.0956,  ..., 0.0956, 0.0956, 0.0956],\n",
      "        [0.0856, 0.0856, 0.0856,  ..., 0.0856, 0.0856, 0.0856]],\n",
      "       device='cuda:0')\n",
      "Finished computing metrics\n",
      "Targets:  [[0.3    ]\n",
      " [0.33125]\n",
      " [0.3625 ]\n",
      " [0.49375]\n",
      " [0.54375]\n",
      " [0.36875]\n",
      " [0.375  ]\n",
      " [0.325  ]\n",
      " [0.375  ]\n",
      " [0.2875 ]\n",
      " [0.325  ]\n",
      " [0.25625]\n",
      " [0.325  ]\n",
      " [0.35   ]\n",
      " [0.14375]\n",
      " [0.425  ]\n",
      " [0.475  ]\n",
      " [0.2875 ]\n",
      " [0.33125]\n",
      " [0.53125]\n",
      " [0.19375]\n",
      " [0.46875]\n",
      " [0.54375]\n",
      " [0.51875]\n",
      " [0.38125]\n",
      " [0.45   ]\n",
      " [0.225  ]\n",
      " [0.54375]\n",
      " [0.3    ]\n",
      " [0.1    ]\n",
      " [0.4    ]\n",
      " [0.21875]]\n",
      "Outputs:  [0.3043602 0.3043602 0.3043602 0.3043602 0.3043602 0.3043602 0.3043602\n",
      " 0.3043602 0.3043602 0.3043602 0.3043602 0.3043602 0.3043602 0.3043602\n",
      " 0.3043602 0.3043602 0.3043602 0.3043602 0.3043602 0.3043602 0.3043602\n",
      " 0.3043602 0.3043602 0.3043602 0.3043602 0.3043602 0.3043602 0.3043602\n",
      " 0.3043602 0.3043602 0.3043602 0.3043602]\n",
      "f Mean:  [0.3043602 0.3043602 0.3043602 0.3043602 0.3043602 0.3043602 0.3043602\n",
      " 0.3043602 0.3043602 0.3043602 0.3043602 0.3043602 0.3043602 0.3043602\n",
      " 0.3043602 0.3043602 0.3043602 0.3043602 0.3043602 0.3043602 0.3043602\n",
      " 0.3043602 0.3043602 0.3043602 0.3043602 0.3043602 0.3043602 0.3043602\n",
      " 0.3043602 0.3043602 0.3043602 0.3043602]\n",
      "{'mse_loss': 0.016589179635047913, 'mae_loss': 0.10246648639440536}\n",
      "f_preds:  MultivariateNormal(loc: torch.Size([2]), covariance_matrix: torch.Size([2, 2]))\n",
      "f Result:  torch.Size([2]) torch.Size([2, 1])\n",
      "y Result:  torch.Size([2]) torch.Size([2, 1]) tensor([0.0187, 0.0187], device='cuda:0')\n",
      "Errors:  tensor([[0.2456, 0.2456],\n",
      "        [0.0731, 0.0731]], device='cuda:0')\n",
      "Finished computing metrics\n",
      "Targets:  [[0.55   ]\n",
      " [0.23125]]\n",
      "Outputs:  [0.3043602 0.3043602]\n",
      "f Mean:  [0.3043602 0.3043602]\n",
      "{'mse_loss': 0.032842006534338, 'mae_loss': 0.15937501192092896}\n",
      "Total Metrics:  {'mse_loss': 0.004574085280182771}\n",
      "f_preds:  MultivariateNormal(loc: torch.Size([8]), covariance_matrix: torch.Size([8, 8]))\n",
      "f Result:  torch.Size([8]) torch.Size([8, 1])\n",
      "y Result:  torch.Size([8]) torch.Size([8, 1]) tensor([0.0187, 0.0187, 0.0187, 0.0187, 0.0187, 0.0187, 0.0187, 0.0187],\n",
      "       device='cuda:0')\n",
      "Errors:  tensor([[0.0706, 0.0706, 0.0706, 0.0706, 0.0706, 0.0706, 0.0706, 0.0706],\n",
      "        [0.0019, 0.0019, 0.0019, 0.0019, 0.0019, 0.0019, 0.0019, 0.0019],\n",
      "        [0.2269, 0.2269, 0.2269, 0.2269, 0.2269, 0.2269, 0.2269, 0.2269],\n",
      "        [0.0419, 0.0419, 0.0419, 0.0419, 0.0419, 0.0419, 0.0419, 0.0419],\n",
      "        [0.1831, 0.1831, 0.1831, 0.1831, 0.1831, 0.1831, 0.1831, 0.1831],\n",
      "        [0.1081, 0.1081, 0.1081, 0.1081, 0.1081, 0.1081, 0.1081, 0.1081],\n",
      "        [0.2019, 0.2019, 0.2019, 0.2019, 0.2019, 0.2019, 0.2019, 0.2019],\n",
      "        [0.0206, 0.0206, 0.0206, 0.0206, 0.0206, 0.0206, 0.0206, 0.0206]],\n",
      "       device='cuda:0')\n",
      "Finished computing metrics\n",
      "Targets:  [[0.375  ]\n",
      " [0.30625]\n",
      " [0.53125]\n",
      " [0.2625 ]\n",
      " [0.4875 ]\n",
      " [0.4125 ]\n",
      " [0.50625]\n",
      " [0.325  ]]\n",
      "Outputs:  [0.3043602 0.3043602 0.3043602 0.3043602 0.3043602 0.3043602 0.3043602\n",
      " 0.3043602]\n",
      "f Mean:  [0.3043602 0.3043602 0.3043602 0.3043602 0.3043602 0.3043602 0.3043602\n",
      " 0.3043602]\n",
      "{'mse_loss': 0.018080588430166245, 'mae_loss': 0.10688610374927521}\n",
      "Completed evaluation on 0 batches out of 4\n",
      "f_preds:  MultivariateNormal(loc: torch.Size([8]), covariance_matrix: torch.Size([8, 8]))\n",
      "f Result:  torch.Size([8]) torch.Size([8, 1])\n",
      "y Result:  torch.Size([8]) torch.Size([8, 1]) tensor([0.0187, 0.0187, 0.0187, 0.0187, 0.0187, 0.0187, 0.0187, 0.0187],\n",
      "       device='cuda:0')\n",
      "Errors:  tensor([[0.2019, 0.2019, 0.2019, 0.2019, 0.2019, 0.2019, 0.2019, 0.2019],\n",
      "        [0.1481, 0.1481, 0.1481, 0.1481, 0.1481, 0.1481, 0.1481, 0.1481],\n",
      "        [0.0544, 0.0544, 0.0544, 0.0544, 0.0544, 0.0544, 0.0544, 0.0544],\n",
      "        [0.0794, 0.0794, 0.0794, 0.0794, 0.0794, 0.0794, 0.0794, 0.0794],\n",
      "        [0.0831, 0.0831, 0.0831, 0.0831, 0.0831, 0.0831, 0.0831, 0.0831],\n",
      "        [0.0706, 0.0706, 0.0706, 0.0706, 0.0706, 0.0706, 0.0706, 0.0706],\n",
      "        [0.0544, 0.0544, 0.0544, 0.0544, 0.0544, 0.0544, 0.0544, 0.0544],\n",
      "        [0.0019, 0.0019, 0.0019, 0.0019, 0.0019, 0.0019, 0.0019, 0.0019]],\n",
      "       device='cuda:0')\n",
      "Finished computing metrics\n",
      "Targets:  [[0.50625]\n",
      " [0.15625]\n",
      " [0.25   ]\n",
      " [0.225  ]\n",
      " [0.3875 ]\n",
      " [0.375  ]\n",
      " [0.25   ]\n",
      " [0.30625]]\n",
      "Outputs:  [0.3043602 0.3043602 0.3043602 0.3043602 0.3043602 0.3043602 0.3043602\n",
      " 0.3043602]\n",
      "f Mean:  [0.3043602 0.3043602 0.3043602 0.3043602 0.3043602 0.3043602 0.3043602\n",
      " 0.3043602]\n",
      "{'mse_loss': 0.010851251892745495, 'mae_loss': 0.08671875298023224}\n",
      "f_preds:  MultivariateNormal(loc: torch.Size([8]), covariance_matrix: torch.Size([8, 8]))\n",
      "f Result:  torch.Size([8]) torch.Size([8, 1])\n",
      "y Result:  torch.Size([8]) torch.Size([8, 1]) tensor([0.0187, 0.0187, 0.0187, 0.0187, 0.0187, 0.0187, 0.0187, 0.0187],\n",
      "       device='cuda:0')\n",
      "Errors:  tensor([[0.0769, 0.0769, 0.0769, 0.0769, 0.0769, 0.0769, 0.0769, 0.0769],\n",
      "        [0.0706, 0.0706, 0.0706, 0.0706, 0.0706, 0.0706, 0.0706, 0.0706],\n",
      "        [0.1081, 0.1081, 0.1081, 0.1081, 0.1081, 0.1081, 0.1081, 0.1081],\n",
      "        [0.0831, 0.0831, 0.0831, 0.0831, 0.0831, 0.0831, 0.0831, 0.0831],\n",
      "        [0.2206, 0.2206, 0.2206, 0.2206, 0.2206, 0.2206, 0.2206, 0.2206],\n",
      "        [0.0731, 0.0731, 0.0731, 0.0731, 0.0731, 0.0731, 0.0731, 0.0731],\n",
      "        [0.0581, 0.0581, 0.0581, 0.0581, 0.0581, 0.0581, 0.0581, 0.0581],\n",
      "        [0.0394, 0.0394, 0.0394, 0.0394, 0.0394, 0.0394, 0.0394, 0.0394]],\n",
      "       device='cuda:0')\n",
      "Finished computing metrics\n",
      "Targets:  [[0.38125]\n",
      " [0.375  ]\n",
      " [0.4125 ]\n",
      " [0.3875 ]\n",
      " [0.525  ]\n",
      " [0.23125]\n",
      " [0.3625 ]\n",
      " [0.34375]]\n",
      "Outputs:  [0.3043602 0.3043602 0.3043602 0.3043602 0.3043602 0.3043602 0.3043602\n",
      " 0.3043602]\n",
      "f Mean:  [0.3043602 0.3043602 0.3043602 0.3043602 0.3043602 0.3043602 0.3043602\n",
      " 0.3043602]\n",
      "{'mse_loss': 0.01105840690433979, 'mae_loss': 0.09126108884811401}\n",
      "f_preds:  MultivariateNormal(loc: tensor([0.3044], device='cuda:0'), covariance_matrix: tensor([[0.0002]], device='cuda:0'))\n",
      "f Result:  torch.Size([1]) torch.Size([1, 1])\n",
      "y Result:  torch.Size([1]) torch.Size([1, 1]) tensor([0.0187], device='cuda:0')\n",
      "Errors:  tensor([[0.1644]], device='cuda:0')\n",
      "Finished computing metrics\n",
      "Targets:  [[0.46875]]\n",
      "Outputs:  [0.3043602]\n",
      "f Mean:  [0.3043602]\n",
      "{'mse_loss': 0.027024002745747566, 'mae_loss': 0.16438978910446167}\n",
      "Total Metrics:  {'mse_loss': 0.008005695912288502}\n"
     ]
    }
   ],
   "source": [
    "\n",
    "train_preds_df = evaluate_gp_model(embedding_regressor, likelihood, train_loader, \"./del.csv\", device)\n",
    "preds_df = evaluate_gp_model(embedding_regressor, likelihood, val_loader, \"./gp_preds.csv\", device)\n",
    "\n",
    "y_train_pred = train_preds_df[\"prediction\"].values\n",
    "y_pred = preds_df[\"prediction\"].values\n"
   ]
  },
  {
   "cell_type": "code",
   "execution_count": 36,
   "metadata": {},
   "outputs": [
    {
     "name": "stdout",
     "output_type": "stream",
     "text": [
      "(25,) (25, 1)\n",
      "[0.01868634 0.01868634 0.01868634 0.01868634 0.01868634 0.01868634\n",
      " 0.01868634 0.01868634 0.01868634 0.01868634 0.01868634 0.01868634\n",
      " 0.01868634 0.01868634 0.01868634 0.01868634 0.01868634 0.01868634\n",
      " 0.01868634 0.01868634 0.01868634 0.01868634 0.01868634 0.01868634\n",
      " 0.01868634]\n"
     ]
    }
   ],
   "source": [
    "print(y_pred.shape, y_val.shape)\n",
    "print(preds_df[\"variability\"].values)"
   ]
  },
  {
   "cell_type": "code",
   "execution_count": null,
   "metadata": {},
   "outputs": [],
   "source": []
  },
  {
   "cell_type": "code",
   "execution_count": null,
   "metadata": {},
   "outputs": [],
   "source": []
  },
  {
   "cell_type": "code",
   "execution_count": 37,
   "metadata": {},
   "outputs": [
    {
     "data": {
      "text/plain": [
       "<matplotlib.collections.PathCollection at 0x199a90ba510>"
      ]
     },
     "execution_count": 37,
     "metadata": {},
     "output_type": "execute_result"
    },
    {
     "data": {
      "image/png": "[encoded data removed]",
      "text/plain": [
       "<Figure size 640x480 with 1 Axes>"
      ]
     },
     "metadata": {},
     "output_type": "display_data"
    }
   ],
   "source": [
    "import matplotlib.pyplot as plt\n",
    "\n",
    "hidden_feat_idx = 5\n",
    "\n",
    "plt.scatter(X_train[:, hidden_feat_idx], y_train, label=\"data\")\n",
    "plt.scatter(X_train[:, hidden_feat_idx], y_train_pred, label=\"prediction\")\n"
   ]
  },
  {
   "cell_type": "code",
   "execution_count": 38,
   "metadata": {},
   "outputs": [
    {
     "data": {
      "text/plain": [
       "[<matplotlib.lines.Line2D at 0x199a909ab10>]"
      ]
     },
     "execution_count": 38,
     "metadata": {},
     "output_type": "execute_result"
    },
    {
     "data": {
      "image/png": "[encoded data removed]",
      "text/plain": [
       "<Figure size 640x480 with 1 Axes>"
      ]
     },
     "metadata": {},
     "output_type": "display_data"
    }
   ],
   "source": [
    "plt.scatter(y_train_pred, y_train)\n",
    "plt.xlabel(\"Predicted\")\n",
    "plt.ylabel(\"Actual\")\n",
    "#Diagonal line is the ideal\n",
    "#plot!([0, 1], [0, 1], linestyle=:dash, color=:black, alpha=0.5)\n",
    "plt.plot([0, 1], [0, 1], linestyle='--', color='black', alpha=0.5)\n",
    "#legend!(false)"
   ]
  },
  {
   "cell_type": "code",
   "execution_count": 39,
   "metadata": {},
   "outputs": [
    {
     "data": {
      "text/plain": [
       "Text(0, 0.5, 'Actual')"
      ]
     },
     "execution_count": 39,
     "metadata": {},
     "output_type": "execute_result"
    },
    {
     "data": {
      "image/png": "[encoded data removed]",
      "text/plain": [
       "<Figure size 640x480 with 1 Axes>"
      ]
     },
     "metadata": {},
     "output_type": "display_data"
    }
   ],
   "source": [
    "\n",
    "plt.scatter(y_pred, y_val)\n",
    "plt.plot([0, 1], [0, 1], 'k--')\n",
    "plt.xlabel('Predicted')\n",
    "plt.ylabel('Actual')"
   ]
  }
 ],
 "metadata": {
  "kernelspec": {
   "display_name": "Python 3",
   "language": "python",
   "name": "python3"
  },
  "language_info": {
   "codemirror_mode": {
    "name": "ipython",
    "version": 3
   },
   "file_extension": ".py",
   "mimetype": "text/x-python",
   "name": "python",
   "nbconvert_exporter": "python",
   "pygments_lexer": "ipython3",
   "version": "3.11.5"
  },
  "orig_nbformat": 4
 },
 "nbformat": 4,
 "nbformat_minor": 2
}
