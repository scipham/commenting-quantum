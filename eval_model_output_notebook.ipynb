{
 "cells": [
  {
   "cell_type": "code",
   "execution_count": 1,
   "metadata": {},
   "outputs": [
    {
     "name": "stderr",
     "output_type": "stream",
     "text": [
      "c:\\Users\\trothe\\AppData\\Local\\Programs\\Python\\Python310\\lib\\site-packages\\tqdm\\auto.py:22: TqdmWarning: IProgress not found. Please update jupyter and ipywidgets. See https://ipywidgets.readthedocs.io/en/stable/user_install.html\n",
      "  from .autonotebook import tqdm as notebook_tqdm\n"
     ]
    }
   ],
   "source": [
    "# Imports:\n",
    "import numpy as np\n",
    "import pandas as pd\n",
    "\n",
    "#from model_output_eval import cosine_similarity_score, rouge_similarity_score, in_out_correlation_score\n",
    "from model_output_eval import load_complete_split_reddit_data, load_limited_split_data\n",
    "from model_output_eval import model_collect_scores"
   ]
  },
  {
   "attachments": {},
   "cell_type": "markdown",
   "metadata": {},
   "source": [
    "### Bare Dataset - Complete"
   ]
  },
  {
   "cell_type": "code",
   "execution_count": 2,
   "metadata": {},
   "outputs": [
    {
     "name": "stdout",
     "output_type": "stream",
     "text": [
      "Found 216 article ids in generated comments and 217 article ids in reference comments\n",
      "Sentence embedding length> 768\n"
     ]
    },
    {
     "name": "stderr",
     "output_type": "stream",
     "text": [
      "Training epochs:   0%|          | 0/3 [00:00<?, ?it/s]"
     ]
    },
    {
     "name": "stdout",
     "output_type": "stream",
     "text": [
      "Running epoch: 1\n"
     ]
    },
    {
     "name": "stderr",
     "output_type": "stream",
     "text": [
      "Training epochs:  33%|███▎      | 1/3 [00:06<00:13,  6.96s/it]"
     ]
    },
    {
     "name": "stdout",
     "output_type": "stream",
     "text": [
      "Loss for this epoch: 5.32204069466976\n",
      "Running epoch: 2\n"
     ]
    },
    {
     "name": "stderr",
     "output_type": "stream",
     "text": [
      "Training epochs:  67%|██████▋   | 2/3 [00:13<00:06,  6.99s/it]"
     ]
    },
    {
     "name": "stdout",
     "output_type": "stream",
     "text": [
      "Loss for this epoch: 5.27530677122658\n",
      "Running epoch: 3\n"
     ]
    },
    {
     "name": "stderr",
     "output_type": "stream",
     "text": [
      "Training epochs: 100%|██████████| 3/3 [00:21<00:00,  7.00s/it]\n"
     ]
    },
    {
     "name": "stdout",
     "output_type": "stream",
     "text": [
      "Loss for this epoch: 5.252282387532896\n"
     ]
    },
    {
     "name": "stderr",
     "output_type": "stream",
     "text": [
      "Evaluation batches: 100%|██████████| 335/335 [00:00<00:00, 3617.23it/s]"
     ]
    },
    {
     "name": "stdout",
     "output_type": "stream",
     "text": [
      "Average evaluation loss: 5.2503146854799185\n",
      "Classification accuracy: 0.13880597054958344\n",
      "[tensor(0, dtype=torch.int32), tensor(1, dtype=torch.int32), tensor(1, dtype=torch.int32), tensor(1, dtype=torch.int32), tensor(2, dtype=torch.int32), tensor(3, dtype=torch.int32), tensor(3, dtype=torch.int32), tensor(3, dtype=torch.int32), tensor(3, dtype=torch.int32), tensor(3, dtype=torch.int32), tensor(3, dtype=torch.int32), tensor(3, dtype=torch.int32), tensor(3, dtype=torch.int32), tensor(3, dtype=torch.int32), tensor(3, dtype=torch.int32), tensor(3, dtype=torch.int32), tensor(3, dtype=torch.int32), tensor(3, dtype=torch.int32), tensor(3, dtype=torch.int32), tensor(3, dtype=torch.int32), tensor(3, dtype=torch.int32), tensor(3, dtype=torch.int32), tensor(3, dtype=torch.int32), tensor(3, dtype=torch.int32), tensor(3, dtype=torch.int32), tensor(4, dtype=torch.int32), tensor(4, dtype=torch.int32), tensor(4, dtype=torch.int32), tensor(4, dtype=torch.int32), tensor(4, dtype=torch.int32), tensor(4, dtype=torch.int32), tensor(4, dtype=torch.int32), tensor(4, dtype=torch.int32), tensor(4, dtype=torch.int32), tensor(5, dtype=torch.int32), tensor(5, dtype=torch.int32), tensor(5, dtype=torch.int32), tensor(5, dtype=torch.int32), tensor(5, dtype=torch.int32), tensor(5, dtype=torch.int32), tensor(5, dtype=torch.int32), tensor(5, dtype=torch.int32), tensor(5, dtype=torch.int32), tensor(5, dtype=torch.int32), tensor(5, dtype=torch.int32), tensor(6, dtype=torch.int32), tensor(6, dtype=torch.int32), tensor(6, dtype=torch.int32), tensor(6, dtype=torch.int32), tensor(6, dtype=torch.int32), tensor(6, dtype=torch.int32), tensor(6, dtype=torch.int32), tensor(6, dtype=torch.int32), tensor(6, dtype=torch.int32), tensor(6, dtype=torch.int32), tensor(7, dtype=torch.int32), tensor(8, dtype=torch.int32), tensor(8, dtype=torch.int32), tensor(8, dtype=torch.int32), tensor(8, dtype=torch.int32), tensor(8, dtype=torch.int32), tensor(8, dtype=torch.int32), tensor(8, dtype=torch.int32), tensor(8, dtype=torch.int32), tensor(8, dtype=torch.int32), tensor(8, dtype=torch.int32), tensor(8, dtype=torch.int32), tensor(8, dtype=torch.int32), tensor(8, dtype=torch.int32), tensor(9, dtype=torch.int32), tensor(9, dtype=torch.int32), tensor(9, dtype=torch.int32), tensor(10, dtype=torch.int32), tensor(11, dtype=torch.int32), tensor(11, dtype=torch.int32), tensor(12, dtype=torch.int32), tensor(12, dtype=torch.int32), tensor(12, dtype=torch.int32), tensor(12, dtype=torch.int32), tensor(12, dtype=torch.int32), tensor(12, dtype=torch.int32), tensor(13, dtype=torch.int32), tensor(13, dtype=torch.int32), tensor(13, dtype=torch.int32), tensor(13, dtype=torch.int32), tensor(15, dtype=torch.int32), tensor(15, dtype=torch.int32), tensor(15, dtype=torch.int32), tensor(16, dtype=torch.int32), tensor(16, dtype=torch.int32), tensor(16, dtype=torch.int32), tensor(16, dtype=torch.int32), tensor(16, dtype=torch.int32), tensor(16, dtype=torch.int32), tensor(16, dtype=torch.int32), tensor(17, dtype=torch.int32), tensor(17, dtype=torch.int32), tensor(17, dtype=torch.int32), tensor(17, dtype=torch.int32), tensor(18, dtype=torch.int32), tensor(18, dtype=torch.int32), tensor(18, dtype=torch.int32), tensor(18, dtype=torch.int32), tensor(18, dtype=torch.int32), tensor(18, dtype=torch.int32), tensor(19, dtype=torch.int32), tensor(19, dtype=torch.int32), tensor(19, dtype=torch.int32), tensor(19, dtype=torch.int32), tensor(19, dtype=torch.int32), tensor(19, dtype=torch.int32), tensor(19, dtype=torch.int32), tensor(19, dtype=torch.int32), tensor(20, dtype=torch.int32), tensor(20, dtype=torch.int32), tensor(20, dtype=torch.int32), tensor(20, dtype=torch.int32), tensor(20, dtype=torch.int32), tensor(20, dtype=torch.int32), tensor(20, dtype=torch.int32), tensor(20, dtype=torch.int32), tensor(20, dtype=torch.int32), tensor(20, dtype=torch.int32), tensor(20, dtype=torch.int32), tensor(20, dtype=torch.int32), tensor(20, dtype=torch.int32), tensor(20, dtype=torch.int32), tensor(20, dtype=torch.int32), tensor(20, dtype=torch.int32), tensor(20, dtype=torch.int32), tensor(20, dtype=torch.int32), tensor(20, dtype=torch.int32), tensor(20, dtype=torch.int32), tensor(20, dtype=torch.int32), tensor(20, dtype=torch.int32), tensor(20, dtype=torch.int32), tensor(21, dtype=torch.int32), tensor(21, dtype=torch.int32), tensor(21, dtype=torch.int32), tensor(21, dtype=torch.int32), tensor(21, dtype=torch.int32), tensor(21, dtype=torch.int32), tensor(21, dtype=torch.int32), tensor(21, dtype=torch.int32), tensor(21, dtype=torch.int32), tensor(21, dtype=torch.int32), tensor(21, dtype=torch.int32), tensor(22, dtype=torch.int32), tensor(22, dtype=torch.int32), tensor(22, dtype=torch.int32), tensor(22, dtype=torch.int32), tensor(22, dtype=torch.int32), tensor(22, dtype=torch.int32), tensor(22, dtype=torch.int32), tensor(23, dtype=torch.int32), tensor(23, dtype=torch.int32), tensor(23, dtype=torch.int32), tensor(23, dtype=torch.int32), tensor(23, dtype=torch.int32), tensor(23, dtype=torch.int32), tensor(23, dtype=torch.int32), tensor(24, dtype=torch.int32), tensor(24, dtype=torch.int32), tensor(24, dtype=torch.int32), tensor(25, dtype=torch.int32), tensor(25, dtype=torch.int32), tensor(25, dtype=torch.int32), tensor(25, dtype=torch.int32), tensor(26, dtype=torch.int32), tensor(26, dtype=torch.int32), tensor(26, dtype=torch.int32), tensor(27, dtype=torch.int32), tensor(27, dtype=torch.int32), tensor(27, dtype=torch.int32), tensor(27, dtype=torch.int32), tensor(27, dtype=torch.int32), tensor(27, dtype=torch.int32), tensor(27, dtype=torch.int32), tensor(27, dtype=torch.int32), tensor(27, dtype=torch.int32), tensor(27, dtype=torch.int32), tensor(28, dtype=torch.int32), tensor(28, dtype=torch.int32), tensor(29, dtype=torch.int32), tensor(29, dtype=torch.int32), tensor(29, dtype=torch.int32), tensor(30, dtype=torch.int32), tensor(31, dtype=torch.int32), tensor(31, dtype=torch.int32), tensor(31, dtype=torch.int32), tensor(31, dtype=torch.int32), tensor(31, dtype=torch.int32), tensor(31, dtype=torch.int32), tensor(31, dtype=torch.int32), tensor(31, dtype=torch.int32), tensor(31, dtype=torch.int32), tensor(31, dtype=torch.int32), tensor(31, dtype=torch.int32), tensor(31, dtype=torch.int32), tensor(31, dtype=torch.int32), tensor(31, dtype=torch.int32), tensor(31, dtype=torch.int32), tensor(32, dtype=torch.int32), tensor(32, dtype=torch.int32), tensor(32, dtype=torch.int32), tensor(32, dtype=torch.int32), tensor(32, dtype=torch.int32), tensor(32, dtype=torch.int32), tensor(33, dtype=torch.int32), tensor(33, dtype=torch.int32), tensor(33, dtype=torch.int32), tensor(33, dtype=torch.int32), tensor(33, dtype=torch.int32), tensor(33, dtype=torch.int32), tensor(33, dtype=torch.int32), tensor(33, dtype=torch.int32), tensor(33, dtype=torch.int32), tensor(33, dtype=torch.int32), tensor(33, dtype=torch.int32), tensor(33, dtype=torch.int32), tensor(33, dtype=torch.int32), tensor(34, dtype=torch.int32), tensor(34, dtype=torch.int32), tensor(34, dtype=torch.int32), tensor(34, dtype=torch.int32), tensor(35, dtype=torch.int32), tensor(35, dtype=torch.int32), tensor(35, dtype=torch.int32), tensor(35, dtype=torch.int32), tensor(35, dtype=torch.int32), tensor(35, dtype=torch.int32), tensor(35, dtype=torch.int32), tensor(35, dtype=torch.int32), tensor(35, dtype=torch.int32), tensor(36, dtype=torch.int32), tensor(36, dtype=torch.int32), tensor(36, dtype=torch.int32), tensor(37, dtype=torch.int32), tensor(37, dtype=torch.int32), tensor(37, dtype=torch.int32), tensor(37, dtype=torch.int32), tensor(37, dtype=torch.int32), tensor(37, dtype=torch.int32), tensor(38, dtype=torch.int32), tensor(38, dtype=torch.int32), tensor(38, dtype=torch.int32), tensor(38, dtype=torch.int32), tensor(38, dtype=torch.int32), tensor(38, dtype=torch.int32), tensor(39, dtype=torch.int32), tensor(39, dtype=torch.int32), tensor(39, dtype=torch.int32), tensor(39, dtype=torch.int32), tensor(40, dtype=torch.int32), tensor(40, dtype=torch.int32), tensor(41, dtype=torch.int32), tensor(41, dtype=torch.int32), tensor(41, dtype=torch.int32), tensor(41, dtype=torch.int32), tensor(42, dtype=torch.int32), tensor(42, dtype=torch.int32), tensor(42, dtype=torch.int32), tensor(42, dtype=torch.int32), tensor(42, dtype=torch.int32), tensor(42, dtype=torch.int32), tensor(42, dtype=torch.int32), tensor(42, dtype=torch.int32), tensor(42, dtype=torch.int32), tensor(42, dtype=torch.int32), tensor(42, dtype=torch.int32), tensor(42, dtype=torch.int32), tensor(42, dtype=torch.int32), tensor(42, dtype=torch.int32), tensor(43, dtype=torch.int32), tensor(43, dtype=torch.int32), tensor(43, dtype=torch.int32), tensor(43, dtype=torch.int32), tensor(44, dtype=torch.int32), tensor(44, dtype=torch.int32), tensor(44, dtype=torch.int32), tensor(44, dtype=torch.int32), tensor(45, dtype=torch.int32), tensor(45, dtype=torch.int32), tensor(45, dtype=torch.int32), tensor(45, dtype=torch.int32), tensor(45, dtype=torch.int32), tensor(45, dtype=torch.int32), tensor(46, dtype=torch.int32), tensor(47, dtype=torch.int32), tensor(47, dtype=torch.int32), tensor(47, dtype=torch.int32), tensor(48, dtype=torch.int32), tensor(48, dtype=torch.int32), tensor(48, dtype=torch.int32), tensor(48, dtype=torch.int32), tensor(48, dtype=torch.int32), tensor(49, dtype=torch.int32), tensor(49, dtype=torch.int32), tensor(49, dtype=torch.int32), tensor(49, dtype=torch.int32), tensor(49, dtype=torch.int32), tensor(49, dtype=torch.int32), tensor(50, dtype=torch.int32), tensor(51, dtype=torch.int32), tensor(51, dtype=torch.int32), tensor(52, dtype=torch.int32), tensor(52, dtype=torch.int32), tensor(52, dtype=torch.int32), tensor(52, dtype=torch.int32), tensor(52, dtype=torch.int32), tensor(52, dtype=torch.int32), tensor(52, dtype=torch.int32), tensor(52, dtype=torch.int32), tensor(52, dtype=torch.int32), tensor(52, dtype=torch.int32), tensor(52, dtype=torch.int32), tensor(52, dtype=torch.int32), tensor(52, dtype=torch.int32), tensor(52, dtype=torch.int32), tensor(52, dtype=torch.int32), tensor(52, dtype=torch.int32), tensor(52, dtype=torch.int32), tensor(52, dtype=torch.int32), tensor(52, dtype=torch.int32), tensor(52, dtype=torch.int32), tensor(52, dtype=torch.int32), tensor(52, dtype=torch.int32), tensor(52, dtype=torch.int32), tensor(52, dtype=torch.int32), tensor(52, dtype=torch.int32), tensor(52, dtype=torch.int32), tensor(52, dtype=torch.int32), tensor(52, dtype=torch.int32), tensor(52, dtype=torch.int32), tensor(52, dtype=torch.int32), tensor(53, dtype=torch.int32), tensor(53, dtype=torch.int32), tensor(53, dtype=torch.int32), tensor(54, dtype=torch.int32), tensor(54, dtype=torch.int32), tensor(54, dtype=torch.int32), tensor(54, dtype=torch.int32), tensor(55, dtype=torch.int32), tensor(55, dtype=torch.int32), tensor(55, dtype=torch.int32), tensor(55, dtype=torch.int32), tensor(56, dtype=torch.int32), tensor(56, dtype=torch.int32), tensor(56, dtype=torch.int32), tensor(56, dtype=torch.int32), tensor(56, dtype=torch.int32), tensor(57, dtype=torch.int32), tensor(57, dtype=torch.int32), tensor(58, dtype=torch.int32), tensor(58, dtype=torch.int32), tensor(58, dtype=torch.int32), tensor(58, dtype=torch.int32), tensor(58, dtype=torch.int32), tensor(58, dtype=torch.int32), tensor(59, dtype=torch.int32), tensor(59, dtype=torch.int32), tensor(59, dtype=torch.int32), tensor(59, dtype=torch.int32), tensor(59, dtype=torch.int32), tensor(59, dtype=torch.int32), tensor(59, dtype=torch.int32), tensor(59, dtype=torch.int32), tensor(59, dtype=torch.int32), tensor(60, dtype=torch.int32), tensor(60, dtype=torch.int32), tensor(60, dtype=torch.int32), tensor(61, dtype=torch.int32), tensor(61, dtype=torch.int32), tensor(62, dtype=torch.int32), tensor(62, dtype=torch.int32), tensor(62, dtype=torch.int32), tensor(62, dtype=torch.int32), tensor(62, dtype=torch.int32), tensor(62, dtype=torch.int32), tensor(62, dtype=torch.int32), tensor(62, dtype=torch.int32), tensor(62, dtype=torch.int32), tensor(62, dtype=torch.int32), tensor(62, dtype=torch.int32), tensor(62, dtype=torch.int32), tensor(62, dtype=torch.int32), tensor(62, dtype=torch.int32), tensor(62, dtype=torch.int32), tensor(62, dtype=torch.int32), tensor(62, dtype=torch.int32), tensor(62, dtype=torch.int32), tensor(62, dtype=torch.int32), tensor(62, dtype=torch.int32), tensor(62, dtype=torch.int32), tensor(62, dtype=torch.int32), tensor(62, dtype=torch.int32), tensor(62, dtype=torch.int32), tensor(62, dtype=torch.int32), tensor(62, dtype=torch.int32), tensor(62, dtype=torch.int32), tensor(62, dtype=torch.int32), tensor(62, dtype=torch.int32), tensor(62, dtype=torch.int32), tensor(62, dtype=torch.int32), tensor(63, dtype=torch.int32), tensor(63, dtype=torch.int32), tensor(63, dtype=torch.int32), tensor(63, dtype=torch.int32), tensor(63, dtype=torch.int32), tensor(63, dtype=torch.int32), tensor(63, dtype=torch.int32), tensor(63, dtype=torch.int32), tensor(63, dtype=torch.int32), tensor(64, dtype=torch.int32), tensor(64, dtype=torch.int32), tensor(64, dtype=torch.int32), tensor(64, dtype=torch.int32), tensor(65, dtype=torch.int32), tensor(65, dtype=torch.int32), tensor(65, dtype=torch.int32), tensor(66, dtype=torch.int32), tensor(66, dtype=torch.int32), tensor(67, dtype=torch.int32), tensor(67, dtype=torch.int32), tensor(67, dtype=torch.int32), tensor(67, dtype=torch.int32), tensor(68, dtype=torch.int32), tensor(68, dtype=torch.int32), tensor(68, dtype=torch.int32), tensor(68, dtype=torch.int32), tensor(68, dtype=torch.int32), tensor(68, dtype=torch.int32), tensor(68, dtype=torch.int32), tensor(68, dtype=torch.int32), tensor(68, dtype=torch.int32), tensor(68, dtype=torch.int32), tensor(68, dtype=torch.int32), tensor(68, dtype=torch.int32), tensor(68, dtype=torch.int32), tensor(68, dtype=torch.int32), tensor(68, dtype=torch.int32), tensor(68, dtype=torch.int32), tensor(68, dtype=torch.int32), tensor(68, dtype=torch.int32), tensor(68, dtype=torch.int32), tensor(68, dtype=torch.int32), tensor(69, dtype=torch.int32), tensor(69, dtype=torch.int32), tensor(69, dtype=torch.int32), tensor(70, dtype=torch.int32), tensor(71, dtype=torch.int32), tensor(71, dtype=torch.int32), tensor(71, dtype=torch.int32), tensor(71, dtype=torch.int32), tensor(71, dtype=torch.int32), tensor(72, dtype=torch.int32), tensor(72, dtype=torch.int32), tensor(72, dtype=torch.int32), tensor(72, dtype=torch.int32), tensor(72, dtype=torch.int32), tensor(72, dtype=torch.int32), tensor(72, dtype=torch.int32), tensor(73, dtype=torch.int32), tensor(73, dtype=torch.int32), tensor(73, dtype=torch.int32), tensor(73, dtype=torch.int32), tensor(74, dtype=torch.int32), tensor(74, dtype=torch.int32), tensor(75, dtype=torch.int32), tensor(75, dtype=torch.int32), tensor(75, dtype=torch.int32), tensor(76, dtype=torch.int32), tensor(76, dtype=torch.int32), tensor(76, dtype=torch.int32), tensor(76, dtype=torch.int32), tensor(76, dtype=torch.int32), tensor(76, dtype=torch.int32), tensor(77, dtype=torch.int32), tensor(77, dtype=torch.int32), tensor(77, dtype=torch.int32), tensor(77, dtype=torch.int32), tensor(77, dtype=torch.int32), tensor(77, dtype=torch.int32), tensor(77, dtype=torch.int32), tensor(77, dtype=torch.int32), tensor(77, dtype=torch.int32), tensor(78, dtype=torch.int32), tensor(78, dtype=torch.int32), tensor(78, dtype=torch.int32), tensor(78, dtype=torch.int32), tensor(78, dtype=torch.int32), tensor(78, dtype=torch.int32), tensor(78, dtype=torch.int32), tensor(78, dtype=torch.int32), tensor(78, dtype=torch.int32), tensor(78, dtype=torch.int32), tensor(78, dtype=torch.int32), tensor(78, dtype=torch.int32), tensor(78, dtype=torch.int32), tensor(78, dtype=torch.int32), tensor(78, dtype=torch.int32), tensor(78, dtype=torch.int32), tensor(78, dtype=torch.int32), tensor(79, dtype=torch.int32), tensor(80, dtype=torch.int32), tensor(80, dtype=torch.int32), tensor(80, dtype=torch.int32), tensor(81, dtype=torch.int32), tensor(81, dtype=torch.int32), tensor(81, dtype=torch.int32), tensor(82, dtype=torch.int32), tensor(82, dtype=torch.int32), tensor(82, dtype=torch.int32), tensor(82, dtype=torch.int32), tensor(82, dtype=torch.int32), tensor(82, dtype=torch.int32), tensor(83, dtype=torch.int32), tensor(83, dtype=torch.int32), tensor(83, dtype=torch.int32), tensor(83, dtype=torch.int32), tensor(83, dtype=torch.int32), tensor(83, dtype=torch.int32), tensor(83, dtype=torch.int32), tensor(83, dtype=torch.int32), tensor(83, dtype=torch.int32), tensor(84, dtype=torch.int32), tensor(84, dtype=torch.int32), tensor(84, dtype=torch.int32), tensor(84, dtype=torch.int32), tensor(85, dtype=torch.int32), tensor(85, dtype=torch.int32), tensor(85, dtype=torch.int32), tensor(86, dtype=torch.int32), tensor(86, dtype=torch.int32), tensor(86, dtype=torch.int32), tensor(86, dtype=torch.int32), tensor(86, dtype=torch.int32), tensor(86, dtype=torch.int32), tensor(86, dtype=torch.int32), tensor(86, dtype=torch.int32), tensor(87, dtype=torch.int32), tensor(87, dtype=torch.int32), tensor(88, dtype=torch.int32), tensor(88, dtype=torch.int32), tensor(88, dtype=torch.int32), tensor(88, dtype=torch.int32), tensor(89, dtype=torch.int32), tensor(89, dtype=torch.int32), tensor(89, dtype=torch.int32), tensor(89, dtype=torch.int32), tensor(90, dtype=torch.int32), tensor(90, dtype=torch.int32), tensor(90, dtype=torch.int32), tensor(90, dtype=torch.int32), tensor(90, dtype=torch.int32), tensor(90, dtype=torch.int32), tensor(90, dtype=torch.int32), tensor(91, dtype=torch.int32), tensor(91, dtype=torch.int32), tensor(91, dtype=torch.int32), tensor(91, dtype=torch.int32), tensor(91, dtype=torch.int32), tensor(91, dtype=torch.int32), tensor(91, dtype=torch.int32), tensor(91, dtype=torch.int32), tensor(91, dtype=torch.int32), tensor(92, dtype=torch.int32), tensor(92, dtype=torch.int32), tensor(92, dtype=torch.int32), tensor(92, dtype=torch.int32), tensor(92, dtype=torch.int32), tensor(92, dtype=torch.int32), tensor(92, dtype=torch.int32), tensor(92, dtype=torch.int32), tensor(92, dtype=torch.int32), tensor(92, dtype=torch.int32), tensor(92, dtype=torch.int32), tensor(92, dtype=torch.int32), tensor(92, dtype=torch.int32), tensor(92, dtype=torch.int32), tensor(92, dtype=torch.int32), tensor(92, dtype=torch.int32), tensor(93, dtype=torch.int32), tensor(93, dtype=torch.int32), tensor(93, dtype=torch.int32), tensor(93, dtype=torch.int32), tensor(94, dtype=torch.int32), tensor(94, dtype=torch.int32), tensor(94, dtype=torch.int32), tensor(94, dtype=torch.int32), tensor(95, dtype=torch.int32), tensor(95, dtype=torch.int32), tensor(95, dtype=torch.int32), tensor(96, dtype=torch.int32), tensor(96, dtype=torch.int32), tensor(96, dtype=torch.int32), tensor(96, dtype=torch.int32), tensor(97, dtype=torch.int32), tensor(97, dtype=torch.int32), tensor(97, dtype=torch.int32), tensor(97, dtype=torch.int32), tensor(98, dtype=torch.int32), tensor(99, dtype=torch.int32), tensor(99, dtype=torch.int32), tensor(99, dtype=torch.int32), tensor(99, dtype=torch.int32), tensor(99, dtype=torch.int32), tensor(100, dtype=torch.int32), tensor(100, dtype=torch.int32), tensor(100, dtype=torch.int32), tensor(101, dtype=torch.int32), tensor(101, dtype=torch.int32), tensor(101, dtype=torch.int32), tensor(101, dtype=torch.int32), tensor(101, dtype=torch.int32), tensor(101, dtype=torch.int32), tensor(102, dtype=torch.int32), tensor(102, dtype=torch.int32), tensor(103, dtype=torch.int32), tensor(103, dtype=torch.int32), tensor(104, dtype=torch.int32), tensor(104, dtype=torch.int32), tensor(104, dtype=torch.int32), tensor(104, dtype=torch.int32), tensor(104, dtype=torch.int32), tensor(105, dtype=torch.int32), tensor(105, dtype=torch.int32), tensor(105, dtype=torch.int32), tensor(105, dtype=torch.int32), tensor(105, dtype=torch.int32), tensor(105, dtype=torch.int32), tensor(105, dtype=torch.int32), tensor(105, dtype=torch.int32), tensor(105, dtype=torch.int32), tensor(105, dtype=torch.int32), tensor(105, dtype=torch.int32), tensor(105, dtype=torch.int32), tensor(105, dtype=torch.int32), tensor(105, dtype=torch.int32), tensor(105, dtype=torch.int32), tensor(105, dtype=torch.int32), tensor(105, dtype=torch.int32), tensor(105, dtype=torch.int32), tensor(105, dtype=torch.int32), tensor(105, dtype=torch.int32), tensor(105, dtype=torch.int32), tensor(105, dtype=torch.int32), tensor(106, dtype=torch.int32), tensor(106, dtype=torch.int32), tensor(107, dtype=torch.int32), tensor(107, dtype=torch.int32), tensor(108, dtype=torch.int32), tensor(108, dtype=torch.int32), tensor(108, dtype=torch.int32), tensor(109, dtype=torch.int32), tensor(109, dtype=torch.int32), tensor(109, dtype=torch.int32), tensor(109, dtype=torch.int32), tensor(109, dtype=torch.int32), tensor(109, dtype=torch.int32), tensor(109, dtype=torch.int32), tensor(109, dtype=torch.int32), tensor(109, dtype=torch.int32), tensor(110, dtype=torch.int32), tensor(110, dtype=torch.int32), tensor(110, dtype=torch.int32), tensor(111, dtype=torch.int32), tensor(111, dtype=torch.int32), tensor(111, dtype=torch.int32), tensor(111, dtype=torch.int32), tensor(111, dtype=torch.int32), tensor(111, dtype=torch.int32), tensor(112, dtype=torch.int32), tensor(112, dtype=torch.int32), tensor(112, dtype=torch.int32), tensor(112, dtype=torch.int32), tensor(112, dtype=torch.int32), tensor(112, dtype=torch.int32), tensor(112, dtype=torch.int32), tensor(112, dtype=torch.int32), tensor(112, dtype=torch.int32), tensor(113, dtype=torch.int32), tensor(113, dtype=torch.int32), tensor(113, dtype=torch.int32), tensor(113, dtype=torch.int32), tensor(113, dtype=torch.int32), tensor(113, dtype=torch.int32), tensor(113, dtype=torch.int32), tensor(113, dtype=torch.int32), tensor(113, dtype=torch.int32), tensor(113, dtype=torch.int32), tensor(113, dtype=torch.int32), tensor(113, dtype=torch.int32), tensor(113, dtype=torch.int32), tensor(113, dtype=torch.int32), tensor(113, dtype=torch.int32), tensor(114, dtype=torch.int32), tensor(114, dtype=torch.int32), tensor(114, dtype=torch.int32), tensor(114, dtype=torch.int32), tensor(114, dtype=torch.int32), tensor(114, dtype=torch.int32), tensor(114, dtype=torch.int32), tensor(114, dtype=torch.int32), tensor(114, dtype=torch.int32), tensor(114, dtype=torch.int32), tensor(115, dtype=torch.int32), tensor(115, dtype=torch.int32), tensor(115, dtype=torch.int32), tensor(115, dtype=torch.int32), tensor(115, dtype=torch.int32), tensor(115, dtype=torch.int32), tensor(115, dtype=torch.int32), tensor(115, dtype=torch.int32), tensor(115, dtype=torch.int32), tensor(115, dtype=torch.int32), tensor(115, dtype=torch.int32), tensor(115, dtype=torch.int32), tensor(115, dtype=torch.int32), tensor(115, dtype=torch.int32), tensor(115, dtype=torch.int32), tensor(115, dtype=torch.int32), tensor(116, dtype=torch.int32), tensor(116, dtype=torch.int32), tensor(116, dtype=torch.int32), tensor(117, dtype=torch.int32), tensor(117, dtype=torch.int32), tensor(117, dtype=torch.int32), tensor(117, dtype=torch.int32), tensor(118, dtype=torch.int32), tensor(118, dtype=torch.int32), tensor(118, dtype=torch.int32), tensor(118, dtype=torch.int32), tensor(118, dtype=torch.int32), tensor(118, dtype=torch.int32), tensor(119, dtype=torch.int32), tensor(119, dtype=torch.int32), tensor(119, dtype=torch.int32), tensor(119, dtype=torch.int32), tensor(120, dtype=torch.int32), tensor(121, dtype=torch.int32), tensor(121, dtype=torch.int32), tensor(121, dtype=torch.int32), tensor(121, dtype=torch.int32), tensor(121, dtype=torch.int32), tensor(122, dtype=torch.int32), tensor(122, dtype=torch.int32), tensor(122, dtype=torch.int32), tensor(122, dtype=torch.int32), tensor(122, dtype=torch.int32), tensor(122, dtype=torch.int32), tensor(122, dtype=torch.int32), tensor(122, dtype=torch.int32), tensor(122, dtype=torch.int32), tensor(122, dtype=torch.int32), tensor(122, dtype=torch.int32), tensor(122, dtype=torch.int32), tensor(122, dtype=torch.int32), tensor(122, dtype=torch.int32), tensor(122, dtype=torch.int32), tensor(122, dtype=torch.int32), tensor(122, dtype=torch.int32), tensor(122, dtype=torch.int32), tensor(122, dtype=torch.int32), tensor(122, dtype=torch.int32), tensor(122, dtype=torch.int32), tensor(123, dtype=torch.int32), tensor(124, dtype=torch.int32), tensor(124, dtype=torch.int32), tensor(124, dtype=torch.int32), tensor(124, dtype=torch.int32), tensor(124, dtype=torch.int32), tensor(125, dtype=torch.int32), tensor(125, dtype=torch.int32), tensor(126, dtype=torch.int32), tensor(126, dtype=torch.int32), tensor(127, dtype=torch.int32), tensor(127, dtype=torch.int32), tensor(128, dtype=torch.int32), tensor(128, dtype=torch.int32), tensor(129, dtype=torch.int32), tensor(129, dtype=torch.int32), tensor(129, dtype=torch.int32), tensor(129, dtype=torch.int32), tensor(129, dtype=torch.int32), tensor(129, dtype=torch.int32), tensor(129, dtype=torch.int32), tensor(129, dtype=torch.int32), tensor(129, dtype=torch.int32), tensor(129, dtype=torch.int32), tensor(129, dtype=torch.int32), tensor(129, dtype=torch.int32), tensor(129, dtype=torch.int32), tensor(129, dtype=torch.int32), tensor(129, dtype=torch.int32), tensor(130, dtype=torch.int32), tensor(130, dtype=torch.int32), tensor(130, dtype=torch.int32), tensor(130, dtype=torch.int32), tensor(131, dtype=torch.int32), tensor(131, dtype=torch.int32), tensor(132, dtype=torch.int32), tensor(132, dtype=torch.int32), tensor(132, dtype=torch.int32), tensor(133, dtype=torch.int32), tensor(133, dtype=torch.int32), tensor(134, dtype=torch.int32), tensor(134, dtype=torch.int32), tensor(135, dtype=torch.int32), tensor(135, dtype=torch.int32), tensor(136, dtype=torch.int32), tensor(136, dtype=torch.int32), tensor(136, dtype=torch.int32), tensor(137, dtype=torch.int32), tensor(137, dtype=torch.int32), tensor(138, dtype=torch.int32), tensor(139, dtype=torch.int32), tensor(139, dtype=torch.int32), tensor(139, dtype=torch.int32), tensor(139, dtype=torch.int32), tensor(139, dtype=torch.int32), tensor(139, dtype=torch.int32), tensor(139, dtype=torch.int32), tensor(139, dtype=torch.int32), tensor(139, dtype=torch.int32), tensor(140, dtype=torch.int32), tensor(140, dtype=torch.int32), tensor(140, dtype=torch.int32), tensor(140, dtype=torch.int32), tensor(140, dtype=torch.int32), tensor(140, dtype=torch.int32), tensor(140, dtype=torch.int32), tensor(140, dtype=torch.int32), tensor(140, dtype=torch.int32), tensor(140, dtype=torch.int32), tensor(140, dtype=torch.int32), tensor(140, dtype=torch.int32), tensor(140, dtype=torch.int32), tensor(140, dtype=torch.int32), tensor(140, dtype=torch.int32), tensor(141, dtype=torch.int32), tensor(141, dtype=torch.int32), tensor(141, dtype=torch.int32), tensor(141, dtype=torch.int32), tensor(141, dtype=torch.int32), tensor(141, dtype=torch.int32), tensor(141, dtype=torch.int32), tensor(141, dtype=torch.int32), tensor(141, dtype=torch.int32), tensor(141, dtype=torch.int32), tensor(142, dtype=torch.int32), tensor(142, dtype=torch.int32), tensor(143, dtype=torch.int32), tensor(143, dtype=torch.int32), tensor(143, dtype=torch.int32), tensor(143, dtype=torch.int32), tensor(144, dtype=torch.int32), tensor(144, dtype=torch.int32), tensor(144, dtype=torch.int32), tensor(144, dtype=torch.int32), tensor(144, dtype=torch.int32), tensor(144, dtype=torch.int32), tensor(144, dtype=torch.int32), tensor(144, dtype=torch.int32), tensor(144, dtype=torch.int32), tensor(144, dtype=torch.int32), tensor(144, dtype=torch.int32), tensor(144, dtype=torch.int32), tensor(144, dtype=torch.int32), tensor(144, dtype=torch.int32), tensor(144, dtype=torch.int32), tensor(144, dtype=torch.int32), tensor(144, dtype=torch.int32), tensor(144, dtype=torch.int32), tensor(145, dtype=torch.int32), tensor(145, dtype=torch.int32), tensor(145, dtype=torch.int32), tensor(145, dtype=torch.int32), tensor(146, dtype=torch.int32), tensor(146, dtype=torch.int32), tensor(146, dtype=torch.int32), tensor(147, dtype=torch.int32), tensor(147, dtype=torch.int32), tensor(147, dtype=torch.int32), tensor(147, dtype=torch.int32), tensor(147, dtype=torch.int32), tensor(147, dtype=torch.int32), tensor(147, dtype=torch.int32), tensor(147, dtype=torch.int32), tensor(147, dtype=torch.int32), tensor(148, dtype=torch.int32), tensor(149, dtype=torch.int32), tensor(149, dtype=torch.int32), tensor(149, dtype=torch.int32), tensor(150, dtype=torch.int32), tensor(150, dtype=torch.int32), tensor(150, dtype=torch.int32), tensor(151, dtype=torch.int32), tensor(152, dtype=torch.int32), tensor(152, dtype=torch.int32), tensor(152, dtype=torch.int32), tensor(152, dtype=torch.int32), tensor(153, dtype=torch.int32), tensor(153, dtype=torch.int32), tensor(154, dtype=torch.int32), tensor(155, dtype=torch.int32), tensor(155, dtype=torch.int32), tensor(155, dtype=torch.int32), tensor(155, dtype=torch.int32), tensor(155, dtype=torch.int32), tensor(155, dtype=torch.int32), tensor(156, dtype=torch.int32), tensor(156, dtype=torch.int32), tensor(157, dtype=torch.int32), tensor(157, dtype=torch.int32), tensor(157, dtype=torch.int32), tensor(157, dtype=torch.int32), tensor(157, dtype=torch.int32), tensor(157, dtype=torch.int32), tensor(157, dtype=torch.int32), tensor(157, dtype=torch.int32), tensor(157, dtype=torch.int32), tensor(157, dtype=torch.int32), tensor(157, dtype=torch.int32), tensor(157, dtype=torch.int32), tensor(157, dtype=torch.int32), tensor(157, dtype=torch.int32), tensor(157, dtype=torch.int32), tensor(157, dtype=torch.int32), tensor(157, dtype=torch.int32), tensor(157, dtype=torch.int32), tensor(157, dtype=torch.int32), tensor(157, dtype=torch.int32), tensor(158, dtype=torch.int32), tensor(158, dtype=torch.int32), tensor(158, dtype=torch.int32), tensor(158, dtype=torch.int32), tensor(158, dtype=torch.int32), tensor(158, dtype=torch.int32), tensor(159, dtype=torch.int32), tensor(159, dtype=torch.int32), tensor(159, dtype=torch.int32), tensor(160, dtype=torch.int32), tensor(161, dtype=torch.int32), tensor(161, dtype=torch.int32), tensor(161, dtype=torch.int32), tensor(161, dtype=torch.int32), tensor(161, dtype=torch.int32), tensor(161, dtype=torch.int32), tensor(162, dtype=torch.int32), tensor(162, dtype=torch.int32), tensor(162, dtype=torch.int32), tensor(162, dtype=torch.int32), tensor(162, dtype=torch.int32), tensor(162, dtype=torch.int32), tensor(162, dtype=torch.int32), tensor(162, dtype=torch.int32), tensor(162, dtype=torch.int32), tensor(162, dtype=torch.int32), tensor(162, dtype=torch.int32), tensor(162, dtype=torch.int32), tensor(162, dtype=torch.int32), tensor(162, dtype=torch.int32), tensor(162, dtype=torch.int32), tensor(162, dtype=torch.int32), tensor(163, dtype=torch.int32), tensor(163, dtype=torch.int32), tensor(164, dtype=torch.int32), tensor(164, dtype=torch.int32), tensor(164, dtype=torch.int32), tensor(164, dtype=torch.int32), tensor(164, dtype=torch.int32), tensor(164, dtype=torch.int32), tensor(164, dtype=torch.int32), tensor(165, dtype=torch.int32), tensor(165, dtype=torch.int32), tensor(165, dtype=torch.int32), tensor(165, dtype=torch.int32), tensor(165, dtype=torch.int32), tensor(165, dtype=torch.int32), tensor(165, dtype=torch.int32), tensor(165, dtype=torch.int32), tensor(166, dtype=torch.int32), tensor(166, dtype=torch.int32), tensor(166, dtype=torch.int32), tensor(166, dtype=torch.int32), tensor(166, dtype=torch.int32), tensor(166, dtype=torch.int32), tensor(166, dtype=torch.int32), tensor(167, dtype=torch.int32), tensor(167, dtype=torch.int32), tensor(167, dtype=torch.int32), tensor(167, dtype=torch.int32), tensor(167, dtype=torch.int32), tensor(168, dtype=torch.int32), tensor(168, dtype=torch.int32), tensor(168, dtype=torch.int32), tensor(168, dtype=torch.int32), tensor(169, dtype=torch.int32), tensor(169, dtype=torch.int32), tensor(169, dtype=torch.int32), tensor(169, dtype=torch.int32), tensor(169, dtype=torch.int32), tensor(169, dtype=torch.int32), tensor(169, dtype=torch.int32), tensor(169, dtype=torch.int32), tensor(170, dtype=torch.int32), tensor(170, dtype=torch.int32), tensor(170, dtype=torch.int32), tensor(171, dtype=torch.int32), tensor(171, dtype=torch.int32), tensor(171, dtype=torch.int32), tensor(172, dtype=torch.int32), tensor(172, dtype=torch.int32), tensor(172, dtype=torch.int32), tensor(172, dtype=torch.int32), tensor(172, dtype=torch.int32), tensor(172, dtype=torch.int32), tensor(172, dtype=torch.int32), tensor(172, dtype=torch.int32), tensor(172, dtype=torch.int32), tensor(172, dtype=torch.int32), tensor(172, dtype=torch.int32), tensor(172, dtype=torch.int32), tensor(172, dtype=torch.int32), tensor(172, dtype=torch.int32), tensor(172, dtype=torch.int32), tensor(172, dtype=torch.int32), tensor(172, dtype=torch.int32), tensor(172, dtype=torch.int32), tensor(173, dtype=torch.int32), tensor(173, dtype=torch.int32), tensor(173, dtype=torch.int32), tensor(173, dtype=torch.int32), tensor(174, dtype=torch.int32), tensor(174, dtype=torch.int32), tensor(175, dtype=torch.int32), tensor(176, dtype=torch.int32), tensor(176, dtype=torch.int32), tensor(177, dtype=torch.int32), tensor(177, dtype=torch.int32), tensor(177, dtype=torch.int32), tensor(178, dtype=torch.int32), tensor(178, dtype=torch.int32), tensor(179, dtype=torch.int32), tensor(179, dtype=torch.int32), tensor(179, dtype=torch.int32), tensor(179, dtype=torch.int32), tensor(179, dtype=torch.int32), tensor(179, dtype=torch.int32), tensor(179, dtype=torch.int32), tensor(179, dtype=torch.int32), tensor(179, dtype=torch.int32), tensor(179, dtype=torch.int32), tensor(179, dtype=torch.int32), tensor(179, dtype=torch.int32), tensor(179, dtype=torch.int32), tensor(179, dtype=torch.int32), tensor(179, dtype=torch.int32), tensor(179, dtype=torch.int32), tensor(179, dtype=torch.int32), tensor(179, dtype=torch.int32), tensor(179, dtype=torch.int32), tensor(179, dtype=torch.int32), tensor(179, dtype=torch.int32), tensor(179, dtype=torch.int32), tensor(179, dtype=torch.int32), tensor(179, dtype=torch.int32), tensor(179, dtype=torch.int32), tensor(179, dtype=torch.int32), tensor(179, dtype=torch.int32), tensor(179, dtype=torch.int32), tensor(179, dtype=torch.int32), tensor(179, dtype=torch.int32), tensor(179, dtype=torch.int32), tensor(179, dtype=torch.int32), tensor(179, dtype=torch.int32), tensor(179, dtype=torch.int32), tensor(179, dtype=torch.int32), tensor(179, dtype=torch.int32), tensor(179, dtype=torch.int32), tensor(179, dtype=torch.int32), tensor(179, dtype=torch.int32), tensor(179, dtype=torch.int32), tensor(179, dtype=torch.int32), tensor(179, dtype=torch.int32), tensor(179, dtype=torch.int32), tensor(179, dtype=torch.int32), tensor(179, dtype=torch.int32), tensor(179, dtype=torch.int32), tensor(179, dtype=torch.int32), tensor(180, dtype=torch.int32), tensor(180, dtype=torch.int32), tensor(180, dtype=torch.int32), tensor(181, dtype=torch.int32), tensor(181, dtype=torch.int32), tensor(181, dtype=torch.int32), tensor(182, dtype=torch.int32), tensor(183, dtype=torch.int32), tensor(183, dtype=torch.int32), tensor(183, dtype=torch.int32), tensor(183, dtype=torch.int32), tensor(183, dtype=torch.int32), tensor(183, dtype=torch.int32), tensor(184, dtype=torch.int32), tensor(184, dtype=torch.int32), tensor(184, dtype=torch.int32), tensor(184, dtype=torch.int32), tensor(184, dtype=torch.int32), tensor(184, dtype=torch.int32), tensor(184, dtype=torch.int32), tensor(184, dtype=torch.int32), tensor(184, dtype=torch.int32), tensor(184, dtype=torch.int32), tensor(184, dtype=torch.int32), tensor(184, dtype=torch.int32), tensor(184, dtype=torch.int32), tensor(184, dtype=torch.int32), tensor(184, dtype=torch.int32), tensor(184, dtype=torch.int32), tensor(184, dtype=torch.int32), tensor(184, dtype=torch.int32), tensor(185, dtype=torch.int32), tensor(186, dtype=torch.int32), tensor(186, dtype=torch.int32), tensor(187, dtype=torch.int32), tensor(187, dtype=torch.int32), tensor(187, dtype=torch.int32), tensor(187, dtype=torch.int32), tensor(187, dtype=torch.int32), tensor(187, dtype=torch.int32), tensor(187, dtype=torch.int32), tensor(188, dtype=torch.int32), tensor(188, dtype=torch.int32), tensor(188, dtype=torch.int32), tensor(189, dtype=torch.int32), tensor(189, dtype=torch.int32), tensor(189, dtype=torch.int32), tensor(189, dtype=torch.int32), tensor(189, dtype=torch.int32), tensor(190, dtype=torch.int32), tensor(190, dtype=torch.int32), tensor(190, dtype=torch.int32), tensor(190, dtype=torch.int32), tensor(191, dtype=torch.int32), tensor(191, dtype=torch.int32), tensor(191, dtype=torch.int32), tensor(192, dtype=torch.int32), tensor(192, dtype=torch.int32), tensor(192, dtype=torch.int32), tensor(192, dtype=torch.int32), tensor(192, dtype=torch.int32), tensor(192, dtype=torch.int32), tensor(192, dtype=torch.int32), tensor(192, dtype=torch.int32), tensor(192, dtype=torch.int32), tensor(192, dtype=torch.int32), tensor(192, dtype=torch.int32), tensor(192, dtype=torch.int32), tensor(193, dtype=torch.int32), tensor(193, dtype=torch.int32), tensor(193, dtype=torch.int32), tensor(193, dtype=torch.int32), tensor(193, dtype=torch.int32), tensor(193, dtype=torch.int32), tensor(193, dtype=torch.int32), tensor(193, dtype=torch.int32), tensor(193, dtype=torch.int32), tensor(193, dtype=torch.int32), tensor(194, dtype=torch.int32), tensor(195, dtype=torch.int32), tensor(195, dtype=torch.int32), tensor(195, dtype=torch.int32), tensor(195, dtype=torch.int32), tensor(195, dtype=torch.int32), tensor(195, dtype=torch.int32), tensor(195, dtype=torch.int32), tensor(195, dtype=torch.int32), tensor(195, dtype=torch.int32), tensor(195, dtype=torch.int32), tensor(195, dtype=torch.int32), tensor(195, dtype=torch.int32), tensor(195, dtype=torch.int32), tensor(195, dtype=torch.int32), tensor(195, dtype=torch.int32), tensor(195, dtype=torch.int32), tensor(195, dtype=torch.int32), tensor(195, dtype=torch.int32), tensor(195, dtype=torch.int32), tensor(195, dtype=torch.int32), tensor(196, dtype=torch.int32), tensor(196, dtype=torch.int32), tensor(196, dtype=torch.int32), tensor(196, dtype=torch.int32), tensor(196, dtype=torch.int32), tensor(196, dtype=torch.int32), tensor(196, dtype=torch.int32), tensor(196, dtype=torch.int32), tensor(196, dtype=torch.int32), tensor(196, dtype=torch.int32), tensor(196, dtype=torch.int32), tensor(196, dtype=torch.int32), tensor(196, dtype=torch.int32), tensor(196, dtype=torch.int32), tensor(196, dtype=torch.int32), tensor(196, dtype=torch.int32), tensor(196, dtype=torch.int32), tensor(196, dtype=torch.int32), tensor(196, dtype=torch.int32), tensor(196, dtype=torch.int32), tensor(196, dtype=torch.int32), tensor(197, dtype=torch.int32), tensor(197, dtype=torch.int32), tensor(197, dtype=torch.int32), tensor(197, dtype=torch.int32), tensor(198, dtype=torch.int32), tensor(198, dtype=torch.int32), tensor(199, dtype=torch.int32), tensor(199, dtype=torch.int32), tensor(199, dtype=torch.int32), tensor(199, dtype=torch.int32), tensor(200, dtype=torch.int32), tensor(200, dtype=torch.int32), tensor(200, dtype=torch.int32), tensor(200, dtype=torch.int32), tensor(200, dtype=torch.int32), tensor(200, dtype=torch.int32), tensor(200, dtype=torch.int32), tensor(200, dtype=torch.int32), tensor(200, dtype=torch.int32), tensor(200, dtype=torch.int32), tensor(200, dtype=torch.int32), tensor(201, dtype=torch.int32), tensor(201, dtype=torch.int32), tensor(201, dtype=torch.int32), tensor(201, dtype=torch.int32), tensor(201, dtype=torch.int32), tensor(201, dtype=torch.int32), tensor(201, dtype=torch.int32), tensor(201, dtype=torch.int32), tensor(202, dtype=torch.int32), tensor(202, dtype=torch.int32), tensor(202, dtype=torch.int32), tensor(202, dtype=torch.int32), tensor(202, dtype=torch.int32), tensor(202, dtype=torch.int32), tensor(202, dtype=torch.int32), tensor(202, dtype=torch.int32), tensor(202, dtype=torch.int32), tensor(202, dtype=torch.int32), tensor(202, dtype=torch.int32), tensor(203, dtype=torch.int32), tensor(204, dtype=torch.int32), tensor(204, dtype=torch.int32), tensor(204, dtype=torch.int32), tensor(204, dtype=torch.int32), tensor(204, dtype=torch.int32), tensor(204, dtype=torch.int32), tensor(205, dtype=torch.int32), tensor(205, dtype=torch.int32), tensor(205, dtype=torch.int32), tensor(205, dtype=torch.int32), tensor(205, dtype=torch.int32), tensor(206, dtype=torch.int32), tensor(206, dtype=torch.int32), tensor(207, dtype=torch.int32), tensor(207, dtype=torch.int32), tensor(207, dtype=torch.int32), tensor(208, dtype=torch.int32), tensor(208, dtype=torch.int32), tensor(209, dtype=torch.int32), tensor(209, dtype=torch.int32), tensor(209, dtype=torch.int32), tensor(209, dtype=torch.int32), tensor(210, dtype=torch.int32), tensor(210, dtype=torch.int32), tensor(210, dtype=torch.int32), tensor(210, dtype=torch.int32), tensor(210, dtype=torch.int32), tensor(210, dtype=torch.int32), tensor(210, dtype=torch.int32), tensor(210, dtype=torch.int32), tensor(210, dtype=torch.int32), tensor(210, dtype=torch.int32), tensor(210, dtype=torch.int32), tensor(210, dtype=torch.int32), tensor(210, dtype=torch.int32), tensor(210, dtype=torch.int32), tensor(210, dtype=torch.int32), tensor(210, dtype=torch.int32), tensor(210, dtype=torch.int32), tensor(210, dtype=torch.int32), tensor(210, dtype=torch.int32), tensor(210, dtype=torch.int32), tensor(210, dtype=torch.int32), tensor(210, dtype=torch.int32), tensor(211, dtype=torch.int32), tensor(211, dtype=torch.int32), tensor(212, dtype=torch.int32), tensor(212, dtype=torch.int32), tensor(212, dtype=torch.int32), tensor(213, dtype=torch.int32), tensor(213, dtype=torch.int32), tensor(214, dtype=torch.int32), tensor(214, dtype=torch.int32), tensor(214, dtype=torch.int32), tensor(214, dtype=torch.int32), tensor(214, dtype=torch.int32), tensor(214, dtype=torch.int32), tensor(214, dtype=torch.int32), tensor(214, dtype=torch.int32), tensor(214, dtype=torch.int32), tensor(214, dtype=torch.int32), tensor(214, dtype=torch.int32), tensor(214, dtype=torch.int32), tensor(214, dtype=torch.int32), tensor(214, dtype=torch.int32), tensor(214, dtype=torch.int32), tensor(214, dtype=torch.int32), tensor(214, dtype=torch.int32), tensor(214, dtype=torch.int32), tensor(214, dtype=torch.int32), tensor(215, dtype=torch.int32), tensor(215, dtype=torch.int32), tensor(215, dtype=torch.int32), tensor(215, dtype=torch.int32), tensor(215, dtype=torch.int32), tensor(215, dtype=torch.int32), tensor(215, dtype=torch.int32), tensor(215, dtype=torch.int32), tensor(215, dtype=torch.int32), tensor(216, dtype=torch.int32), tensor(216, dtype=torch.int32), tensor(216, dtype=torch.int32), tensor(216, dtype=torch.int32), tensor(216, dtype=torch.int32), tensor(216, dtype=torch.int32), tensor(216, dtype=torch.int32), tensor(216, dtype=torch.int32), tensor(216, dtype=torch.int32)] [tensor(20), tensor(52), tensor(202), tensor(157), tensor(52), tensor(62), tensor(195), tensor(195), tensor(20), tensor(62), tensor(52), tensor(52), tensor(62), tensor(192), tensor(62), tensor(62), tensor(52), tensor(157), tensor(52), tensor(52), tensor(179), tensor(52), tensor(52), tensor(62), tensor(52), tensor(172), tensor(179), tensor(157), tensor(172), tensor(157), tensor(172), tensor(157), tensor(157), tensor(62), tensor(202), tensor(202), tensor(214), tensor(157), tensor(21), tensor(172), tensor(202), tensor(202), tensor(20), tensor(52), tensor(157), tensor(52), tensor(195), tensor(52), tensor(52), tensor(52), tensor(52), tensor(179), tensor(179), tensor(192), tensor(20), tensor(62), tensor(214), tensor(52), tensor(172), tensor(179), tensor(68), tensor(179), tensor(179), tensor(68), tensor(179), tensor(214), tensor(214), tensor(214), tensor(172), tensor(157), tensor(52), tensor(157), tensor(179), tensor(62), tensor(52), tensor(52), tensor(179), tensor(157), tensor(20), tensor(62), tensor(20), tensor(33), tensor(20), tensor(214), tensor(33), tensor(62), tensor(52), tensor(52), tensor(52), tensor(157), tensor(179), tensor(192), tensor(52), tensor(195), tensor(62), tensor(157), tensor(62), tensor(62), tensor(52), tensor(179), tensor(195), tensor(172), tensor(20), tensor(195), tensor(68), tensor(179), tensor(52), tensor(52), tensor(52), tensor(52), tensor(52), tensor(52), tensor(62), tensor(179), tensor(20), tensor(20), tensor(179), tensor(20), tensor(20), tensor(20), tensor(20), tensor(172), tensor(20), tensor(20), tensor(20), tensor(202), tensor(20), tensor(20), tensor(20), tensor(20), tensor(172), tensor(172), tensor(20), tensor(20), tensor(62), tensor(157), tensor(21), tensor(21), tensor(172), tensor(21), tensor(172), tensor(21), tensor(21), tensor(214), tensor(21), tensor(179), tensor(21), tensor(52), tensor(195), tensor(62), tensor(20), tensor(157), tensor(62), tensor(52), tensor(202), tensor(20), tensor(214), tensor(62), tensor(20), tensor(214), tensor(202), tensor(52), tensor(52), tensor(192), tensor(52), tensor(62), tensor(179), tensor(157), tensor(172), tensor(52), tensor(62), tensor(52), tensor(68), tensor(68), tensor(52), tensor(68), tensor(214), tensor(214), tensor(214), tensor(62), tensor(179), tensor(62), tensor(52), tensor(62), tensor(172), tensor(195), tensor(62), tensor(62), tensor(157), tensor(52), tensor(192), tensor(62), tensor(62), tensor(62), tensor(62), tensor(20), tensor(33), tensor(62), tensor(62), tensor(62), tensor(62), tensor(62), tensor(52), tensor(62), tensor(62), tensor(52), tensor(192), tensor(195), tensor(33), tensor(33), tensor(33), tensor(33), tensor(33), tensor(33), tensor(33), tensor(192), tensor(33), tensor(33), tensor(33), tensor(33), tensor(33), tensor(157), tensor(21), tensor(109), tensor(62), tensor(192), tensor(157), tensor(157), tensor(52), tensor(62), tensor(21), tensor(62), tensor(20), tensor(157), tensor(179), tensor(52), tensor(52), tensor(179), tensor(52), tensor(192), tensor(52), tensor(62), tensor(68), tensor(172), tensor(192), tensor(20), tensor(20), tensor(20), tensor(172), tensor(62), tensor(179), tensor(179), tensor(179), tensor(192), tensor(62), tensor(52), tensor(52), tensor(52), tensor(52), tensor(214), tensor(179), tensor(214), tensor(179), tensor(157), tensor(20), tensor(179), tensor(172), tensor(179), tensor(62), tensor(20), tensor(179), tensor(20), tensor(20), tensor(179), tensor(179), tensor(179), tensor(20), tensor(52), tensor(52), tensor(214), tensor(179), tensor(62), tensor(62), tensor(52), tensor(214), tensor(20), tensor(62), tensor(52), tensor(52), tensor(172), tensor(172), tensor(62), tensor(139), tensor(172), tensor(179), tensor(157), tensor(20), tensor(52), tensor(179), tensor(179), tensor(52), tensor(62), tensor(52), tensor(157), tensor(214), tensor(52), tensor(52), tensor(52), tensor(62), tensor(52), tensor(52), tensor(52), tensor(52), tensor(62), tensor(62), tensor(52), tensor(52), tensor(157), tensor(52), tensor(52), tensor(62), tensor(52), tensor(52), tensor(52), tensor(52), tensor(62), tensor(62), tensor(195), tensor(52), tensor(62), tensor(62), tensor(179), tensor(52), tensor(52), tensor(52), tensor(192), tensor(52), tensor(62), tensor(52), tensor(54), tensor(54), tensor(202), tensor(62), tensor(52), tensor(62), tensor(202), tensor(179), tensor(179), tensor(179), tensor(214), tensor(179), tensor(62), tensor(195), tensor(62), tensor(52), tensor(52), tensor(179), tensor(157), tensor(52), tensor(192), tensor(52), tensor(62), tensor(192), tensor(62), tensor(179), tensor(157), tensor(192), tensor(172), tensor(62), tensor(62), tensor(62), tensor(20), tensor(195), tensor(62), tensor(62), tensor(62), tensor(20), tensor(62), tensor(62), tensor(214), tensor(52), tensor(52), tensor(62), tensor(62), tensor(192), tensor(62), tensor(157), tensor(62), tensor(62), tensor(62), tensor(33), tensor(62), tensor(52), tensor(52), tensor(52), tensor(62), tensor(179), tensor(52), tensor(62), tensor(62), tensor(62), tensor(52), tensor(192), tensor(52), tensor(172), tensor(62), tensor(52), tensor(52), tensor(192), tensor(214), tensor(68), tensor(62), tensor(52), tensor(62), tensor(52), tensor(52), tensor(179), tensor(157), tensor(52), tensor(20), tensor(214), tensor(214), tensor(52), tensor(62), tensor(195), tensor(179), tensor(68), tensor(68), tensor(179), tensor(68), tensor(68), tensor(68), tensor(68), tensor(214), tensor(68), tensor(20), tensor(202), tensor(68), tensor(68), tensor(20), tensor(172), tensor(179), tensor(179), tensor(192), tensor(62), tensor(68), tensor(52), tensor(52), tensor(52), tensor(20), tensor(192), tensor(62), tensor(52), tensor(192), tensor(62), tensor(195), tensor(172), tensor(195), tensor(68), tensor(20), tensor(20), tensor(20), tensor(52), tensor(52), tensor(179), tensor(52), tensor(54), tensor(52), tensor(68), tensor(62), tensor(62), tensor(179), tensor(179), tensor(192), tensor(179), tensor(179), tensor(20), tensor(52), tensor(52), tensor(157), tensor(52), tensor(62), tensor(62), tensor(62), tensor(52), tensor(52), tensor(195), tensor(195), tensor(172), tensor(195), tensor(214), tensor(214), tensor(20), tensor(214), tensor(179), tensor(179), tensor(195), tensor(21), tensor(21), tensor(179), tensor(172), tensor(195), tensor(172), tensor(52), tensor(179), tensor(214), tensor(172), tensor(62), tensor(62), tensor(62), tensor(202), tensor(202), tensor(214), tensor(195), tensor(179), tensor(179), tensor(157), tensor(33), tensor(62), tensor(52), tensor(157), tensor(157), tensor(62), tensor(157), tensor(62), tensor(52), tensor(52), tensor(179), tensor(52), tensor(62), tensor(52), tensor(52), tensor(52), tensor(179), tensor(62), tensor(195), tensor(172), tensor(195), tensor(195), tensor(52), tensor(172), tensor(157), tensor(62), tensor(52), tensor(52), tensor(62), tensor(68), tensor(68), tensor(68), tensor(52), tensor(62), tensor(62), tensor(52), tensor(20), tensor(52), tensor(157), tensor(157), tensor(21), tensor(195), tensor(179), tensor(214), tensor(157), tensor(172), tensor(202), tensor(157), tensor(62), tensor(20), tensor(62), tensor(62), tensor(157), tensor(52), tensor(179), tensor(52), tensor(179), tensor(20), tensor(195), tensor(172), tensor(157), tensor(157), tensor(202), tensor(179), tensor(157), tensor(179), tensor(62), tensor(21), tensor(52), tensor(172), tensor(157), tensor(157), tensor(172), tensor(62), tensor(52), tensor(52), tensor(192), tensor(52), tensor(62), tensor(52), tensor(68), tensor(179), tensor(157), tensor(179), tensor(192), tensor(157), tensor(62), tensor(52), tensor(157), tensor(157), tensor(172), tensor(172), tensor(179), tensor(33), tensor(172), tensor(179), tensor(192), tensor(52), tensor(195), tensor(179), tensor(52), tensor(157), tensor(62), tensor(52), tensor(214), tensor(52), tensor(20), tensor(214), tensor(33), tensor(109), tensor(52), tensor(62), tensor(195), tensor(179), tensor(52), tensor(62), tensor(52), tensor(20), tensor(52), tensor(52), tensor(172), tensor(52), tensor(109), tensor(20), tensor(62), tensor(62), tensor(157), tensor(52), tensor(52), tensor(157), tensor(52), tensor(52), tensor(157), tensor(52), tensor(214), tensor(62), tensor(20), tensor(214), tensor(68), tensor(62), tensor(68), tensor(62), tensor(62), tensor(68), tensor(172), tensor(157), tensor(52), tensor(62), tensor(214), tensor(20), tensor(179), tensor(195), tensor(52), tensor(62), tensor(157), tensor(62), tensor(179), tensor(214), tensor(214), tensor(214), tensor(172), tensor(68), tensor(195), tensor(214), tensor(157), tensor(52), tensor(62), tensor(52), tensor(62), tensor(52), tensor(179), tensor(52), tensor(52), tensor(62), tensor(62), tensor(52), tensor(20), tensor(52), tensor(157), tensor(157), tensor(179), tensor(157), tensor(157), tensor(62), tensor(179), tensor(157), tensor(157), tensor(172), tensor(157), tensor(52), tensor(52), tensor(52), tensor(52), tensor(214), tensor(214), tensor(52), tensor(52), tensor(52), tensor(62), tensor(62), tensor(52), tensor(192), tensor(62), tensor(62), tensor(62), tensor(195), tensor(109), tensor(157), tensor(20), tensor(62), tensor(62), tensor(157), tensor(52), tensor(52), tensor(52), tensor(52), tensor(52), tensor(179), tensor(172), tensor(172), tensor(52), tensor(214), tensor(62), tensor(68), tensor(214), tensor(214), tensor(195), tensor(214), tensor(62), tensor(52), tensor(52), tensor(62), tensor(52), tensor(52), tensor(195), tensor(52), tensor(52), tensor(62), tensor(62), tensor(62), tensor(62), tensor(157), tensor(157), tensor(21), tensor(202), tensor(52), tensor(62), tensor(62), tensor(62), tensor(172), tensor(52), tensor(21), tensor(54), tensor(52), tensor(54), tensor(172), tensor(52), tensor(52), tensor(62), tensor(179), tensor(62), tensor(179), tensor(179), tensor(214), tensor(21), tensor(172), tensor(202), tensor(139), tensor(62), tensor(62), tensor(172), tensor(62), tensor(179), tensor(179), tensor(214), tensor(214), tensor(62), tensor(20), tensor(21), tensor(20), tensor(202), tensor(195), tensor(157), tensor(21), tensor(195), tensor(195), tensor(62), tensor(21), tensor(52), tensor(172), tensor(179), tensor(179), tensor(179), tensor(157), tensor(157), tensor(214), tensor(52), tensor(192), tensor(172), tensor(139), tensor(202), tensor(139), tensor(202), tensor(139), tensor(179), tensor(139), tensor(62), tensor(20), tensor(202), tensor(62), tensor(62), tensor(20), tensor(52), tensor(157), tensor(62), tensor(62), tensor(52), tensor(62), tensor(20), tensor(20), tensor(62), tensor(62), tensor(52), tensor(172), tensor(179), tensor(172), tensor(139), tensor(172), tensor(214), tensor(195), tensor(172), tensor(195), tensor(179), tensor(33), tensor(62), tensor(68), tensor(179), tensor(195), tensor(214), tensor(21), tensor(172), tensor(20), tensor(202), tensor(62), tensor(20), tensor(20), tensor(52), tensor(172), tensor(157), tensor(172), tensor(214), tensor(172), tensor(172), tensor(172), tensor(195), tensor(172), tensor(172), tensor(179), tensor(20), tensor(52), tensor(172), tensor(52), tensor(20), tensor(62), tensor(52), tensor(172), tensor(172), tensor(52), tensor(68), tensor(52), tensor(179), tensor(20), tensor(179), tensor(157), tensor(179), tensor(179), tensor(62), tensor(214), tensor(62), tensor(172), tensor(172), tensor(157), tensor(157), tensor(179), tensor(52), tensor(179), tensor(172), tensor(62), tensor(20), tensor(62), tensor(179), tensor(172), tensor(179), tensor(157), tensor(62), tensor(192), tensor(157), tensor(20), tensor(192), tensor(157), tensor(157), tensor(157), tensor(62), tensor(62), tensor(33), tensor(62), tensor(157), tensor(157), tensor(157), tensor(157), tensor(157), tensor(157), tensor(62), tensor(157), tensor(157), tensor(157), tensor(157), tensor(157), tensor(157), tensor(214), tensor(33), tensor(62), tensor(52), tensor(179), tensor(62), tensor(202), tensor(21), tensor(157), tensor(52), tensor(179), tensor(52), tensor(52), tensor(157), tensor(62), tensor(179), tensor(52), tensor(52), tensor(195), tensor(52), tensor(52), tensor(52), tensor(62), tensor(62), tensor(52), tensor(192), tensor(52), tensor(157), tensor(62), tensor(214), tensor(172), tensor(62), tensor(62), tensor(62), tensor(62), tensor(62), tensor(62), tensor(52), tensor(52), tensor(202), tensor(179), tensor(21), tensor(202), tensor(52), tensor(202), tensor(52), tensor(179), tensor(195), tensor(179), tensor(172), tensor(68), tensor(179), tensor(214), tensor(195), tensor(20), tensor(157), tensor(157), tensor(179), tensor(195), tensor(52), tensor(20), tensor(157), tensor(52), tensor(62), tensor(62), tensor(52), tensor(52), tensor(52), tensor(52), tensor(62), tensor(179), tensor(157), tensor(179), tensor(52), tensor(179), tensor(214), tensor(172), tensor(172), tensor(20), tensor(172), tensor(179), tensor(179), tensor(157), tensor(179), tensor(214), tensor(20), tensor(179), tensor(172), tensor(172), tensor(172), tensor(214), tensor(179), tensor(52), tensor(195), tensor(157), tensor(52), tensor(179), tensor(20), tensor(179), tensor(157), tensor(157), tensor(62), tensor(52), tensor(172), tensor(52), tensor(52), tensor(157), tensor(179), tensor(179), tensor(179), tensor(179), tensor(179), tensor(179), tensor(179), tensor(179), tensor(179), tensor(179), tensor(179), tensor(179), tensor(179), tensor(179), tensor(179), tensor(179), tensor(179), tensor(179), tensor(179), tensor(179), tensor(179), tensor(179), tensor(179), tensor(179), tensor(202), tensor(179), tensor(179), tensor(179), tensor(179), tensor(179), tensor(179), tensor(179), tensor(179), tensor(179), tensor(179), tensor(179), tensor(20), tensor(179), tensor(179), tensor(179), tensor(179), tensor(179), tensor(179), tensor(179), tensor(179), tensor(179), tensor(179), tensor(179), tensor(192), tensor(214), tensor(62), tensor(62), tensor(52), tensor(179), tensor(20), tensor(62), tensor(52), tensor(192), tensor(179), tensor(52), tensor(62), tensor(195), tensor(214), tensor(172), tensor(214), tensor(214), tensor(157), tensor(68), tensor(20), tensor(20), tensor(192), tensor(195), tensor(195), tensor(179), tensor(179), tensor(179), tensor(179), tensor(179), tensor(62), tensor(202), tensor(179), tensor(157), tensor(202), tensor(62), tensor(68), tensor(20), tensor(20), tensor(62), tensor(157), tensor(52), tensor(52), tensor(54), tensor(179), tensor(195), tensor(195), tensor(52), tensor(20), tensor(21), tensor(195), tensor(21), tensor(21), tensor(52), tensor(52), tensor(179), tensor(192), tensor(192), tensor(214), tensor(139), tensor(192), tensor(192), tensor(192), tensor(192), tensor(192), tensor(68), tensor(192), tensor(68), tensor(202), tensor(179), tensor(179), tensor(52), tensor(179), tensor(214), tensor(157), tensor(214), tensor(195), tensor(214), tensor(172), tensor(195), tensor(214), tensor(195), tensor(20), tensor(195), tensor(179), tensor(195), tensor(195), tensor(195), tensor(195), tensor(52), tensor(195), tensor(214), tensor(179), tensor(195), tensor(195), tensor(195), tensor(20), tensor(195), tensor(179), tensor(52), tensor(52), tensor(179), tensor(62), tensor(62), tensor(62), tensor(52), tensor(52), tensor(62), tensor(52), tensor(62), tensor(62), tensor(52), tensor(52), tensor(62), tensor(62), tensor(62), tensor(62), tensor(62), tensor(172), tensor(52), tensor(62), tensor(157), tensor(195), tensor(172), tensor(202), tensor(52), tensor(21), tensor(195), tensor(21), tensor(157), tensor(52), tensor(172), tensor(52), tensor(20), tensor(214), tensor(172), tensor(172), tensor(172), tensor(62), tensor(157), tensor(172), tensor(179), tensor(62), tensor(172), tensor(179), tensor(195), tensor(195), tensor(62), tensor(195), tensor(52), tensor(195), tensor(214), tensor(202), tensor(202), tensor(139), tensor(202), tensor(214), tensor(139), tensor(52), tensor(139), tensor(172), tensor(157), tensor(157), tensor(157), tensor(195), tensor(172), tensor(179), tensor(21), tensor(179), tensor(172), tensor(195), tensor(179), tensor(192), tensor(157), tensor(62), tensor(172), tensor(62), tensor(157), tensor(195), tensor(62), tensor(52), tensor(52), tensor(52), tensor(214), tensor(214), tensor(33), tensor(179), tensor(214), tensor(20), tensor(179), tensor(172), tensor(52), tensor(20), tensor(179), tensor(62), tensor(62), tensor(214), tensor(68), tensor(195), tensor(214), tensor(62), tensor(195), tensor(195), tensor(214), tensor(214), tensor(172), tensor(172), tensor(157), tensor(21), tensor(52), tensor(179), tensor(20), tensor(214), tensor(172), tensor(214), tensor(214), tensor(214), tensor(179), tensor(214), tensor(214), tensor(202), tensor(214), tensor(214), tensor(214), tensor(214), tensor(214), tensor(214), tensor(62), tensor(21), tensor(214), tensor(214), tensor(52), tensor(52), tensor(52), tensor(62), tensor(52), tensor(179), tensor(52), tensor(62), tensor(62), tensor(214), tensor(179), tensor(172), tensor(214), tensor(20), tensor(172), tensor(192), tensor(214), tensor(52)] "
     ]
    },
    {
     "name": "stderr",
     "output_type": "stream",
     "text": [
      "\n"
     ]
    },
    {
     "name": "stdout",
     "output_type": "stream",
     "text": [
      "tensor(0.1388)\n",
      "======= DONE WITH SBERT CLASSIFICATION ======== \n"
     ]
    },
    {
     "name": "stderr",
     "output_type": "stream",
     "text": [
      "Batches: 100%|██████████| 1/1 [00:00<00:00, 59.16it/s]\n",
      "Batches: 100%|██████████| 1/1 [00:00<00:00,  6.87it/s]\n",
      "Batches: 100%|██████████| 1/1 [00:00<00:00, 58.83it/s]\n",
      "Batches: 100%|██████████| 1/1 [00:00<00:00,  5.34it/s]\n",
      "Batches: 100%|██████████| 1/1 [00:00<00:00, 71.42it/s]\n",
      "Batches: 100%|██████████| 1/1 [00:00<00:00, 18.35it/s]\n",
      "Batches: 100%|██████████| 1/1 [00:00<00:00, 14.12it/s]\n",
      "Batches: 100%|██████████| 6/6 [00:00<00:00, 11.65it/s]\n",
      "Batches: 100%|██████████| 1/1 [00:00<00:00, 35.08it/s]\n",
      "Batches: 100%|██████████| 3/3 [00:00<00:00,  4.44it/s]\n",
      "Batches: 100%|██████████| 1/1 [00:00<00:00, 47.61it/s]\n",
      "Batches: 100%|██████████| 3/3 [00:00<00:00,  4.14it/s]\n",
      "Batches: 100%|██████████| 1/1 [00:00<00:00, 14.59it/s]\n",
      "Batches: 100%|██████████| 3/3 [00:00<00:00,  3.74it/s]\n",
      "Batches: 100%|██████████| 1/1 [00:00<00:00, 76.74it/s]\n",
      "Batches: 100%|██████████| 1/1 [00:00<00:00, 30.31it/s]\n",
      "Batches: 100%|██████████| 1/1 [00:00<00:00, 12.57it/s]\n",
      "Batches: 100%|██████████| 4/4 [00:00<00:00,  5.26it/s]\n",
      "Batches: 100%|██████████| 1/1 [00:00<00:00, 62.49it/s]\n",
      "Batches: 100%|██████████| 1/1 [00:00<00:00,  3.67it/s]\n",
      "Batches: 100%|██████████| 1/1 [00:00<00:00, 71.39it/s]\n",
      "Batches: 100%|██████████| 1/1 [00:00<00:00, 23.25it/s]\n",
      "Batches: 100%|██████████| 1/1 [00:00<00:00, 71.42it/s]\n",
      "Batches: 100%|██████████| 1/1 [00:00<00:00,  4.47it/s]\n",
      "Batches: 100%|██████████| 1/1 [00:00<00:00, 64.68it/s]\n",
      "Batches: 100%|██████████| 2/2 [00:00<00:00,  3.66it/s]\n",
      "Batches: 100%|██████████| 1/1 [00:00<00:00, 55.55it/s]\n",
      "Batches: 100%|██████████| 2/2 [00:00<00:00,  6.71it/s]\n",
      "Batches: 100%|██████████| 1/1 [00:00<00:00, 45.45it/s]\n",
      "Batches: 100%|██████████| 1/1 [00:00<00:00,  8.22it/s]\n",
      "Batches: 100%|██████████| 1/1 [00:00<00:00, 62.49it/s]\n",
      "Batches: 100%|██████████| 2/2 [00:00<00:00,  3.52it/s]\n",
      "Batches: 100%|██████████| 1/1 [00:00<00:00, 66.67it/s]\n",
      "Batches: 100%|██████████| 2/2 [00:00<00:00,  5.00it/s]\n",
      "Batches: 100%|██████████| 1/1 [00:00<00:00,  8.10it/s]\n",
      "Batches: 100%|██████████| 2/2 [00:00<00:00,  6.11it/s]\n",
      "Batches: 100%|██████████| 1/1 [00:00<00:00, 50.00it/s]\n",
      "Batches: 100%|██████████| 3/3 [00:00<00:00,  4.52it/s]\n",
      "Batches: 100%|██████████| 1/1 [00:00<00:00, 14.56it/s]\n",
      "Batches: 100%|██████████| 6/6 [00:00<00:00,  7.28it/s]\n",
      "Batches: 100%|██████████| 1/1 [00:00<00:00, 24.98it/s]\n",
      "Batches: 100%|██████████| 3/3 [00:00<00:00,  7.47it/s]\n",
      "Batches: 100%|██████████| 1/1 [00:00<00:00, 52.44it/s]\n",
      "Batches: 100%|██████████| 2/2 [00:00<00:00,  2.93it/s]\n",
      "Batches: 100%|██████████| 1/1 [00:00<00:00, 52.64it/s]\n",
      "Batches: 100%|██████████| 2/2 [00:00<00:00,  2.99it/s]\n",
      "Batches: 100%|██████████| 1/1 [00:00<00:00, 38.46it/s]\n",
      "Batches: 100%|██████████| 1/1 [00:00<00:00,  2.50it/s]\n",
      "Batches: 100%|██████████| 1/1 [00:00<00:00, 66.68it/s]\n",
      "Batches: 100%|██████████| 2/2 [00:00<00:00,  5.28it/s]\n",
      "Batches: 100%|██████████| 1/1 [00:00<00:00, 35.73it/s]\n",
      "Batches: 100%|██████████| 1/1 [00:00<00:00,  4.50it/s]\n",
      "Batches: 100%|██████████| 1/1 [00:00<00:00, 39.99it/s]\n",
      "Batches: 100%|██████████| 3/3 [00:00<00:00,  4.20it/s]\n",
      "Batches: 100%|██████████| 1/1 [00:00<00:00, 76.92it/s]\n",
      "Batches: 100%|██████████| 1/1 [00:00<00:00, 10.80it/s]\n",
      "Batches: 100%|██████████| 1/1 [00:00<00:00, 54.03it/s]\n",
      "Batches: 100%|██████████| 1/1 [00:00<00:00,  1.98it/s]\n",
      "Batches: 100%|██████████| 1/1 [00:00<00:00, 76.89it/s]\n",
      "Batches: 100%|██████████| 1/1 [00:00<00:00, 10.64it/s]\n",
      "Batches: 100%|██████████| 1/1 [00:00<00:00, 37.02it/s]\n",
      "Batches: 100%|██████████| 4/4 [00:00<00:00,  9.39it/s]\n",
      "Batches: 100%|██████████| 1/1 [00:00<00:00, 34.48it/s]\n",
      "Batches: 100%|██████████| 2/2 [00:00<00:00,  7.08it/s]\n",
      "Batches: 100%|██████████| 1/1 [00:00<00:00, 19.60it/s]\n",
      "Batches: 100%|██████████| 4/4 [00:00<00:00, 11.70it/s]\n",
      "Batches: 100%|██████████| 1/1 [00:00<00:00, 76.92it/s]\n",
      "Batches: 100%|██████████| 2/2 [00:00<00:00,  4.20it/s]\n",
      "Batches: 100%|██████████| 1/1 [00:00<00:00, 24.94it/s]\n",
      "Batches: 100%|██████████| 3/3 [00:00<00:00,  4.12it/s]\n",
      "Batches: 100%|██████████| 1/1 [00:00<00:00, 40.81it/s]\n",
      "Batches: 100%|██████████| 1/1 [00:00<00:00, 15.62it/s]\n",
      "Batches: 100%|██████████| 1/1 [00:00<00:00, 33.33it/s]\n",
      "Batches: 100%|██████████| 2/2 [00:00<00:00,  3.12it/s]\n",
      "Batches: 100%|██████████| 1/1 [00:00<00:00, 47.62it/s]\n",
      "Batches: 100%|██████████| 2/2 [00:00<00:00,  3.42it/s]\n",
      "Batches: 100%|██████████| 1/1 [00:00<00:00, 49.97it/s]\n",
      "Batches: 100%|██████████| 2/2 [00:00<00:00,  4.65it/s]\n",
      "Batches: 100%|██████████| 1/1 [00:00<00:00, 62.50it/s]\n",
      "Batches: 100%|██████████| 1/1 [00:00<00:00,  9.48it/s]\n",
      "Batches: 100%|██████████| 1/1 [00:00<00:00, 27.78it/s]\n",
      "Batches: 100%|██████████| 2/2 [00:00<00:00,  6.90it/s]\n",
      "Batches: 100%|██████████| 1/1 [00:00<00:00, 19.80it/s]\n",
      "Batches: 100%|██████████| 4/4 [00:00<00:00,  5.21it/s]\n",
      "Batches: 100%|██████████| 1/1 [00:00<00:00, 17.86it/s]\n",
      "Batches: 100%|██████████| 2/2 [00:00<00:00,  2.98it/s]\n",
      "Batches: 100%|██████████| 1/1 [00:00<00:00, 71.46it/s]\n",
      "Batches: 100%|██████████| 2/2 [00:00<00:00, 10.41it/s]\n",
      "Batches: 100%|██████████| 1/1 [00:00<00:00, 71.43it/s]\n",
      "Batches: 100%|██████████| 2/2 [00:00<00:00, 17.25it/s]\n",
      "Batches: 100%|██████████| 1/1 [00:00<00:00, 71.43it/s]\n",
      "Batches: 100%|██████████| 1/1 [00:00<00:00,  5.81it/s]\n",
      "Batches: 100%|██████████| 1/1 [00:00<00:00, 71.45it/s]\n",
      "Batches: 100%|██████████| 1/1 [00:00<00:00,  4.27it/s]\n",
      "Batches: 100%|██████████| 1/1 [00:00<00:00, 50.01it/s]\n",
      "Batches: 100%|██████████| 2/2 [00:00<00:00,  3.34it/s]\n",
      "Batches: 100%|██████████| 1/1 [00:00<00:00, 41.66it/s]\n",
      "Batches: 100%|██████████| 2/2 [00:00<00:00,  5.86it/s]\n",
      "Batches: 100%|██████████| 1/1 [00:00<00:00, 76.92it/s]\n",
      "Batches: 100%|██████████| 1/1 [00:00<00:00, 16.80it/s]\n",
      "Batches: 100%|██████████| 1/1 [00:00<00:00, 58.80it/s]\n",
      "Batches: 100%|██████████| 1/1 [00:00<00:00,  6.78it/s]\n",
      "Batches: 100%|██████████| 1/1 [00:00<00:00,  9.48it/s]\n",
      "Batches: 100%|██████████| 8/8 [00:00<00:00,  8.23it/s]\n",
      "Batches: 100%|██████████| 1/1 [00:00<00:00, 62.61it/s]\n",
      "Batches: 100%|██████████| 1/1 [00:00<00:00,  5.77it/s]\n",
      "Batches: 100%|██████████| 1/1 [00:00<00:00, 74.05it/s]\n",
      "Batches: 100%|██████████| 2/2 [00:00<00:00,  3.02it/s]\n",
      "Batches: 100%|██████████| 1/1 [00:00<00:00, 46.18it/s]\n",
      "Batches: 100%|██████████| 2/2 [00:00<00:00,  3.00it/s]\n",
      "Batches: 100%|██████████| 1/1 [00:00<00:00, 29.85it/s]\n",
      "Batches: 100%|██████████| 2/2 [00:00<00:00,  2.98it/s]\n"
     ]
    }
   ],
   "source": [
    "train_art_df, val_art_df, train_tld_cmt_df, val_tld_cmt_df = load_complete_split_reddit_data(\"cmtsplit\")\n",
    "\n",
    "reference_comment_df = train_tld_cmt_df\n",
    "generated_comment_df = val_tld_cmt_df\n",
    "\n",
    "complete_dataset_score_dict = model_collect_scores(gen_cmt_df=generated_comment_df, ref_cmt_df=reference_comment_df)"
   ]
  },
  {
   "cell_type": "code",
   "execution_count": null,
   "metadata": {},
   "outputs": [
    {
     "name": "stdout",
     "output_type": "stream",
     "text": [
      "tensor([0, 1, 4])\n"
     ]
    }
   ],
   "source": []
  },
  {
   "attachments": {},
   "cell_type": "markdown",
   "metadata": {},
   "source": [
    "### Bare Dataset - Limited"
   ]
  },
  {
   "cell_type": "code",
   "execution_count": 2,
   "metadata": {},
   "outputs": [
    {
     "name": "stdout",
     "output_type": "stream",
     "text": [
      "Found 10 article ids in generated comments and 10 article ids in reference comments\n",
      "Sentence embedding length> 768\n"
     ]
    },
    {
     "name": "stderr",
     "output_type": "stream",
     "text": [
      "Iteration: 100%|██████████| 80/80 [00:08<00:00,  9.56it/s]\n",
      "Iteration: 100%|██████████| 80/80 [00:06<00:00, 12.77it/s]\n",
      "Iteration: 100%|██████████| 80/80 [00:06<00:00, 12.67it/s]\n",
      "Iteration: 100%|██████████| 80/80 [00:06<00:00, 12.81it/s]\n",
      "Epoch: 100%|██████████| 4/4 [00:27<00:00,  6.81s/it]\n",
      "Training epochs:   0%|          | 0/12 [00:00<?, ?it/s]"
     ]
    },
    {
     "name": "stdout",
     "output_type": "stream",
     "text": [
      "Running epoch: 1\n"
     ]
    },
    {
     "name": "stderr",
     "output_type": "stream",
     "text": [
      "c:\\Users\\trothe\\AppData\\Local\\Programs\\Python\\Python310\\lib\\site-packages\\torch\\nn\\functional.py:1956: UserWarning: nn.functional.tanh is deprecated. Use torch.tanh instead.\n",
      "  warnings.warn(\"nn.functional.tanh is deprecated. Use torch.tanh instead.\")\n"
     ]
    },
    {
     "name": "stdout",
     "output_type": "stream",
     "text": [
      "Loss for this epoch: 2.2203495264053346\n",
      "Running epoch: 2\n"
     ]
    },
    {
     "name": "stderr",
     "output_type": "stream",
     "text": [
      "Training epochs:  17%|█▋        | 2/12 [00:00<00:00, 13.44it/s]"
     ]
    },
    {
     "name": "stdout",
     "output_type": "stream",
     "text": [
      "Loss for this epoch: 1.8832735061645507\n",
      "Running epoch: 3\n"
     ]
    },
    {
     "name": "stderr",
     "output_type": "stream",
     "text": []
    },
    {
     "name": "stdout",
     "output_type": "stream",
     "text": [
      "Loss for this epoch: 1.4970733761787414\n",
      "Running epoch: 4\n"
     ]
    },
    {
     "name": "stderr",
     "output_type": "stream",
     "text": [
      "Training epochs:  33%|███▎      | 4/12 [00:00<00:00, 15.09it/s]"
     ]
    },
    {
     "name": "stdout",
     "output_type": "stream",
     "text": [
      "Loss for this epoch: 1.1644610613584518\n",
      "Running epoch: 5\n"
     ]
    },
    {
     "name": "stderr",
     "output_type": "stream",
     "text": []
    },
    {
     "name": "stdout",
     "output_type": "stream",
     "text": [
      "Loss for this epoch: 0.9183677911758423\n",
      "Running epoch: 6\n"
     ]
    },
    {
     "name": "stderr",
     "output_type": "stream",
     "text": [
      "Training epochs:  50%|█████     | 6/12 [00:00<00:00, 15.56it/s]"
     ]
    },
    {
     "name": "stdout",
     "output_type": "stream",
     "text": [
      "Loss for this epoch: 0.7425308853387833\n",
      "Running epoch: 7\n"
     ]
    },
    {
     "name": "stderr",
     "output_type": "stream",
     "text": []
    },
    {
     "name": "stdout",
     "output_type": "stream",
     "text": [
      "Loss for this epoch: 0.6147273913025856\n",
      "Running epoch: 8\n"
     ]
    },
    {
     "name": "stderr",
     "output_type": "stream",
     "text": [
      "Training epochs:  67%|██████▋   | 8/12 [00:00<00:00, 16.22it/s]"
     ]
    },
    {
     "name": "stdout",
     "output_type": "stream",
     "text": [
      "Loss for this epoch: 0.5135120809078216\n",
      "Running epoch: 9\n"
     ]
    },
    {
     "name": "stderr",
     "output_type": "stream",
     "text": []
    },
    {
     "name": "stdout",
     "output_type": "stream",
     "text": [
      "Loss for this epoch: 0.4169078655540943\n",
      "Running epoch: 10\n"
     ]
    },
    {
     "name": "stderr",
     "output_type": "stream",
     "text": [
      "Training epochs:  83%|████████▎ | 10/12 [00:00<00:00, 16.87it/s]"
     ]
    },
    {
     "name": "stdout",
     "output_type": "stream",
     "text": [
      "Loss for this epoch: 0.3411408193409443\n",
      "Running epoch: 11\n"
     ]
    },
    {
     "name": "stderr",
     "output_type": "stream",
     "text": []
    },
    {
     "name": "stdout",
     "output_type": "stream",
     "text": [
      "Loss for this epoch: 0.2788225427269936\n",
      "Running epoch: 12\n"
     ]
    },
    {
     "name": "stderr",
     "output_type": "stream",
     "text": [
      "Training epochs: 100%|██████████| 12/12 [00:00<00:00, 15.90it/s]\n"
     ]
    },
    {
     "name": "stdout",
     "output_type": "stream",
     "text": [
      "Loss for this epoch: 0.22133319154381753\n"
     ]
    },
    {
     "name": "stderr",
     "output_type": "stream",
     "text": [
      "Evaluation batches: 100%|██████████| 10/10 [00:00<00:00, 1250.65it/s]\n"
     ]
    },
    {
     "name": "stdout",
     "output_type": "stream",
     "text": [
      "Average evaluation loss: 1.1549452811479568\n",
      "Classification accuracy: 0.5945945978164673\n",
      "[tensor(0, dtype=torch.int32), tensor(0, dtype=torch.int32), tensor(0, dtype=torch.int32), tensor(0, dtype=torch.int32), tensor(0, dtype=torch.int32), tensor(0, dtype=torch.int32), tensor(0, dtype=torch.int32), tensor(0, dtype=torch.int32), tensor(0, dtype=torch.int32), tensor(0, dtype=torch.int32), tensor(0, dtype=torch.int32), tensor(0, dtype=torch.int32), tensor(0, dtype=torch.int32), tensor(1, dtype=torch.int32), tensor(1, dtype=torch.int32), tensor(1, dtype=torch.int32), tensor(1, dtype=torch.int32), tensor(2, dtype=torch.int32), tensor(2, dtype=torch.int32), tensor(2, dtype=torch.int32), tensor(2, dtype=torch.int32), tensor(2, dtype=torch.int32), tensor(2, dtype=torch.int32), tensor(2, dtype=torch.int32), tensor(2, dtype=torch.int32), tensor(2, dtype=torch.int32), tensor(2, dtype=torch.int32), tensor(2, dtype=torch.int32), tensor(2, dtype=torch.int32), tensor(2, dtype=torch.int32), tensor(2, dtype=torch.int32), tensor(2, dtype=torch.int32), tensor(2, dtype=torch.int32), tensor(2, dtype=torch.int32), tensor(2, dtype=torch.int32), tensor(2, dtype=torch.int32), tensor(2, dtype=torch.int32), tensor(2, dtype=torch.int32), tensor(2, dtype=torch.int32), tensor(2, dtype=torch.int32), tensor(2, dtype=torch.int32), tensor(2, dtype=torch.int32), tensor(2, dtype=torch.int32), tensor(2, dtype=torch.int32), tensor(2, dtype=torch.int32), tensor(2, dtype=torch.int32), tensor(2, dtype=torch.int32), tensor(3, dtype=torch.int32), tensor(3, dtype=torch.int32), tensor(3, dtype=torch.int32), tensor(3, dtype=torch.int32), tensor(3, dtype=torch.int32), tensor(3, dtype=torch.int32), tensor(3, dtype=torch.int32), tensor(3, dtype=torch.int32), tensor(3, dtype=torch.int32), tensor(3, dtype=torch.int32), tensor(3, dtype=torch.int32), tensor(3, dtype=torch.int32), tensor(3, dtype=torch.int32), tensor(3, dtype=torch.int32), tensor(3, dtype=torch.int32), tensor(3, dtype=torch.int32), tensor(3, dtype=torch.int32), tensor(3, dtype=torch.int32), tensor(3, dtype=torch.int32), tensor(3, dtype=torch.int32), tensor(3, dtype=torch.int32), tensor(3, dtype=torch.int32), tensor(3, dtype=torch.int32), tensor(3, dtype=torch.int32), tensor(3, dtype=torch.int32), tensor(3, dtype=torch.int32), tensor(3, dtype=torch.int32), tensor(3, dtype=torch.int32), tensor(3, dtype=torch.int32), tensor(3, dtype=torch.int32), tensor(3, dtype=torch.int32), tensor(4, dtype=torch.int32), tensor(4, dtype=torch.int32), tensor(4, dtype=torch.int32), tensor(4, dtype=torch.int32), tensor(4, dtype=torch.int32), tensor(4, dtype=torch.int32), tensor(4, dtype=torch.int32), tensor(4, dtype=torch.int32), tensor(4, dtype=torch.int32), tensor(5, dtype=torch.int32), tensor(5, dtype=torch.int32), tensor(5, dtype=torch.int32), tensor(5, dtype=torch.int32), tensor(5, dtype=torch.int32), tensor(5, dtype=torch.int32), tensor(5, dtype=torch.int32), tensor(5, dtype=torch.int32), tensor(5, dtype=torch.int32), tensor(5, dtype=torch.int32), tensor(5, dtype=torch.int32), tensor(5, dtype=torch.int32), tensor(5, dtype=torch.int32), tensor(5, dtype=torch.int32), tensor(5, dtype=torch.int32), tensor(5, dtype=torch.int32), tensor(5, dtype=torch.int32), tensor(5, dtype=torch.int32), tensor(5, dtype=torch.int32), tensor(5, dtype=torch.int32), tensor(6, dtype=torch.int32), tensor(6, dtype=torch.int32), tensor(6, dtype=torch.int32), tensor(6, dtype=torch.int32), tensor(6, dtype=torch.int32), tensor(6, dtype=torch.int32), tensor(6, dtype=torch.int32), tensor(6, dtype=torch.int32), tensor(7, dtype=torch.int32), tensor(7, dtype=torch.int32), tensor(7, dtype=torch.int32), tensor(7, dtype=torch.int32), tensor(7, dtype=torch.int32), tensor(7, dtype=torch.int32), tensor(7, dtype=torch.int32), tensor(7, dtype=torch.int32), tensor(7, dtype=torch.int32), tensor(7, dtype=torch.int32), tensor(8, dtype=torch.int32), tensor(8, dtype=torch.int32), tensor(8, dtype=torch.int32), tensor(8, dtype=torch.int32), tensor(9, dtype=torch.int32), tensor(9, dtype=torch.int32), tensor(9, dtype=torch.int32), tensor(9, dtype=torch.int32), tensor(9, dtype=torch.int32), tensor(9, dtype=torch.int32), tensor(9, dtype=torch.int32), tensor(9, dtype=torch.int32), tensor(9, dtype=torch.int32), tensor(9, dtype=torch.int32), tensor(9, dtype=torch.int32), tensor(9, dtype=torch.int32), tensor(9, dtype=torch.int32), tensor(9, dtype=torch.int32), tensor(9, dtype=torch.int32), tensor(9, dtype=torch.int32), tensor(9, dtype=torch.int32), tensor(9, dtype=torch.int32), tensor(9, dtype=torch.int32)] [tensor(0), tensor(0), tensor(0), tensor(0), tensor(0), tensor(0), tensor(0), tensor(0), tensor(0), tensor(0), tensor(0), tensor(2), tensor(0), tensor(1), tensor(1), tensor(1), tensor(1), tensor(2), tensor(2), tensor(4), tensor(5), tensor(2), tensor(3), tensor(4), tensor(2), tensor(3), tensor(3), tensor(2), tensor(2), tensor(6), tensor(3), tensor(2), tensor(3), tensor(0), tensor(7), tensor(2), tensor(0), tensor(3), tensor(7), tensor(4), tensor(2), tensor(2), tensor(5), tensor(5), tensor(3), tensor(2), tensor(2), tensor(3), tensor(6), tensor(6), tensor(0), tensor(2), tensor(3), tensor(2), tensor(2), tensor(3), tensor(3), tensor(3), tensor(6), tensor(3), tensor(7), tensor(7), tensor(3), tensor(3), tensor(0), tensor(3), tensor(9), tensor(2), tensor(3), tensor(2), tensor(4), tensor(2), tensor(2), tensor(2), tensor(3), tensor(9), tensor(0), tensor(2), tensor(3), tensor(0), tensor(4), tensor(4), tensor(4), tensor(4), tensor(9), tensor(3), tensor(0), tensor(5), tensor(5), tensor(6), tensor(5), tensor(5), tensor(5), tensor(5), tensor(5), tensor(5), tensor(0), tensor(6), tensor(5), tensor(5), tensor(0), tensor(9), tensor(5), tensor(5), tensor(5), tensor(6), tensor(5), tensor(6), tensor(6), tensor(6), tensor(6), tensor(4), tensor(6), tensor(1), tensor(6), tensor(7), tensor(7), tensor(7), tensor(7), tensor(7), tensor(1), tensor(7), tensor(7), tensor(8), tensor(7), tensor(8), tensor(8), tensor(5), tensor(8), tensor(9), tensor(8), tensor(9), tensor(9), tensor(9), tensor(9), tensor(9), tensor(9), tensor(6), tensor(6), tensor(9), tensor(9), tensor(9), tensor(6), tensor(9), tensor(6), tensor(9), tensor(9), tensor(9)] tensor(0.5946)\n"
     ]
    },
    {
     "name": "stderr",
     "output_type": "stream",
     "text": [
      "Batches: 100%|██████████| 10/10 [00:12<00:00,  1.22s/it]\n",
      "Batches: 100%|██████████| 5/5 [00:07<00:00,  1.55s/it]\n"
     ]
    },
    {
     "name": "stdout",
     "output_type": "stream",
     "text": [
      "SVM accuracy:  0.5743243243243243\n",
      "======= DONE WITH SBERT CLASSIFICATION ======== \n"
     ]
    },
    {
     "name": "stderr",
     "output_type": "stream",
     "text": [
      "Batches: 100%|██████████| 1/1 [00:00<00:00, 18.01it/s]\n",
      "Batches: 100%|██████████| 1/1 [00:00<00:00,  4.18it/s]\n",
      "Batches: 100%|██████████| 1/1 [00:00<00:00, 47.62it/s]\n",
      "Batches: 100%|██████████| 1/1 [00:00<00:00,  2.42it/s]\n",
      "Batches: 100%|██████████| 1/1 [00:00<00:00,  9.55it/s]\n",
      "Batches: 100%|██████████| 1/1 [00:00<00:00,  2.96it/s]\n",
      "Batches: 100%|██████████| 1/1 [00:00<00:00,  9.21it/s]\n",
      "Batches: 100%|██████████| 1/1 [00:00<00:00,  2.19it/s]\n",
      "Batches: 100%|██████████| 1/1 [00:00<00:00, 21.97it/s]\n",
      "Batches: 100%|██████████| 1/1 [00:00<00:00,  2.86it/s]\n",
      "Batches: 100%|██████████| 1/1 [00:00<00:00,  2.97it/s]\n",
      "Batches: 100%|██████████| 1/1 [00:00<00:00,  6.89it/s]\n",
      "Batches: 100%|██████████| 1/1 [00:00<00:00, 37.04it/s]\n",
      "Batches: 100%|██████████| 1/1 [00:00<00:00,  2.72it/s]\n",
      "Batches: 100%|██████████| 1/1 [00:00<00:00,  5.15it/s]\n",
      "Batches: 100%|██████████| 1/1 [00:00<00:00,  4.56it/s]\n",
      "Batches: 100%|██████████| 1/1 [00:00<00:00, 57.10it/s]\n",
      "Batches: 100%|██████████| 1/1 [00:00<00:00,  3.18it/s]\n",
      "Batches: 100%|██████████| 1/1 [00:00<00:00, 22.22it/s]\n",
      "Batches: 100%|██████████| 1/1 [00:00<00:00,  1.54it/s]\n"
     ]
    },
    {
     "name": "stdout",
     "output_type": "stream",
     "text": [
      "Mean cosine similarity score over all articles:  0.5200868\n",
      "0.08278833291915662 0.025573602235350736\n",
      "0.1890138896283346 0.050279767960327876\n",
      "0.14225566371475593 0.04167192882039931\n",
      "0.13976245703473367 0.05051120501126017\n",
      "0.15791725103687093 0.031019285750303254\n",
      "0.16625553553570743 0.045345438157147304\n",
      "0.06654906129922356 0.024769217704930523\n",
      "0.1325535806464298 0.02349359814432227\n",
      "0.09918295987924736 0.012195120846966192\n",
      "0.15522200190803082 0.05754295719427719\n",
      "Mean Rouge-1 score over all articles:  0.13315007336024906\n",
      "Worst Rouge-1 score over all articles:  0.06654906129922356\n",
      "Mean Rouge-2 score over all articles:  0.03624021218252848\n",
      "Worst Rouge-2 score over all articles:  0.012195120846966192\n",
      "Found 10 article ids in generated comments and 10 article ids in reference comments\n"
     ]
    },
    {
     "name": "stderr",
     "output_type": "stream",
     "text": [
      "Batches: 100%|██████████| 5/5 [00:00<00:00,  5.55it/s]\n",
      "Batches: 100%|██████████| 10/10 [00:01<00:00,  8.29it/s]\n"
     ]
    },
    {
     "name": "stdout",
     "output_type": "stream",
     "text": [
      "0.581081081081081\n",
      "              precision    recall  f1-score   support\n",
      "\n",
      "           0       0.63      0.92      0.75        13\n",
      "           1       0.36      1.00      0.53         4\n",
      "           2       0.62      0.43      0.51        30\n",
      "           3       0.50      0.35      0.42        31\n",
      "           4       0.60      0.67      0.63         9\n",
      "           5       1.00      0.60      0.75        20\n",
      "           6       0.31      0.50      0.38         8\n",
      "           7       0.57      0.80      0.67        10\n",
      "           8       0.33      0.75      0.46         4\n",
      "           9       0.76      0.68      0.72        19\n",
      "\n",
      "    accuracy                           0.58       148\n",
      "   macro avg       0.57      0.67      0.58       148\n",
      "weighted avg       0.63      0.58      0.58       148\n",
      "\n",
      "[[12  0  0  0  0  0  0  1  0  0]\n",
      " [ 0  4  0  0  0  0  0  0  0  0]\n",
      " [ 1  0 13  8  1  0  1  2  2  2]\n",
      " [ 3  0  8 11  3  0  2  3  0  1]\n",
      " [ 1  0  0  1  6  0  0  0  1  0]\n",
      " [ 0  2  0  1  0 12  3  0  1  1]\n",
      " [ 2  2  0  0  0  0  4  0  0  0]\n",
      " [ 0  1  0  0  0  0  0  8  1  0]\n",
      " [ 0  1  0  0  0  0  0  0  3  0]\n",
      " [ 0  1  0  1  0  0  3  0  1 13]]\n"
     ]
    }
   ],
   "source": [
    "train_art_df, val_art_df, train_tld_cmt_df, val_tld_cmt_df = load_limited_split_data(\"cmtsplit\")\n",
    "\n",
    "reference_comment_df = train_tld_cmt_df\n",
    "generated_comment_df = val_tld_cmt_df\n",
    "\n",
    "limited_dataset_score_dict = model_collect_scores(gen_cmt_df=generated_comment_df, ref_cmt_df=reference_comment_df)"
   ]
  },
  {
   "cell_type": "code",
   "execution_count": 4,
   "metadata": {},
   "outputs": [
    {
     "data": {
      "text/plain": [
       "tensor(0.5405)"
      ]
     },
     "execution_count": 4,
     "metadata": {},
     "output_type": "execute_result"
    }
   ],
   "source": [
    "limited_dataset_score_dict[\"sbert_class_accuracy\"]"
   ]
  },
  {
   "attachments": {},
   "cell_type": "markdown",
   "metadata": {},
   "source": [
    "### GPT-4 test - cmtsplit"
   ]
  },
  {
   "cell_type": "code",
   "execution_count": 3,
   "metadata": {},
   "outputs": [
    {
     "name": "stdout",
     "output_type": "stream",
     "text": [
      "Found 10 article ids in generated comments and 10 article ids in reference comments\n",
      "Sentence embedding length> 768\n"
     ]
    },
    {
     "name": "stderr",
     "output_type": "stream",
     "text": [
      "Iteration: 100%|██████████| 37/37 [00:02<00:00, 12.52it/s]\n",
      "Iteration: 100%|██████████| 37/37 [00:02<00:00, 13.68it/s]\n",
      "Iteration: 100%|██████████| 37/37 [00:02<00:00, 13.36it/s]\n",
      "Iteration: 100%|██████████| 37/37 [00:02<00:00, 13.68it/s]\n",
      "Epoch: 100%|██████████| 4/4 [00:11<00:00,  2.80s/it]\n",
      "Training epochs:   0%|          | 0/12 [00:00<?, ?it/s]"
     ]
    },
    {
     "name": "stdout",
     "output_type": "stream",
     "text": [
      "Running epoch: 1\n"
     ]
    },
    {
     "name": "stderr",
     "output_type": "stream",
     "text": [
      "c:\\Users\\trothe\\AppData\\Local\\Programs\\Python\\Python310\\lib\\site-packages\\torch\\nn\\functional.py:1956: UserWarning: nn.functional.tanh is deprecated. Use torch.tanh instead.\n",
      "  warnings.warn(\"nn.functional.tanh is deprecated. Use torch.tanh instead.\")\n"
     ]
    },
    {
     "name": "stdout",
     "output_type": "stream",
     "text": [
      "Loss for this epoch: 2.229871368408203\n",
      "Running epoch: 2\n"
     ]
    },
    {
     "name": "stderr",
     "output_type": "stream",
     "text": []
    },
    {
     "name": "stdout",
     "output_type": "stream",
     "text": [
      "Loss for this epoch: 1.961147129535675\n",
      "Running epoch: 3\n"
     ]
    },
    {
     "name": "stderr",
     "output_type": "stream",
     "text": [
      "Training epochs:  25%|██▌       | 3/12 [00:00<00:00, 29.36it/s]"
     ]
    },
    {
     "name": "stdout",
     "output_type": "stream",
     "text": [
      "Loss for this epoch: 1.7196582913398744\n",
      "Running epoch: 4\n"
     ]
    },
    {
     "name": "stderr",
     "output_type": "stream",
     "text": []
    },
    {
     "name": "stdout",
     "output_type": "stream",
     "text": [
      "Loss for this epoch: 1.51458979845047\n",
      "Running epoch: 5\n"
     ]
    },
    {
     "name": "stderr",
     "output_type": "stream",
     "text": []
    },
    {
     "name": "stdout",
     "output_type": "stream",
     "text": [
      "Loss for this epoch: 1.317033588886261\n",
      "Running epoch: 6\n"
     ]
    },
    {
     "name": "stderr",
     "output_type": "stream",
     "text": []
    },
    {
     "name": "stdout",
     "output_type": "stream",
     "text": [
      "Loss for this epoch: 1.0974879026412965\n",
      "Running epoch: 7\n"
     ]
    },
    {
     "name": "stderr",
     "output_type": "stream",
     "text": [
      "Training epochs:  58%|█████▊    | 7/12 [00:00<00:00, 30.00it/s]"
     ]
    },
    {
     "name": "stdout",
     "output_type": "stream",
     "text": [
      "Loss for this epoch: 0.9175463378429413\n",
      "Running epoch: 8\n"
     ]
    },
    {
     "name": "stderr",
     "output_type": "stream",
     "text": []
    },
    {
     "name": "stdout",
     "output_type": "stream",
     "text": [
      "Loss for this epoch: 0.7320262640714645\n",
      "Running epoch: 9\n"
     ]
    },
    {
     "name": "stderr",
     "output_type": "stream",
     "text": []
    },
    {
     "name": "stdout",
     "output_type": "stream",
     "text": [
      "Loss for this epoch: 0.6620064496994018\n",
      "Running epoch: 10\n"
     ]
    },
    {
     "name": "stderr",
     "output_type": "stream",
     "text": []
    },
    {
     "name": "stdout",
     "output_type": "stream",
     "text": [
      "Loss for this epoch: 0.520003592967987\n",
      "Running epoch: 11\n"
     ]
    },
    {
     "name": "stderr",
     "output_type": "stream",
     "text": [
      "Training epochs:  92%|█████████▏| 11/12 [00:00<00:00, 31.88it/s]"
     ]
    },
    {
     "name": "stdout",
     "output_type": "stream",
     "text": [
      "Loss for this epoch: 0.4365940153598785\n",
      "Running epoch: 12\n"
     ]
    },
    {
     "name": "stderr",
     "output_type": "stream",
     "text": [
      "Training epochs: 100%|██████████| 12/12 [00:00<00:00, 31.41it/s]\n"
     ]
    },
    {
     "name": "stdout",
     "output_type": "stream",
     "text": [
      "Loss for this epoch: 0.3856943815946579\n"
     ]
    },
    {
     "name": "stderr",
     "output_type": "stream",
     "text": [
      "Evaluation batches: 100%|██████████| 20/20 [00:00<00:00, 2000.19it/s]\n"
     ]
    },
    {
     "name": "stdout",
     "output_type": "stream",
     "text": [
      "Average evaluation loss: 1.1632683597505094\n",
      "Classification accuracy: 0.640625\n",
      "[tensor(4, dtype=torch.int32), tensor(4, dtype=torch.int32), tensor(4, dtype=torch.int32), tensor(4, dtype=torch.int32), tensor(4, dtype=torch.int32), tensor(4, dtype=torch.int32), tensor(4, dtype=torch.int32), tensor(4, dtype=torch.int32), tensor(4, dtype=torch.int32), tensor(4, dtype=torch.int32), tensor(4, dtype=torch.int32), tensor(4, dtype=torch.int32), tensor(4, dtype=torch.int32), tensor(4, dtype=torch.int32), tensor(4, dtype=torch.int32), tensor(4, dtype=torch.int32), tensor(4, dtype=torch.int32), tensor(4, dtype=torch.int32), tensor(4, dtype=torch.int32), tensor(4, dtype=torch.int32), tensor(4, dtype=torch.int32), tensor(4, dtype=torch.int32), tensor(4, dtype=torch.int32), tensor(4, dtype=torch.int32), tensor(4, dtype=torch.int32), tensor(4, dtype=torch.int32), tensor(4, dtype=torch.int32), tensor(4, dtype=torch.int32), tensor(4, dtype=torch.int32), tensor(4, dtype=torch.int32), tensor(4, dtype=torch.int32), tensor(4, dtype=torch.int32), tensor(8, dtype=torch.int32), tensor(8, dtype=torch.int32), tensor(8, dtype=torch.int32), tensor(8, dtype=torch.int32), tensor(8, dtype=torch.int32), tensor(8, dtype=torch.int32), tensor(8, dtype=torch.int32), tensor(8, dtype=torch.int32), tensor(8, dtype=torch.int32), tensor(8, dtype=torch.int32), tensor(8, dtype=torch.int32), tensor(8, dtype=torch.int32), tensor(8, dtype=torch.int32), tensor(8, dtype=torch.int32), tensor(8, dtype=torch.int32), tensor(8, dtype=torch.int32), tensor(8, dtype=torch.int32), tensor(8, dtype=torch.int32), tensor(8, dtype=torch.int32), tensor(8, dtype=torch.int32), tensor(8, dtype=torch.int32), tensor(8, dtype=torch.int32), tensor(8, dtype=torch.int32), tensor(8, dtype=torch.int32), tensor(8, dtype=torch.int32), tensor(8, dtype=torch.int32), tensor(8, dtype=torch.int32), tensor(8, dtype=torch.int32), tensor(8, dtype=torch.int32), tensor(8, dtype=torch.int32), tensor(8, dtype=torch.int32), tensor(8, dtype=torch.int32), tensor(2, dtype=torch.int32), tensor(2, dtype=torch.int32), tensor(2, dtype=torch.int32), tensor(2, dtype=torch.int32), tensor(2, dtype=torch.int32), tensor(2, dtype=torch.int32), tensor(2, dtype=torch.int32), tensor(2, dtype=torch.int32), tensor(2, dtype=torch.int32), tensor(2, dtype=torch.int32), tensor(2, dtype=torch.int32), tensor(2, dtype=torch.int32), tensor(2, dtype=torch.int32), tensor(2, dtype=torch.int32), tensor(2, dtype=torch.int32), tensor(2, dtype=torch.int32), tensor(2, dtype=torch.int32), tensor(2, dtype=torch.int32), tensor(2, dtype=torch.int32), tensor(2, dtype=torch.int32), tensor(2, dtype=torch.int32), tensor(2, dtype=torch.int32), tensor(2, dtype=torch.int32), tensor(2, dtype=torch.int32), tensor(2, dtype=torch.int32), tensor(2, dtype=torch.int32), tensor(2, dtype=torch.int32), tensor(2, dtype=torch.int32), tensor(2, dtype=torch.int32), tensor(2, dtype=torch.int32), tensor(2, dtype=torch.int32), tensor(2, dtype=torch.int32), tensor(7, dtype=torch.int32), tensor(7, dtype=torch.int32), tensor(7, dtype=torch.int32), tensor(7, dtype=torch.int32), tensor(7, dtype=torch.int32), tensor(7, dtype=torch.int32), tensor(7, dtype=torch.int32), tensor(7, dtype=torch.int32), tensor(7, dtype=torch.int32), tensor(7, dtype=torch.int32), tensor(7, dtype=torch.int32), tensor(7, dtype=torch.int32), tensor(7, dtype=torch.int32), tensor(7, dtype=torch.int32), tensor(7, dtype=torch.int32), tensor(7, dtype=torch.int32), tensor(7, dtype=torch.int32), tensor(7, dtype=torch.int32), tensor(7, dtype=torch.int32), tensor(7, dtype=torch.int32), tensor(7, dtype=torch.int32), tensor(7, dtype=torch.int32), tensor(7, dtype=torch.int32), tensor(7, dtype=torch.int32), tensor(7, dtype=torch.int32), tensor(7, dtype=torch.int32), tensor(7, dtype=torch.int32), tensor(7, dtype=torch.int32), tensor(7, dtype=torch.int32), tensor(7, dtype=torch.int32), tensor(7, dtype=torch.int32), tensor(7, dtype=torch.int32), tensor(3, dtype=torch.int32), tensor(3, dtype=torch.int32), tensor(3, dtype=torch.int32), tensor(3, dtype=torch.int32), tensor(3, dtype=torch.int32), tensor(3, dtype=torch.int32), tensor(3, dtype=torch.int32), tensor(3, dtype=torch.int32), tensor(3, dtype=torch.int32), tensor(3, dtype=torch.int32), tensor(3, dtype=torch.int32), tensor(3, dtype=torch.int32), tensor(3, dtype=torch.int32), tensor(3, dtype=torch.int32), tensor(3, dtype=torch.int32), tensor(3, dtype=torch.int32), tensor(3, dtype=torch.int32), tensor(3, dtype=torch.int32), tensor(3, dtype=torch.int32), tensor(3, dtype=torch.int32), tensor(3, dtype=torch.int32), tensor(3, dtype=torch.int32), tensor(3, dtype=torch.int32), tensor(3, dtype=torch.int32), tensor(3, dtype=torch.int32), tensor(3, dtype=torch.int32), tensor(3, dtype=torch.int32), tensor(3, dtype=torch.int32), tensor(3, dtype=torch.int32), tensor(3, dtype=torch.int32), tensor(3, dtype=torch.int32), tensor(3, dtype=torch.int32), tensor(6, dtype=torch.int32), tensor(6, dtype=torch.int32), tensor(6, dtype=torch.int32), tensor(6, dtype=torch.int32), tensor(6, dtype=torch.int32), tensor(6, dtype=torch.int32), tensor(6, dtype=torch.int32), tensor(6, dtype=torch.int32), tensor(6, dtype=torch.int32), tensor(6, dtype=torch.int32), tensor(6, dtype=torch.int32), tensor(6, dtype=torch.int32), tensor(6, dtype=torch.int32), tensor(6, dtype=torch.int32), tensor(6, dtype=torch.int32), tensor(6, dtype=torch.int32), tensor(6, dtype=torch.int32), tensor(6, dtype=torch.int32), tensor(6, dtype=torch.int32), tensor(6, dtype=torch.int32), tensor(6, dtype=torch.int32), tensor(6, dtype=torch.int32), tensor(6, dtype=torch.int32), tensor(6, dtype=torch.int32), tensor(6, dtype=torch.int32), tensor(6, dtype=torch.int32), tensor(6, dtype=torch.int32), tensor(6, dtype=torch.int32), tensor(6, dtype=torch.int32), tensor(6, dtype=torch.int32), tensor(6, dtype=torch.int32), tensor(6, dtype=torch.int32), tensor(9, dtype=torch.int32), tensor(9, dtype=torch.int32), tensor(9, dtype=torch.int32), tensor(9, dtype=torch.int32), tensor(9, dtype=torch.int32), tensor(9, dtype=torch.int32), tensor(9, dtype=torch.int32), tensor(9, dtype=torch.int32), tensor(9, dtype=torch.int32), tensor(9, dtype=torch.int32), tensor(9, dtype=torch.int32), tensor(9, dtype=torch.int32), tensor(9, dtype=torch.int32), tensor(9, dtype=torch.int32), tensor(9, dtype=torch.int32), tensor(9, dtype=torch.int32), tensor(9, dtype=torch.int32), tensor(9, dtype=torch.int32), tensor(9, dtype=torch.int32), tensor(9, dtype=torch.int32), tensor(9, dtype=torch.int32), tensor(9, dtype=torch.int32), tensor(9, dtype=torch.int32), tensor(9, dtype=torch.int32), tensor(9, dtype=torch.int32), tensor(9, dtype=torch.int32), tensor(9, dtype=torch.int32), tensor(9, dtype=torch.int32), tensor(9, dtype=torch.int32), tensor(9, dtype=torch.int32), tensor(9, dtype=torch.int32), tensor(9, dtype=torch.int32), tensor(5, dtype=torch.int32), tensor(5, dtype=torch.int32), tensor(5, dtype=torch.int32), tensor(5, dtype=torch.int32), tensor(5, dtype=torch.int32), tensor(5, dtype=torch.int32), tensor(5, dtype=torch.int32), tensor(5, dtype=torch.int32), tensor(5, dtype=torch.int32), tensor(5, dtype=torch.int32), tensor(5, dtype=torch.int32), tensor(5, dtype=torch.int32), tensor(5, dtype=torch.int32), tensor(5, dtype=torch.int32), tensor(5, dtype=torch.int32), tensor(5, dtype=torch.int32), tensor(5, dtype=torch.int32), tensor(5, dtype=torch.int32), tensor(5, dtype=torch.int32), tensor(5, dtype=torch.int32), tensor(5, dtype=torch.int32), tensor(5, dtype=torch.int32), tensor(5, dtype=torch.int32), tensor(5, dtype=torch.int32), tensor(5, dtype=torch.int32), tensor(5, dtype=torch.int32), tensor(5, dtype=torch.int32), tensor(5, dtype=torch.int32), tensor(5, dtype=torch.int32), tensor(5, dtype=torch.int32), tensor(5, dtype=torch.int32), tensor(5, dtype=torch.int32), tensor(1, dtype=torch.int32), tensor(1, dtype=torch.int32), tensor(1, dtype=torch.int32), tensor(1, dtype=torch.int32), tensor(1, dtype=torch.int32), tensor(1, dtype=torch.int32), tensor(1, dtype=torch.int32), tensor(1, dtype=torch.int32), tensor(1, dtype=torch.int32), tensor(1, dtype=torch.int32), tensor(1, dtype=torch.int32), tensor(1, dtype=torch.int32), tensor(1, dtype=torch.int32), tensor(1, dtype=torch.int32), tensor(1, dtype=torch.int32), tensor(1, dtype=torch.int32), tensor(1, dtype=torch.int32), tensor(1, dtype=torch.int32), tensor(1, dtype=torch.int32), tensor(1, dtype=torch.int32), tensor(1, dtype=torch.int32), tensor(1, dtype=torch.int32), tensor(1, dtype=torch.int32), tensor(1, dtype=torch.int32), tensor(1, dtype=torch.int32), tensor(1, dtype=torch.int32), tensor(1, dtype=torch.int32), tensor(1, dtype=torch.int32), tensor(1, dtype=torch.int32), tensor(1, dtype=torch.int32), tensor(1, dtype=torch.int32), tensor(1, dtype=torch.int32), tensor(0, dtype=torch.int32), tensor(0, dtype=torch.int32), tensor(0, dtype=torch.int32), tensor(0, dtype=torch.int32), tensor(0, dtype=torch.int32), tensor(0, dtype=torch.int32), tensor(0, dtype=torch.int32), tensor(0, dtype=torch.int32), tensor(0, dtype=torch.int32), tensor(0, dtype=torch.int32), tensor(0, dtype=torch.int32), tensor(0, dtype=torch.int32), tensor(0, dtype=torch.int32), tensor(0, dtype=torch.int32), tensor(0, dtype=torch.int32), tensor(0, dtype=torch.int32), tensor(0, dtype=torch.int32), tensor(0, dtype=torch.int32), tensor(0, dtype=torch.int32), tensor(0, dtype=torch.int32), tensor(0, dtype=torch.int32), tensor(0, dtype=torch.int32), tensor(0, dtype=torch.int32), tensor(0, dtype=torch.int32), tensor(0, dtype=torch.int32), tensor(0, dtype=torch.int32), tensor(0, dtype=torch.int32), tensor(0, dtype=torch.int32), tensor(0, dtype=torch.int32), tensor(0, dtype=torch.int32), tensor(0, dtype=torch.int32), tensor(0, dtype=torch.int32)] [tensor(4), tensor(4), tensor(4), tensor(3), tensor(4), tensor(3), tensor(4), tensor(2), tensor(4), tensor(5), tensor(4), tensor(4), tensor(5), tensor(4), tensor(9), tensor(4), tensor(4), tensor(4), tensor(4), tensor(4), tensor(4), tensor(4), tensor(4), tensor(4), tensor(2), tensor(4), tensor(3), tensor(5), tensor(4), tensor(4), tensor(3), tensor(4), tensor(2), tensor(3), tensor(7), tensor(3), tensor(2), tensor(2), tensor(6), tensor(3), tensor(6), tensor(2), tensor(3), tensor(2), tensor(9), tensor(9), tensor(2), tensor(5), tensor(5), tensor(2), tensor(2), tensor(2), tensor(3), tensor(0), tensor(2), tensor(2), tensor(2), tensor(2), tensor(2), tensor(3), tensor(9), tensor(6), tensor(2), tensor(3), tensor(2), tensor(2), tensor(2), tensor(2), tensor(2), tensor(2), tensor(2), tensor(2), tensor(2), tensor(2), tensor(3), tensor(2), tensor(2), tensor(2), tensor(2), tensor(2), tensor(2), tensor(4), tensor(2), tensor(2), tensor(3), tensor(2), tensor(2), tensor(2), tensor(2), tensor(2), tensor(2), tensor(2), tensor(2), tensor(2), tensor(2), tensor(3), tensor(7), tensor(7), tensor(7), tensor(3), tensor(7), tensor(3), tensor(7), tensor(7), tensor(7), tensor(7), tensor(2), tensor(3), tensor(7), tensor(7), tensor(7), tensor(7), tensor(7), tensor(7), tensor(7), tensor(7), tensor(7), tensor(7), tensor(7), tensor(7), tensor(7), tensor(3), tensor(7), tensor(7), tensor(7), tensor(7), tensor(7), tensor(7), tensor(3), tensor(3), tensor(3), tensor(3), tensor(3), tensor(2), tensor(2), tensor(3), tensor(3), tensor(2), tensor(2), tensor(3), tensor(3), tensor(2), tensor(3), tensor(3), tensor(2), tensor(2), tensor(2), tensor(3), tensor(2), tensor(2), tensor(3), tensor(3), tensor(2), tensor(3), tensor(3), tensor(2), tensor(4), tensor(2), tensor(3), tensor(3), tensor(3), tensor(6), tensor(2), tensor(6), tensor(6), tensor(6), tensor(3), tensor(3), tensor(6), tensor(6), tensor(6), tensor(6), tensor(6), tensor(3), tensor(6), tensor(2), tensor(3), tensor(6), tensor(3), tensor(3), tensor(3), tensor(2), tensor(6), tensor(2), tensor(3), tensor(9), tensor(3), tensor(3), tensor(6), tensor(6), tensor(6), tensor(6), tensor(9), tensor(2), tensor(4), tensor(3), tensor(9), tensor(9), tensor(9), tensor(3), tensor(9), tensor(9), tensor(9), tensor(9), tensor(9), tensor(9), tensor(9), tensor(9), tensor(9), tensor(9), tensor(9), tensor(9), tensor(9), tensor(3), tensor(9), tensor(9), tensor(9), tensor(9), tensor(9), tensor(9), tensor(9), tensor(9), tensor(9), tensor(9), tensor(2), tensor(5), tensor(5), tensor(5), tensor(5), tensor(5), tensor(5), tensor(2), tensor(5), tensor(5), tensor(5), tensor(5), tensor(5), tensor(5), tensor(5), tensor(5), tensor(5), tensor(5), tensor(5), tensor(5), tensor(5), tensor(5), tensor(5), tensor(5), tensor(5), tensor(5), tensor(5), tensor(5), tensor(5), tensor(5), tensor(5), tensor(5), tensor(1), tensor(1), tensor(1), tensor(1), tensor(1), tensor(1), tensor(1), tensor(2), tensor(1), tensor(2), tensor(1), tensor(3), tensor(1), tensor(1), tensor(1), tensor(9), tensor(2), tensor(6), tensor(6), tensor(1), tensor(1), tensor(1), tensor(1), tensor(1), tensor(1), tensor(6), tensor(1), tensor(1), tensor(1), tensor(9), tensor(2), tensor(9), tensor(3), tensor(0), tensor(3), tensor(0), tensor(3), tensor(0), tensor(0), tensor(0), tensor(0), tensor(0), tensor(0), tensor(3), tensor(3), tensor(0), tensor(0), tensor(0), tensor(3), tensor(3), tensor(3), tensor(3), tensor(3), tensor(7), tensor(3), tensor(0), tensor(0), tensor(0), tensor(0), tensor(3), tensor(3), tensor(0), tensor(3), tensor(3)] tensor(0.6406)\n"
     ]
    },
    {
     "name": "stderr",
     "output_type": "stream",
     "text": [
      "Batches: 100%|██████████| 5/5 [00:07<00:00,  1.43s/it]\n",
      "Batches: 100%|██████████| 10/10 [00:03<00:00,  2.64it/s]\n"
     ]
    },
    {
     "name": "stdout",
     "output_type": "stream",
     "text": [
      "SVM accuracy:  0.609375\n",
      "======= DONE WITH SBERT CLASSIFICATION ======== \n"
     ]
    },
    {
     "name": "stderr",
     "output_type": "stream",
     "text": [
      "Batches: 100%|██████████| 1/1 [00:00<00:00, 16.66it/s]\n",
      "Batches: 100%|██████████| 1/1 [00:00<00:00, 18.97it/s]\n",
      "Batches: 100%|██████████| 1/1 [00:00<00:00, 12.90it/s]\n",
      "Batches: 100%|██████████| 1/1 [00:00<00:00, 52.61it/s]\n",
      "Batches: 100%|██████████| 1/1 [00:00<00:00, 12.26it/s]\n",
      "Batches: 100%|██████████| 1/1 [00:00<00:00,  8.95it/s]\n",
      "Batches: 100%|██████████| 1/1 [00:00<00:00,  8.09it/s]\n",
      "Batches: 100%|██████████| 1/1 [00:00<00:00,  4.97it/s]\n",
      "Batches: 100%|██████████| 1/1 [00:00<00:00, 25.63it/s]\n",
      "Batches: 100%|██████████| 1/1 [00:00<00:00,  8.68it/s]\n",
      "Batches: 100%|██████████| 1/1 [00:00<00:00,  8.65it/s]\n",
      "Batches: 100%|██████████| 1/1 [00:00<00:00, 29.20it/s]\n",
      "Batches: 100%|██████████| 1/1 [00:00<00:00, 12.43it/s]\n",
      "Batches: 100%|██████████| 1/1 [00:00<00:00, 18.50it/s]\n",
      "Batches: 100%|██████████| 1/1 [00:00<00:00, 13.83it/s]\n",
      "Batches: 100%|██████████| 1/1 [00:00<00:00,  2.94it/s]\n",
      "Batches: 100%|██████████| 1/1 [00:00<00:00, 10.05it/s]\n",
      "Batches: 100%|██████████| 1/1 [00:00<00:00, 38.93it/s]\n",
      "Batches: 100%|██████████| 1/1 [00:00<00:00, 23.81it/s]\n",
      "Batches: 100%|██████████| 1/1 [00:00<00:00, 17.37it/s]\n"
     ]
    },
    {
     "name": "stdout",
     "output_type": "stream",
     "text": [
      "Mean cosine similarity score over all articles:  0.5426458\n",
      "0.08797747483748133 0.019106662846578228\n",
      "0.12042956617063366 0.002790178317527881\n",
      "0.18869633677443326 0.06467058751335705\n",
      "0.08949023909671121 0.017588887770821005\n",
      "0.11860502643732838 0.05906936323845556\n",
      "0.09754788298308761 0.027487268379791006\n",
      "0.14536318237343918 0.04821820623227054\n",
      "0.17517402291962111 0.060039722185970194\n",
      "0.10867150627164054 0.023120350898857295\n",
      "0.08413040718893075 0.01363469065628771\n",
      "Mean Rouge-1 score over all articles:  0.12160856450533072\n",
      "Worst Rouge-1 score over all articles:  0.08413040718893075\n",
      "Mean Rouge-2 score over all articles:  0.03357259180399164\n",
      "Worst Rouge-2 score over all articles:  0.002790178317527881\n",
      "Found 10 article ids in generated comments and 10 article ids in reference comments\n"
     ]
    },
    {
     "name": "stderr",
     "output_type": "stream",
     "text": [
      "Batches: 100%|██████████| 10/10 [00:00<00:00, 12.67it/s]\n",
      "Batches: 100%|██████████| 5/5 [00:00<00:00,  6.12it/s]\n"
     ]
    },
    {
     "name": "stdout",
     "output_type": "stream",
     "text": [
      "0.609375\n",
      "              precision    recall  f1-score   support\n",
      "\n",
      "           0       1.00      0.56      0.72        32\n",
      "           1       1.00      0.31      0.48        32\n",
      "           2       0.35      0.97      0.51        32\n",
      "           3       0.30      0.53      0.39        32\n",
      "           4       0.90      0.88      0.89        32\n",
      "           5       0.91      0.94      0.92        32\n",
      "           6       0.88      0.22      0.35        32\n",
      "           7       0.96      0.78      0.86        32\n",
      "           8       0.00      0.00      0.00        32\n",
      "           9       0.60      0.91      0.72        32\n",
      "\n",
      "    accuracy                           0.61       320\n",
      "   macro avg       0.69      0.61      0.58       320\n",
      "weighted avg       0.69      0.61      0.58       320\n",
      "\n",
      "[[18  0  3 11  0  0  0  0  0  0]\n",
      " [ 0 10  4  1  1  2  1  0  1 12]\n",
      " [ 0  0 31  1  0  0  0  0  0  0]\n",
      " [ 0  0 14 17  1  0  0  0  0  0]\n",
      " [ 0  0  3  1 28  0  0  0  0  0]\n",
      " [ 0  0  2  0  0 30  0  0  0  0]\n",
      " [ 0  0  7 15  0  0  7  0  0  3]\n",
      " [ 0  0  1  6  0  0  0 25  0  0]\n",
      " [ 0  0 22  3  1  1  0  1  0  4]\n",
      " [ 0  0  2  1  0  0  0  0  0 29]]\n"
     ]
    }
   ],
   "source": [
    "# Data import; Should at least have the columns: \"article_id\", \"body\", \"level\"\n",
    "# other columns will be ignored\n",
    "train_art_df, val_art_df, train_tld_cmt_df, val_tld_cmt_df =  load_limited_split_data(\"cmtsplit\")\n",
    "\n",
    "reference_comment_df = val_tld_cmt_df\n",
    "generated_comment_df = pd.read_csv(\"S:\\\\Sync\\\\University\\\\2023_MRP_1\\\\MRP1_WorkDir\\\\data\\\\destilled\\\\cmtsplit\\\\r_cmtsplit_generated_[gpt-4]_[withexamples]_[T=0.8].csv\", sep=\";\")\n",
    "\n",
    "gpt4_scores_dict = model_collect_scores(gen_cmt_df=generated_comment_df, ref_cmt_df=reference_comment_df)\n"
   ]
  },
  {
   "attachments": {},
   "cell_type": "markdown",
   "metadata": {},
   "source": [
    "### GPT-3.5-Turbo test - cmtsplit"
   ]
  },
  {
   "cell_type": "code",
   "execution_count": 4,
   "metadata": {},
   "outputs": [
    {
     "name": "stdout",
     "output_type": "stream",
     "text": [
      "Found 10 article ids in generated comments and 10 article ids in reference comments\n",
      "Sentence embedding length> 768\n"
     ]
    },
    {
     "name": "stderr",
     "output_type": "stream",
     "text": [
      "Iteration: 100%|██████████| 37/37 [00:02<00:00, 14.01it/s]\n",
      "Iteration: 100%|██████████| 37/37 [00:02<00:00, 12.92it/s]\n",
      "Iteration: 100%|██████████| 37/37 [00:02<00:00, 12.84it/s]\n",
      "Iteration: 100%|██████████| 37/37 [00:02<00:00, 13.50it/s]\n",
      "Epoch: 100%|██████████| 4/4 [00:11<00:00,  2.79s/it]\n",
      "Training epochs:   0%|          | 0/12 [00:00<?, ?it/s]"
     ]
    },
    {
     "name": "stdout",
     "output_type": "stream",
     "text": [
      "Running epoch: 1\n"
     ]
    },
    {
     "name": "stderr",
     "output_type": "stream",
     "text": [
      "c:\\Users\\trothe\\AppData\\Local\\Programs\\Python\\Python310\\lib\\site-packages\\torch\\nn\\functional.py:1956: UserWarning: nn.functional.tanh is deprecated. Use torch.tanh instead.\n",
      "  warnings.warn(\"nn.functional.tanh is deprecated. Use torch.tanh instead.\")\n"
     ]
    },
    {
     "name": "stdout",
     "output_type": "stream",
     "text": [
      "Loss for this epoch: 2.23606960773468\n",
      "Running epoch: 2\n"
     ]
    },
    {
     "name": "stderr",
     "output_type": "stream",
     "text": []
    },
    {
     "name": "stdout",
     "output_type": "stream",
     "text": [
      "Loss for this epoch: 1.9795202016830444\n",
      "Running epoch: 3\n"
     ]
    },
    {
     "name": "stderr",
     "output_type": "stream",
     "text": []
    },
    {
     "name": "stdout",
     "output_type": "stream",
     "text": [
      "Loss for this epoch: 1.746719980239868\n",
      "Running epoch: 4\n"
     ]
    },
    {
     "name": "stderr",
     "output_type": "stream",
     "text": [
      "Training epochs:  33%|███▎      | 4/12 [00:00<00:00, 35.23it/s]"
     ]
    },
    {
     "name": "stdout",
     "output_type": "stream",
     "text": [
      "Loss for this epoch: 1.476270365715027\n",
      "Running epoch: 5\n"
     ]
    },
    {
     "name": "stderr",
     "output_type": "stream",
     "text": []
    },
    {
     "name": "stdout",
     "output_type": "stream",
     "text": [
      "Loss for this epoch: 1.2609840095043183\n",
      "Running epoch: 6\n"
     ]
    },
    {
     "name": "stderr",
     "output_type": "stream",
     "text": []
    },
    {
     "name": "stdout",
     "output_type": "stream",
     "text": [
      "Loss for this epoch: 1.0529296934604644\n",
      "Running epoch: 7\n"
     ]
    },
    {
     "name": "stderr",
     "output_type": "stream",
     "text": []
    },
    {
     "name": "stdout",
     "output_type": "stream",
     "text": [
      "Loss for this epoch: 0.9280294954776764\n",
      "Running epoch: 8\n"
     ]
    },
    {
     "name": "stderr",
     "output_type": "stream",
     "text": [
      "Training epochs:  67%|██████▋   | 8/12 [00:00<00:00, 35.23it/s]"
     ]
    },
    {
     "name": "stdout",
     "output_type": "stream",
     "text": [
      "Loss for this epoch: 0.7725303649902344\n",
      "Running epoch: 9\n"
     ]
    },
    {
     "name": "stderr",
     "output_type": "stream",
     "text": []
    },
    {
     "name": "stdout",
     "output_type": "stream",
     "text": [
      "Loss for this epoch: 0.6408800512552262\n",
      "Running epoch: 10\n"
     ]
    },
    {
     "name": "stderr",
     "output_type": "stream",
     "text": []
    },
    {
     "name": "stdout",
     "output_type": "stream",
     "text": [
      "Loss for this epoch: 0.5545343637466431\n",
      "Running epoch: 11\n"
     ]
    },
    {
     "name": "stderr",
     "output_type": "stream",
     "text": []
    },
    {
     "name": "stdout",
     "output_type": "stream",
     "text": [
      "Loss for this epoch: 0.45079657435417175\n",
      "Running epoch: 12\n"
     ]
    },
    {
     "name": "stderr",
     "output_type": "stream",
     "text": [
      "Training epochs: 100%|██████████| 12/12 [00:00<00:00, 35.32it/s]\n"
     ]
    },
    {
     "name": "stdout",
     "output_type": "stream",
     "text": [
      "Loss for this epoch: 0.3761537030339241\n"
     ]
    },
    {
     "name": "stderr",
     "output_type": "stream",
     "text": [
      "Evaluation batches: 100%|██████████| 20/20 [00:00<00:00, 2221.97it/s]\n"
     ]
    },
    {
     "name": "stdout",
     "output_type": "stream",
     "text": [
      "Average evaluation loss: 1.1501799749210477\n",
      "Classification accuracy: 0.6499999761581421\n",
      "[tensor(4, dtype=torch.int32), tensor(4, dtype=torch.int32), tensor(4, dtype=torch.int32), tensor(4, dtype=torch.int32), tensor(4, dtype=torch.int32), tensor(4, dtype=torch.int32), tensor(4, dtype=torch.int32), tensor(4, dtype=torch.int32), tensor(4, dtype=torch.int32), tensor(4, dtype=torch.int32), tensor(4, dtype=torch.int32), tensor(4, dtype=torch.int32), tensor(4, dtype=torch.int32), tensor(4, dtype=torch.int32), tensor(4, dtype=torch.int32), tensor(4, dtype=torch.int32), tensor(4, dtype=torch.int32), tensor(4, dtype=torch.int32), tensor(4, dtype=torch.int32), tensor(4, dtype=torch.int32), tensor(4, dtype=torch.int32), tensor(4, dtype=torch.int32), tensor(4, dtype=torch.int32), tensor(4, dtype=torch.int32), tensor(4, dtype=torch.int32), tensor(4, dtype=torch.int32), tensor(4, dtype=torch.int32), tensor(4, dtype=torch.int32), tensor(4, dtype=torch.int32), tensor(4, dtype=torch.int32), tensor(4, dtype=torch.int32), tensor(4, dtype=torch.int32), tensor(8, dtype=torch.int32), tensor(8, dtype=torch.int32), tensor(8, dtype=torch.int32), tensor(8, dtype=torch.int32), tensor(8, dtype=torch.int32), tensor(8, dtype=torch.int32), tensor(8, dtype=torch.int32), tensor(8, dtype=torch.int32), tensor(8, dtype=torch.int32), tensor(8, dtype=torch.int32), tensor(8, dtype=torch.int32), tensor(8, dtype=torch.int32), tensor(8, dtype=torch.int32), tensor(8, dtype=torch.int32), tensor(8, dtype=torch.int32), tensor(8, dtype=torch.int32), tensor(8, dtype=torch.int32), tensor(8, dtype=torch.int32), tensor(8, dtype=torch.int32), tensor(8, dtype=torch.int32), tensor(8, dtype=torch.int32), tensor(8, dtype=torch.int32), tensor(8, dtype=torch.int32), tensor(8, dtype=torch.int32), tensor(8, dtype=torch.int32), tensor(8, dtype=torch.int32), tensor(8, dtype=torch.int32), tensor(8, dtype=torch.int32), tensor(8, dtype=torch.int32), tensor(8, dtype=torch.int32), tensor(8, dtype=torch.int32), tensor(8, dtype=torch.int32), tensor(2, dtype=torch.int32), tensor(2, dtype=torch.int32), tensor(2, dtype=torch.int32), tensor(2, dtype=torch.int32), tensor(2, dtype=torch.int32), tensor(2, dtype=torch.int32), tensor(2, dtype=torch.int32), tensor(2, dtype=torch.int32), tensor(2, dtype=torch.int32), tensor(2, dtype=torch.int32), tensor(2, dtype=torch.int32), tensor(2, dtype=torch.int32), tensor(2, dtype=torch.int32), tensor(2, dtype=torch.int32), tensor(2, dtype=torch.int32), tensor(2, dtype=torch.int32), tensor(2, dtype=torch.int32), tensor(2, dtype=torch.int32), tensor(2, dtype=torch.int32), tensor(2, dtype=torch.int32), tensor(2, dtype=torch.int32), tensor(2, dtype=torch.int32), tensor(2, dtype=torch.int32), tensor(2, dtype=torch.int32), tensor(2, dtype=torch.int32), tensor(2, dtype=torch.int32), tensor(2, dtype=torch.int32), tensor(2, dtype=torch.int32), tensor(2, dtype=torch.int32), tensor(2, dtype=torch.int32), tensor(2, dtype=torch.int32), tensor(2, dtype=torch.int32), tensor(7, dtype=torch.int32), tensor(7, dtype=torch.int32), tensor(7, dtype=torch.int32), tensor(7, dtype=torch.int32), tensor(7, dtype=torch.int32), tensor(7, dtype=torch.int32), tensor(7, dtype=torch.int32), tensor(7, dtype=torch.int32), tensor(7, dtype=torch.int32), tensor(7, dtype=torch.int32), tensor(7, dtype=torch.int32), tensor(7, dtype=torch.int32), tensor(7, dtype=torch.int32), tensor(7, dtype=torch.int32), tensor(7, dtype=torch.int32), tensor(7, dtype=torch.int32), tensor(7, dtype=torch.int32), tensor(7, dtype=torch.int32), tensor(7, dtype=torch.int32), tensor(7, dtype=torch.int32), tensor(7, dtype=torch.int32), tensor(7, dtype=torch.int32), tensor(7, dtype=torch.int32), tensor(7, dtype=torch.int32), tensor(7, dtype=torch.int32), tensor(7, dtype=torch.int32), tensor(7, dtype=torch.int32), tensor(7, dtype=torch.int32), tensor(7, dtype=torch.int32), tensor(7, dtype=torch.int32), tensor(7, dtype=torch.int32), tensor(7, dtype=torch.int32), tensor(3, dtype=torch.int32), tensor(3, dtype=torch.int32), tensor(3, dtype=torch.int32), tensor(3, dtype=torch.int32), tensor(3, dtype=torch.int32), tensor(3, dtype=torch.int32), tensor(3, dtype=torch.int32), tensor(3, dtype=torch.int32), tensor(3, dtype=torch.int32), tensor(3, dtype=torch.int32), tensor(3, dtype=torch.int32), tensor(3, dtype=torch.int32), tensor(3, dtype=torch.int32), tensor(3, dtype=torch.int32), tensor(3, dtype=torch.int32), tensor(3, dtype=torch.int32), tensor(3, dtype=torch.int32), tensor(3, dtype=torch.int32), tensor(3, dtype=torch.int32), tensor(3, dtype=torch.int32), tensor(3, dtype=torch.int32), tensor(3, dtype=torch.int32), tensor(3, dtype=torch.int32), tensor(3, dtype=torch.int32), tensor(3, dtype=torch.int32), tensor(3, dtype=torch.int32), tensor(3, dtype=torch.int32), tensor(3, dtype=torch.int32), tensor(3, dtype=torch.int32), tensor(3, dtype=torch.int32), tensor(3, dtype=torch.int32), tensor(3, dtype=torch.int32), tensor(6, dtype=torch.int32), tensor(6, dtype=torch.int32), tensor(6, dtype=torch.int32), tensor(6, dtype=torch.int32), tensor(6, dtype=torch.int32), tensor(6, dtype=torch.int32), tensor(6, dtype=torch.int32), tensor(6, dtype=torch.int32), tensor(6, dtype=torch.int32), tensor(6, dtype=torch.int32), tensor(6, dtype=torch.int32), tensor(6, dtype=torch.int32), tensor(6, dtype=torch.int32), tensor(6, dtype=torch.int32), tensor(6, dtype=torch.int32), tensor(6, dtype=torch.int32), tensor(6, dtype=torch.int32), tensor(6, dtype=torch.int32), tensor(6, dtype=torch.int32), tensor(6, dtype=torch.int32), tensor(6, dtype=torch.int32), tensor(6, dtype=torch.int32), tensor(6, dtype=torch.int32), tensor(6, dtype=torch.int32), tensor(6, dtype=torch.int32), tensor(6, dtype=torch.int32), tensor(6, dtype=torch.int32), tensor(6, dtype=torch.int32), tensor(6, dtype=torch.int32), tensor(6, dtype=torch.int32), tensor(6, dtype=torch.int32), tensor(6, dtype=torch.int32), tensor(9, dtype=torch.int32), tensor(9, dtype=torch.int32), tensor(9, dtype=torch.int32), tensor(9, dtype=torch.int32), tensor(9, dtype=torch.int32), tensor(9, dtype=torch.int32), tensor(9, dtype=torch.int32), tensor(9, dtype=torch.int32), tensor(9, dtype=torch.int32), tensor(9, dtype=torch.int32), tensor(9, dtype=torch.int32), tensor(9, dtype=torch.int32), tensor(9, dtype=torch.int32), tensor(9, dtype=torch.int32), tensor(9, dtype=torch.int32), tensor(9, dtype=torch.int32), tensor(9, dtype=torch.int32), tensor(9, dtype=torch.int32), tensor(9, dtype=torch.int32), tensor(9, dtype=torch.int32), tensor(9, dtype=torch.int32), tensor(9, dtype=torch.int32), tensor(9, dtype=torch.int32), tensor(9, dtype=torch.int32), tensor(9, dtype=torch.int32), tensor(9, dtype=torch.int32), tensor(9, dtype=torch.int32), tensor(9, dtype=torch.int32), tensor(9, dtype=torch.int32), tensor(9, dtype=torch.int32), tensor(9, dtype=torch.int32), tensor(9, dtype=torch.int32), tensor(5, dtype=torch.int32), tensor(5, dtype=torch.int32), tensor(5, dtype=torch.int32), tensor(5, dtype=torch.int32), tensor(5, dtype=torch.int32), tensor(5, dtype=torch.int32), tensor(5, dtype=torch.int32), tensor(5, dtype=torch.int32), tensor(5, dtype=torch.int32), tensor(5, dtype=torch.int32), tensor(5, dtype=torch.int32), tensor(5, dtype=torch.int32), tensor(5, dtype=torch.int32), tensor(5, dtype=torch.int32), tensor(5, dtype=torch.int32), tensor(5, dtype=torch.int32), tensor(5, dtype=torch.int32), tensor(5, dtype=torch.int32), tensor(5, dtype=torch.int32), tensor(5, dtype=torch.int32), tensor(5, dtype=torch.int32), tensor(5, dtype=torch.int32), tensor(5, dtype=torch.int32), tensor(5, dtype=torch.int32), tensor(5, dtype=torch.int32), tensor(5, dtype=torch.int32), tensor(5, dtype=torch.int32), tensor(5, dtype=torch.int32), tensor(5, dtype=torch.int32), tensor(5, dtype=torch.int32), tensor(5, dtype=torch.int32), tensor(5, dtype=torch.int32), tensor(1, dtype=torch.int32), tensor(1, dtype=torch.int32), tensor(1, dtype=torch.int32), tensor(1, dtype=torch.int32), tensor(1, dtype=torch.int32), tensor(1, dtype=torch.int32), tensor(1, dtype=torch.int32), tensor(1, dtype=torch.int32), tensor(1, dtype=torch.int32), tensor(1, dtype=torch.int32), tensor(1, dtype=torch.int32), tensor(1, dtype=torch.int32), tensor(1, dtype=torch.int32), tensor(1, dtype=torch.int32), tensor(1, dtype=torch.int32), tensor(1, dtype=torch.int32), tensor(1, dtype=torch.int32), tensor(1, dtype=torch.int32), tensor(1, dtype=torch.int32), tensor(1, dtype=torch.int32), tensor(1, dtype=torch.int32), tensor(1, dtype=torch.int32), tensor(1, dtype=torch.int32), tensor(1, dtype=torch.int32), tensor(1, dtype=torch.int32), tensor(1, dtype=torch.int32), tensor(1, dtype=torch.int32), tensor(1, dtype=torch.int32), tensor(1, dtype=torch.int32), tensor(1, dtype=torch.int32), tensor(1, dtype=torch.int32), tensor(1, dtype=torch.int32), tensor(0, dtype=torch.int32), tensor(0, dtype=torch.int32), tensor(0, dtype=torch.int32), tensor(0, dtype=torch.int32), tensor(0, dtype=torch.int32), tensor(0, dtype=torch.int32), tensor(0, dtype=torch.int32), tensor(0, dtype=torch.int32), tensor(0, dtype=torch.int32), tensor(0, dtype=torch.int32), tensor(0, dtype=torch.int32), tensor(0, dtype=torch.int32), tensor(0, dtype=torch.int32), tensor(0, dtype=torch.int32), tensor(0, dtype=torch.int32), tensor(0, dtype=torch.int32), tensor(0, dtype=torch.int32), tensor(0, dtype=torch.int32), tensor(0, dtype=torch.int32), tensor(0, dtype=torch.int32), tensor(0, dtype=torch.int32), tensor(0, dtype=torch.int32), tensor(0, dtype=torch.int32), tensor(0, dtype=torch.int32), tensor(0, dtype=torch.int32), tensor(0, dtype=torch.int32), tensor(0, dtype=torch.int32), tensor(0, dtype=torch.int32), tensor(0, dtype=torch.int32), tensor(0, dtype=torch.int32), tensor(0, dtype=torch.int32), tensor(0, dtype=torch.int32)] [tensor(5), tensor(4), tensor(4), tensor(4), tensor(4), tensor(4), tensor(4), tensor(4), tensor(4), tensor(4), tensor(9), tensor(4), tensor(4), tensor(3), tensor(5), tensor(4), tensor(5), tensor(4), tensor(5), tensor(5), tensor(4), tensor(2), tensor(4), tensor(4), tensor(4), tensor(4), tensor(2), tensor(4), tensor(2), tensor(4), tensor(4), tensor(4), tensor(6), tensor(2), tensor(3), tensor(9), tensor(3), tensor(5), tensor(2), tensor(3), tensor(0), tensor(8), tensor(2), tensor(9), tensor(2), tensor(2), tensor(6), tensor(6), tensor(2), tensor(9), tensor(2), tensor(9), tensor(2), tensor(2), tensor(9), tensor(3), tensor(5), tensor(2), tensor(2), tensor(5), tensor(2), tensor(3), tensor(2), tensor(3), tensor(2), tensor(2), tensor(2), tensor(2), tensor(2), tensor(2), tensor(2), tensor(3), tensor(2), tensor(2), tensor(2), tensor(2), tensor(2), tensor(2), tensor(2), tensor(2), tensor(4), tensor(2), tensor(2), tensor(2), tensor(3), tensor(2), tensor(2), tensor(2), tensor(2), tensor(2), tensor(2), tensor(2), tensor(2), tensor(2), tensor(2), tensor(2), tensor(7), tensor(2), tensor(7), tensor(7), tensor(7), tensor(7), tensor(7), tensor(7), tensor(7), tensor(7), tensor(7), tensor(7), tensor(3), tensor(7), tensor(7), tensor(7), tensor(7), tensor(2), tensor(7), tensor(7), tensor(7), tensor(7), tensor(7), tensor(7), tensor(2), tensor(7), tensor(7), tensor(7), tensor(7), tensor(3), tensor(2), tensor(3), tensor(2), tensor(2), tensor(3), tensor(7), tensor(4), tensor(3), tensor(3), tensor(3), tensor(3), tensor(3), tensor(2), tensor(9), tensor(3), tensor(3), tensor(2), tensor(2), tensor(2), tensor(3), tensor(3), tensor(3), tensor(2), tensor(2), tensor(3), tensor(3), tensor(2), tensor(2), tensor(3), tensor(3), tensor(3), tensor(3), tensor(3), tensor(3), tensor(5), tensor(9), tensor(6), tensor(6), tensor(2), tensor(3), tensor(3), tensor(6), tensor(6), tensor(5), tensor(6), tensor(6), tensor(6), tensor(6), tensor(6), tensor(2), tensor(2), tensor(3), tensor(6), tensor(5), tensor(6), tensor(3), tensor(3), tensor(6), tensor(7), tensor(6), tensor(6), tensor(6), tensor(6), tensor(6), tensor(6), tensor(9), tensor(9), tensor(7), tensor(9), tensor(9), tensor(3), tensor(4), tensor(9), tensor(9), tensor(2), tensor(9), tensor(9), tensor(9), tensor(9), tensor(2), tensor(9), tensor(9), tensor(9), tensor(9), tensor(9), tensor(3), tensor(9), tensor(9), tensor(9), tensor(7), tensor(9), tensor(9), tensor(9), tensor(9), tensor(9), tensor(9), tensor(9), tensor(9), tensor(5), tensor(5), tensor(5), tensor(5), tensor(5), tensor(5), tensor(5), tensor(9), tensor(5), tensor(5), tensor(5), tensor(5), tensor(5), tensor(5), tensor(6), tensor(5), tensor(5), tensor(5), tensor(5), tensor(5), tensor(5), tensor(5), tensor(5), tensor(5), tensor(5), tensor(5), tensor(5), tensor(5), tensor(5), tensor(5), tensor(5), tensor(5), tensor(1), tensor(2), tensor(5), tensor(6), tensor(5), tensor(6), tensor(3), tensor(1), tensor(9), tensor(2), tensor(2), tensor(1), tensor(6), tensor(3), tensor(9), tensor(1), tensor(9), tensor(1), tensor(5), tensor(6), tensor(1), tensor(3), tensor(2), tensor(2), tensor(1), tensor(9), tensor(6), tensor(1), tensor(1), tensor(1), tensor(1), tensor(3), tensor(9), tensor(0), tensor(0), tensor(0), tensor(0), tensor(0), tensor(0), tensor(0), tensor(0), tensor(0), tensor(0), tensor(0), tensor(0), tensor(0), tensor(0), tensor(0), tensor(0), tensor(0), tensor(3), tensor(0), tensor(0), tensor(5), tensor(0), tensor(0), tensor(0), tensor(0), tensor(3), tensor(0), tensor(0), tensor(0), tensor(0), tensor(0)] tensor(0.6500)\n"
     ]
    },
    {
     "name": "stderr",
     "output_type": "stream",
     "text": [
      "Batches: 100%|██████████| 5/5 [00:06<00:00,  1.38s/it]\n",
      "Batches: 100%|██████████| 10/10 [00:05<00:00,  1.97it/s]\n"
     ]
    },
    {
     "name": "stdout",
     "output_type": "stream",
     "text": [
      "SVM accuracy:  0.640625\n",
      "======= DONE WITH SBERT CLASSIFICATION ======== \n"
     ]
    },
    {
     "name": "stderr",
     "output_type": "stream",
     "text": [
      "Batches: 100%|██████████| 1/1 [00:00<00:00,  7.18it/s]\n",
      "Batches: 100%|██████████| 1/1 [00:00<00:00, 18.87it/s]\n",
      "Batches: 100%|██████████| 1/1 [00:00<00:00, 13.79it/s]\n",
      "Batches: 100%|██████████| 1/1 [00:00<00:00, 55.28it/s]\n",
      "Batches: 100%|██████████| 1/1 [00:00<00:00,  6.09it/s]\n",
      "Batches: 100%|██████████| 1/1 [00:00<00:00,  8.97it/s]\n",
      "Batches: 100%|██████████| 1/1 [00:00<00:00, 14.81it/s]\n",
      "Batches: 100%|██████████| 1/1 [00:00<00:00,  4.97it/s]\n",
      "Batches: 100%|██████████| 1/1 [00:00<00:00, 14.59it/s]\n",
      "Batches: 100%|██████████| 1/1 [00:00<00:00,  8.56it/s]\n",
      "Batches: 100%|██████████| 1/1 [00:00<00:00,  9.66it/s]\n",
      "Batches: 100%|██████████| 1/1 [00:00<00:00, 29.60it/s]\n",
      "Batches: 100%|██████████| 1/1 [00:00<00:00, 12.27it/s]\n",
      "Batches: 100%|██████████| 1/1 [00:00<00:00, 18.84it/s]\n",
      "Batches: 100%|██████████| 1/1 [00:00<00:00, 12.42it/s]\n",
      "Batches: 100%|██████████| 1/1 [00:00<00:00,  2.91it/s]\n",
      "Batches: 100%|██████████| 1/1 [00:00<00:00,  3.62it/s]\n",
      "Batches: 100%|██████████| 1/1 [00:00<00:00, 37.17it/s]\n",
      "Batches: 100%|██████████| 1/1 [00:00<00:00, 17.24it/s]\n",
      "Batches: 100%|██████████| 1/1 [00:00<00:00, 17.23it/s]\n"
     ]
    },
    {
     "name": "stdout",
     "output_type": "stream",
     "text": [
      "Mean cosine similarity score over all articles:  0.5269474\n",
      "0.14354135806434082 0.022592909488752234\n",
      "0.12016388845447203 0.00322712389016974\n",
      "0.1661836793353153 0.05134098585227516\n",
      "0.09840725554993673 0.026156855060078726\n",
      "0.15731388311508968 0.06568250892922305\n",
      "0.0924896465264326 0.027474068557281843\n",
      "0.1357850003023231 0.04923290817006239\n",
      "0.2233054453583682 0.0831065774428479\n",
      "0.10550521884542763 0.010437493553262796\n",
      "0.1180596371491629 0.019834597603439266\n",
      "Mean Rouge-1 score over all articles:  0.13607550127008688\n",
      "Worst Rouge-1 score over all articles:  0.0924896465264326\n",
      "Mean Rouge-2 score over all articles:  0.035908602854739305\n",
      "Worst Rouge-2 score over all articles:  0.00322712389016974\n",
      "Found 10 article ids in generated comments and 10 article ids in reference comments\n"
     ]
    },
    {
     "name": "stderr",
     "output_type": "stream",
     "text": [
      "Batches: 100%|██████████| 10/10 [00:00<00:00, 10.39it/s]\n",
      "Batches: 100%|██████████| 5/5 [00:00<00:00,  6.19it/s]\n"
     ]
    },
    {
     "name": "stdout",
     "output_type": "stream",
     "text": [
      "0.640625\n",
      "              precision    recall  f1-score   support\n",
      "\n",
      "           0       0.97      0.88      0.92        32\n",
      "           1       1.00      0.19      0.32        32\n",
      "           2       0.35      0.94      0.51        32\n",
      "           3       0.46      0.53      0.49        32\n",
      "           4       0.90      0.81      0.85        32\n",
      "           5       0.65      0.97      0.78        32\n",
      "           6       0.94      0.50      0.65        32\n",
      "           7       1.00      0.75      0.86        32\n",
      "           8       1.00      0.06      0.12        32\n",
      "           9       0.58      0.78      0.67        32\n",
      "\n",
      "    accuracy                           0.64       320\n",
      "   macro avg       0.78      0.64      0.62       320\n",
      "weighted avg       0.78      0.64      0.62       320\n",
      "\n",
      "[[28  0  1  1  0  1  0  0  0  1]\n",
      " [ 0  6  7  4  1  7  0  0  0  7]\n",
      " [ 0  0 30  1  0  1  0  0  0  0]\n",
      " [ 0  0 13 17  1  1  0  0  0  0]\n",
      " [ 0  0  3  1 26  0  0  0  0  2]\n",
      " [ 0  0  0  1  0 31  0  0  0  0]\n",
      " [ 0  0  6  4  0  4 16  0  0  2]\n",
      " [ 0  0  5  3  0  0  0 24  0  0]\n",
      " [ 1  0 17  2  0  3  1  0  2  6]\n",
      " [ 0  0  3  3  1  0  0  0  0 25]]\n"
     ]
    }
   ],
   "source": [
    "# Data import; Should at least have the columns: \"article_id\", \"body\", \"level\"\n",
    "# other columns will be ignored\n",
    "train_art_df, val_art_df, train_tld_cmt_df, val_tld_cmt_df =  load_limited_split_data(\"cmtsplit\")\n",
    "\n",
    "reference_comment_df = val_tld_cmt_df\n",
    "generated_comment_df = pd.read_csv(\"S:\\\\Sync\\\\University\\\\2023_MRP_1\\\\MRP1_WorkDir\\\\data\\\\destilled\\\\cmtsplit\\\\r_cmtsplit_generated_[gpt-3.5-turbo]_[with32examples]_[T=0.8].csv\", sep=\";\")\n",
    "\n",
    "gpt35turbo_scores_dict = model_collect_scores(gen_cmt_df=generated_comment_df, ref_cmt_df=reference_comment_df)\n"
   ]
  },
  {
   "attachments": {},
   "cell_type": "markdown",
   "metadata": {},
   "source": [
    "### GPT-3.5-Davinci-003 test - cmtsplit"
   ]
  },
  {
   "cell_type": "code",
   "execution_count": 5,
   "metadata": {},
   "outputs": [
    {
     "name": "stdout",
     "output_type": "stream",
     "text": [
      "Found 10 article ids in generated comments and 10 article ids in reference comments\n",
      "Sentence embedding length> 768\n"
     ]
    },
    {
     "name": "stderr",
     "output_type": "stream",
     "text": [
      "Iteration: 100%|██████████| 37/37 [00:02<00:00, 14.41it/s]\n",
      "Iteration: 100%|██████████| 37/37 [00:02<00:00, 14.22it/s]\n",
      "Iteration: 100%|██████████| 37/37 [00:02<00:00, 14.38it/s]\n",
      "Iteration: 100%|██████████| 37/37 [00:02<00:00, 14.17it/s]\n",
      "Epoch: 100%|██████████| 4/4 [00:10<00:00,  2.60s/it]\n",
      "Training epochs:   0%|          | 0/12 [00:00<?, ?it/s]"
     ]
    },
    {
     "name": "stdout",
     "output_type": "stream",
     "text": [
      "Running epoch: 1\n"
     ]
    },
    {
     "name": "stderr",
     "output_type": "stream",
     "text": [
      "c:\\Users\\trothe\\AppData\\Local\\Programs\\Python\\Python310\\lib\\site-packages\\torch\\nn\\functional.py:1956: UserWarning: nn.functional.tanh is deprecated. Use torch.tanh instead.\n",
      "  warnings.warn(\"nn.functional.tanh is deprecated. Use torch.tanh instead.\")\n"
     ]
    },
    {
     "name": "stdout",
     "output_type": "stream",
     "text": [
      "Loss for this epoch: 2.2415940523147584\n",
      "Running epoch: 2\n"
     ]
    },
    {
     "name": "stderr",
     "output_type": "stream",
     "text": []
    },
    {
     "name": "stdout",
     "output_type": "stream",
     "text": [
      "Loss for this epoch: 1.974646306037903\n",
      "Running epoch: 3\n"
     ]
    },
    {
     "name": "stderr",
     "output_type": "stream",
     "text": []
    },
    {
     "name": "stdout",
     "output_type": "stream",
     "text": [
      "Loss for this epoch: 1.7700504660606384\n",
      "Running epoch: 4\n"
     ]
    },
    {
     "name": "stderr",
     "output_type": "stream",
     "text": [
      "Training epochs:  33%|███▎      | 4/12 [00:00<00:00, 34.07it/s]"
     ]
    },
    {
     "name": "stdout",
     "output_type": "stream",
     "text": [
      "Loss for this epoch: 1.5326216697692872\n",
      "Running epoch: 5\n"
     ]
    },
    {
     "name": "stderr",
     "output_type": "stream",
     "text": []
    },
    {
     "name": "stdout",
     "output_type": "stream",
     "text": [
      "Loss for this epoch: 1.3094439268112184\n",
      "Running epoch: 6\n"
     ]
    },
    {
     "name": "stderr",
     "output_type": "stream",
     "text": []
    },
    {
     "name": "stdout",
     "output_type": "stream",
     "text": [
      "Loss for this epoch: 1.0845414340496062\n",
      "Running epoch: 7\n"
     ]
    },
    {
     "name": "stderr",
     "output_type": "stream",
     "text": []
    },
    {
     "name": "stdout",
     "output_type": "stream",
     "text": [
      "Loss for this epoch: 0.9432069420814514\n",
      "Running epoch: 8\n"
     ]
    },
    {
     "name": "stderr",
     "output_type": "stream",
     "text": [
      "Training epochs:  67%|██████▋   | 8/12 [00:00<00:00, 34.05it/s]"
     ]
    },
    {
     "name": "stdout",
     "output_type": "stream",
     "text": [
      "Loss for this epoch: 0.7557481318712235\n",
      "Running epoch: 9\n"
     ]
    },
    {
     "name": "stderr",
     "output_type": "stream",
     "text": []
    },
    {
     "name": "stdout",
     "output_type": "stream",
     "text": [
      "Loss for this epoch: 0.655122971534729\n",
      "Running epoch: 10\n"
     ]
    },
    {
     "name": "stderr",
     "output_type": "stream",
     "text": []
    },
    {
     "name": "stdout",
     "output_type": "stream",
     "text": [
      "Loss for this epoch: 0.5373095870018005\n",
      "Running epoch: 11\n"
     ]
    },
    {
     "name": "stderr",
     "output_type": "stream",
     "text": []
    },
    {
     "name": "stdout",
     "output_type": "stream",
     "text": [
      "Loss for this epoch: 0.453631716966629\n",
      "Running epoch: 12\n"
     ]
    },
    {
     "name": "stderr",
     "output_type": "stream",
     "text": [
      "Training epochs: 100%|██████████| 12/12 [00:00<00:00, 33.57it/s]\n"
     ]
    },
    {
     "name": "stdout",
     "output_type": "stream",
     "text": [
      "Loss for this epoch: 0.3944047033786774\n"
     ]
    },
    {
     "name": "stderr",
     "output_type": "stream",
     "text": [
      "Evaluation batches: 100%|██████████| 20/20 [00:00<00:00, 2494.90it/s]\n"
     ]
    },
    {
     "name": "stdout",
     "output_type": "stream",
     "text": [
      "Average evaluation loss: 1.128603196144104\n",
      "Classification accuracy: 0.6499999761581421\n",
      "[tensor(4, dtype=torch.int32), tensor(4, dtype=torch.int32), tensor(4, dtype=torch.int32), tensor(4, dtype=torch.int32), tensor(4, dtype=torch.int32), tensor(4, dtype=torch.int32), tensor(4, dtype=torch.int32), tensor(4, dtype=torch.int32), tensor(4, dtype=torch.int32), tensor(4, dtype=torch.int32), tensor(4, dtype=torch.int32), tensor(4, dtype=torch.int32), tensor(4, dtype=torch.int32), tensor(4, dtype=torch.int32), tensor(4, dtype=torch.int32), tensor(4, dtype=torch.int32), tensor(4, dtype=torch.int32), tensor(4, dtype=torch.int32), tensor(4, dtype=torch.int32), tensor(4, dtype=torch.int32), tensor(4, dtype=torch.int32), tensor(4, dtype=torch.int32), tensor(4, dtype=torch.int32), tensor(4, dtype=torch.int32), tensor(4, dtype=torch.int32), tensor(4, dtype=torch.int32), tensor(4, dtype=torch.int32), tensor(4, dtype=torch.int32), tensor(4, dtype=torch.int32), tensor(4, dtype=torch.int32), tensor(4, dtype=torch.int32), tensor(4, dtype=torch.int32), tensor(8, dtype=torch.int32), tensor(8, dtype=torch.int32), tensor(8, dtype=torch.int32), tensor(8, dtype=torch.int32), tensor(8, dtype=torch.int32), tensor(8, dtype=torch.int32), tensor(8, dtype=torch.int32), tensor(8, dtype=torch.int32), tensor(8, dtype=torch.int32), tensor(8, dtype=torch.int32), tensor(8, dtype=torch.int32), tensor(8, dtype=torch.int32), tensor(8, dtype=torch.int32), tensor(8, dtype=torch.int32), tensor(8, dtype=torch.int32), tensor(8, dtype=torch.int32), tensor(8, dtype=torch.int32), tensor(8, dtype=torch.int32), tensor(8, dtype=torch.int32), tensor(8, dtype=torch.int32), tensor(8, dtype=torch.int32), tensor(8, dtype=torch.int32), tensor(8, dtype=torch.int32), tensor(8, dtype=torch.int32), tensor(8, dtype=torch.int32), tensor(8, dtype=torch.int32), tensor(8, dtype=torch.int32), tensor(8, dtype=torch.int32), tensor(8, dtype=torch.int32), tensor(8, dtype=torch.int32), tensor(8, dtype=torch.int32), tensor(8, dtype=torch.int32), tensor(2, dtype=torch.int32), tensor(2, dtype=torch.int32), tensor(2, dtype=torch.int32), tensor(2, dtype=torch.int32), tensor(2, dtype=torch.int32), tensor(2, dtype=torch.int32), tensor(2, dtype=torch.int32), tensor(2, dtype=torch.int32), tensor(2, dtype=torch.int32), tensor(2, dtype=torch.int32), tensor(2, dtype=torch.int32), tensor(2, dtype=torch.int32), tensor(2, dtype=torch.int32), tensor(2, dtype=torch.int32), tensor(2, dtype=torch.int32), tensor(2, dtype=torch.int32), tensor(2, dtype=torch.int32), tensor(2, dtype=torch.int32), tensor(2, dtype=torch.int32), tensor(2, dtype=torch.int32), tensor(2, dtype=torch.int32), tensor(2, dtype=torch.int32), tensor(2, dtype=torch.int32), tensor(2, dtype=torch.int32), tensor(2, dtype=torch.int32), tensor(2, dtype=torch.int32), tensor(2, dtype=torch.int32), tensor(2, dtype=torch.int32), tensor(2, dtype=torch.int32), tensor(2, dtype=torch.int32), tensor(2, dtype=torch.int32), tensor(2, dtype=torch.int32), tensor(7, dtype=torch.int32), tensor(7, dtype=torch.int32), tensor(7, dtype=torch.int32), tensor(7, dtype=torch.int32), tensor(7, dtype=torch.int32), tensor(7, dtype=torch.int32), tensor(7, dtype=torch.int32), tensor(7, dtype=torch.int32), tensor(7, dtype=torch.int32), tensor(7, dtype=torch.int32), tensor(7, dtype=torch.int32), tensor(7, dtype=torch.int32), tensor(7, dtype=torch.int32), tensor(7, dtype=torch.int32), tensor(7, dtype=torch.int32), tensor(7, dtype=torch.int32), tensor(7, dtype=torch.int32), tensor(7, dtype=torch.int32), tensor(7, dtype=torch.int32), tensor(7, dtype=torch.int32), tensor(7, dtype=torch.int32), tensor(7, dtype=torch.int32), tensor(7, dtype=torch.int32), tensor(7, dtype=torch.int32), tensor(7, dtype=torch.int32), tensor(7, dtype=torch.int32), tensor(7, dtype=torch.int32), tensor(7, dtype=torch.int32), tensor(7, dtype=torch.int32), tensor(7, dtype=torch.int32), tensor(7, dtype=torch.int32), tensor(7, dtype=torch.int32), tensor(3, dtype=torch.int32), tensor(3, dtype=torch.int32), tensor(3, dtype=torch.int32), tensor(3, dtype=torch.int32), tensor(3, dtype=torch.int32), tensor(3, dtype=torch.int32), tensor(3, dtype=torch.int32), tensor(3, dtype=torch.int32), tensor(3, dtype=torch.int32), tensor(3, dtype=torch.int32), tensor(3, dtype=torch.int32), tensor(3, dtype=torch.int32), tensor(3, dtype=torch.int32), tensor(3, dtype=torch.int32), tensor(3, dtype=torch.int32), tensor(3, dtype=torch.int32), tensor(3, dtype=torch.int32), tensor(3, dtype=torch.int32), tensor(3, dtype=torch.int32), tensor(3, dtype=torch.int32), tensor(3, dtype=torch.int32), tensor(3, dtype=torch.int32), tensor(3, dtype=torch.int32), tensor(3, dtype=torch.int32), tensor(3, dtype=torch.int32), tensor(3, dtype=torch.int32), tensor(3, dtype=torch.int32), tensor(3, dtype=torch.int32), tensor(3, dtype=torch.int32), tensor(3, dtype=torch.int32), tensor(3, dtype=torch.int32), tensor(3, dtype=torch.int32), tensor(6, dtype=torch.int32), tensor(6, dtype=torch.int32), tensor(6, dtype=torch.int32), tensor(6, dtype=torch.int32), tensor(6, dtype=torch.int32), tensor(6, dtype=torch.int32), tensor(6, dtype=torch.int32), tensor(6, dtype=torch.int32), tensor(6, dtype=torch.int32), tensor(6, dtype=torch.int32), tensor(6, dtype=torch.int32), tensor(6, dtype=torch.int32), tensor(6, dtype=torch.int32), tensor(6, dtype=torch.int32), tensor(6, dtype=torch.int32), tensor(6, dtype=torch.int32), tensor(6, dtype=torch.int32), tensor(6, dtype=torch.int32), tensor(6, dtype=torch.int32), tensor(6, dtype=torch.int32), tensor(6, dtype=torch.int32), tensor(6, dtype=torch.int32), tensor(6, dtype=torch.int32), tensor(6, dtype=torch.int32), tensor(6, dtype=torch.int32), tensor(6, dtype=torch.int32), tensor(6, dtype=torch.int32), tensor(6, dtype=torch.int32), tensor(6, dtype=torch.int32), tensor(6, dtype=torch.int32), tensor(6, dtype=torch.int32), tensor(6, dtype=torch.int32), tensor(9, dtype=torch.int32), tensor(9, dtype=torch.int32), tensor(9, dtype=torch.int32), tensor(9, dtype=torch.int32), tensor(9, dtype=torch.int32), tensor(9, dtype=torch.int32), tensor(9, dtype=torch.int32), tensor(9, dtype=torch.int32), tensor(9, dtype=torch.int32), tensor(9, dtype=torch.int32), tensor(9, dtype=torch.int32), tensor(9, dtype=torch.int32), tensor(9, dtype=torch.int32), tensor(9, dtype=torch.int32), tensor(9, dtype=torch.int32), tensor(9, dtype=torch.int32), tensor(9, dtype=torch.int32), tensor(9, dtype=torch.int32), tensor(9, dtype=torch.int32), tensor(9, dtype=torch.int32), tensor(9, dtype=torch.int32), tensor(9, dtype=torch.int32), tensor(9, dtype=torch.int32), tensor(9, dtype=torch.int32), tensor(9, dtype=torch.int32), tensor(9, dtype=torch.int32), tensor(9, dtype=torch.int32), tensor(9, dtype=torch.int32), tensor(9, dtype=torch.int32), tensor(9, dtype=torch.int32), tensor(9, dtype=torch.int32), tensor(9, dtype=torch.int32), tensor(5, dtype=torch.int32), tensor(5, dtype=torch.int32), tensor(5, dtype=torch.int32), tensor(5, dtype=torch.int32), tensor(5, dtype=torch.int32), tensor(5, dtype=torch.int32), tensor(5, dtype=torch.int32), tensor(5, dtype=torch.int32), tensor(5, dtype=torch.int32), tensor(5, dtype=torch.int32), tensor(5, dtype=torch.int32), tensor(5, dtype=torch.int32), tensor(5, dtype=torch.int32), tensor(5, dtype=torch.int32), tensor(5, dtype=torch.int32), tensor(5, dtype=torch.int32), tensor(5, dtype=torch.int32), tensor(5, dtype=torch.int32), tensor(5, dtype=torch.int32), tensor(5, dtype=torch.int32), tensor(5, dtype=torch.int32), tensor(5, dtype=torch.int32), tensor(5, dtype=torch.int32), tensor(5, dtype=torch.int32), tensor(5, dtype=torch.int32), tensor(5, dtype=torch.int32), tensor(5, dtype=torch.int32), tensor(5, dtype=torch.int32), tensor(5, dtype=torch.int32), tensor(5, dtype=torch.int32), tensor(5, dtype=torch.int32), tensor(5, dtype=torch.int32), tensor(1, dtype=torch.int32), tensor(1, dtype=torch.int32), tensor(1, dtype=torch.int32), tensor(1, dtype=torch.int32), tensor(1, dtype=torch.int32), tensor(1, dtype=torch.int32), tensor(1, dtype=torch.int32), tensor(1, dtype=torch.int32), tensor(1, dtype=torch.int32), tensor(1, dtype=torch.int32), tensor(1, dtype=torch.int32), tensor(1, dtype=torch.int32), tensor(1, dtype=torch.int32), tensor(1, dtype=torch.int32), tensor(1, dtype=torch.int32), tensor(1, dtype=torch.int32), tensor(1, dtype=torch.int32), tensor(1, dtype=torch.int32), tensor(1, dtype=torch.int32), tensor(1, dtype=torch.int32), tensor(1, dtype=torch.int32), tensor(1, dtype=torch.int32), tensor(1, dtype=torch.int32), tensor(1, dtype=torch.int32), tensor(1, dtype=torch.int32), tensor(1, dtype=torch.int32), tensor(1, dtype=torch.int32), tensor(1, dtype=torch.int32), tensor(1, dtype=torch.int32), tensor(1, dtype=torch.int32), tensor(1, dtype=torch.int32), tensor(1, dtype=torch.int32), tensor(0, dtype=torch.int32), tensor(0, dtype=torch.int32), tensor(0, dtype=torch.int32), tensor(0, dtype=torch.int32), tensor(0, dtype=torch.int32), tensor(0, dtype=torch.int32), tensor(0, dtype=torch.int32), tensor(0, dtype=torch.int32), tensor(0, dtype=torch.int32), tensor(0, dtype=torch.int32), tensor(0, dtype=torch.int32), tensor(0, dtype=torch.int32), tensor(0, dtype=torch.int32), tensor(0, dtype=torch.int32), tensor(0, dtype=torch.int32), tensor(0, dtype=torch.int32), tensor(0, dtype=torch.int32), tensor(0, dtype=torch.int32), tensor(0, dtype=torch.int32), tensor(0, dtype=torch.int32), tensor(0, dtype=torch.int32), tensor(0, dtype=torch.int32), tensor(0, dtype=torch.int32), tensor(0, dtype=torch.int32), tensor(0, dtype=torch.int32), tensor(0, dtype=torch.int32), tensor(0, dtype=torch.int32), tensor(0, dtype=torch.int32), tensor(0, dtype=torch.int32), tensor(0, dtype=torch.int32), tensor(0, dtype=torch.int32), tensor(0, dtype=torch.int32)] [tensor(4), tensor(5), tensor(4), tensor(4), tensor(5), tensor(4), tensor(4), tensor(4), tensor(4), tensor(4), tensor(5), tensor(5), tensor(4), tensor(5), tensor(4), tensor(2), tensor(4), tensor(4), tensor(4), tensor(4), tensor(4), tensor(2), tensor(5), tensor(4), tensor(4), tensor(4), tensor(4), tensor(4), tensor(2), tensor(4), tensor(5), tensor(5), tensor(2), tensor(2), tensor(2), tensor(9), tensor(4), tensor(2), tensor(2), tensor(2), tensor(2), tensor(2), tensor(2), tensor(2), tensor(4), tensor(2), tensor(7), tensor(2), tensor(2), tensor(2), tensor(2), tensor(9), tensor(2), tensor(2), tensor(2), tensor(2), tensor(9), tensor(2), tensor(9), tensor(4), tensor(2), tensor(4), tensor(2), tensor(9), tensor(2), tensor(2), tensor(2), tensor(2), tensor(2), tensor(2), tensor(2), tensor(2), tensor(2), tensor(2), tensor(2), tensor(2), tensor(2), tensor(2), tensor(2), tensor(2), tensor(2), tensor(2), tensor(2), tensor(2), tensor(2), tensor(2), tensor(2), tensor(2), tensor(2), tensor(2), tensor(2), tensor(2), tensor(2), tensor(2), tensor(5), tensor(2), tensor(7), tensor(7), tensor(7), tensor(7), tensor(7), tensor(7), tensor(7), tensor(7), tensor(7), tensor(7), tensor(7), tensor(7), tensor(7), tensor(2), tensor(7), tensor(7), tensor(7), tensor(7), tensor(7), tensor(7), tensor(7), tensor(7), tensor(7), tensor(3), tensor(7), tensor(7), tensor(7), tensor(7), tensor(7), tensor(7), tensor(2), tensor(7), tensor(2), tensor(2), tensor(2), tensor(2), tensor(2), tensor(2), tensor(2), tensor(4), tensor(2), tensor(2), tensor(2), tensor(2), tensor(3), tensor(2), tensor(2), tensor(2), tensor(2), tensor(2), tensor(2), tensor(2), tensor(2), tensor(2), tensor(2), tensor(3), tensor(2), tensor(2), tensor(2), tensor(2), tensor(2), tensor(5), tensor(3), tensor(2), tensor(2), tensor(2), tensor(9), tensor(2), tensor(2), tensor(2), tensor(6), tensor(6), tensor(5), tensor(2), tensor(2), tensor(6), tensor(6), tensor(6), tensor(2), tensor(6), tensor(2), tensor(6), tensor(2), tensor(6), tensor(6), tensor(6), tensor(2), tensor(9), tensor(2), tensor(2), tensor(6), tensor(4), tensor(6), tensor(6), tensor(6), tensor(6), tensor(9), tensor(9), tensor(9), tensor(9), tensor(5), tensor(9), tensor(9), tensor(9), tensor(9), tensor(9), tensor(9), tensor(9), tensor(9), tensor(2), tensor(9), tensor(9), tensor(9), tensor(9), tensor(9), tensor(9), tensor(9), tensor(9), tensor(9), tensor(9), tensor(9), tensor(9), tensor(2), tensor(2), tensor(2), tensor(2), tensor(2), tensor(9), tensor(5), tensor(5), tensor(5), tensor(5), tensor(5), tensor(5), tensor(5), tensor(9), tensor(5), tensor(5), tensor(5), tensor(5), tensor(5), tensor(5), tensor(5), tensor(5), tensor(5), tensor(5), tensor(5), tensor(5), tensor(5), tensor(5), tensor(5), tensor(5), tensor(5), tensor(5), tensor(5), tensor(5), tensor(5), tensor(5), tensor(5), tensor(5), tensor(1), tensor(1), tensor(1), tensor(1), tensor(1), tensor(1), tensor(1), tensor(1), tensor(1), tensor(6), tensor(1), tensor(1), tensor(9), tensor(1), tensor(1), tensor(9), tensor(9), tensor(1), tensor(1), tensor(1), tensor(1), tensor(1), tensor(9), tensor(1), tensor(1), tensor(1), tensor(1), tensor(9), tensor(9), tensor(1), tensor(1), tensor(1), tensor(0), tensor(0), tensor(0), tensor(0), tensor(2), tensor(0), tensor(0), tensor(0), tensor(0), tensor(0), tensor(0), tensor(0), tensor(0), tensor(0), tensor(0), tensor(4), tensor(0), tensor(0), tensor(0), tensor(0), tensor(0), tensor(0), tensor(0), tensor(0), tensor(0), tensor(2), tensor(0), tensor(0), tensor(0), tensor(3), tensor(0), tensor(0)] tensor(0.6500)\n"
     ]
    },
    {
     "name": "stderr",
     "output_type": "stream",
     "text": [
      "Batches: 100%|██████████| 5/5 [00:06<00:00,  1.39s/it]\n",
      "Batches: 100%|██████████| 10/10 [00:06<00:00,  1.46it/s]\n"
     ]
    },
    {
     "name": "stdout",
     "output_type": "stream",
     "text": [
      "SVM accuracy:  0.63125\n",
      "======= DONE WITH SBERT CLASSIFICATION ======== \n"
     ]
    },
    {
     "name": "stderr",
     "output_type": "stream",
     "text": [
      "Batches: 100%|██████████| 1/1 [00:00<00:00,  6.89it/s]\n",
      "Batches: 100%|██████████| 1/1 [00:00<00:00, 19.22it/s]\n",
      "Batches: 100%|██████████| 1/1 [00:00<00:00,  7.90it/s]\n",
      "Batches: 100%|██████████| 1/1 [00:00<00:00, 40.71it/s]\n",
      "Batches: 100%|██████████| 1/1 [00:00<00:00,  5.91it/s]\n",
      "Batches: 100%|██████████| 1/1 [00:00<00:00,  8.86it/s]\n",
      "Batches: 100%|██████████| 1/1 [00:00<00:00,  7.27it/s]\n",
      "Batches: 100%|██████████| 1/1 [00:00<00:00,  5.02it/s]\n",
      "Batches: 100%|██████████| 1/1 [00:00<00:00,  4.84it/s]\n",
      "Batches: 100%|██████████| 1/1 [00:00<00:00,  8.63it/s]\n",
      "Batches: 100%|██████████| 1/1 [00:00<00:00,  7.13it/s]\n",
      "Batches: 100%|██████████| 1/1 [00:00<00:00, 28.62it/s]\n",
      "Batches: 100%|██████████| 1/1 [00:00<00:00,  7.96it/s]\n",
      "Batches: 100%|██████████| 1/1 [00:00<00:00, 18.92it/s]\n",
      "Batches: 100%|██████████| 1/1 [00:00<00:00,  7.72it/s]\n",
      "Batches: 100%|██████████| 1/1 [00:00<00:00,  2.96it/s]\n",
      "Batches: 100%|██████████| 1/1 [00:00<00:00,  7.31it/s]\n",
      "Batches: 100%|██████████| 1/1 [00:00<00:00, 38.48it/s]\n",
      "Batches: 100%|██████████| 1/1 [00:00<00:00,  4.78it/s]\n",
      "Batches: 100%|██████████| 1/1 [00:00<00:00, 17.64it/s]\n"
     ]
    },
    {
     "name": "stdout",
     "output_type": "stream",
     "text": [
      "Mean cosine similarity score over all articles:  0.5375775\n",
      "0.17705163183312267 0.036546721600871\n",
      "0.15359963912618824 0.004265200044889715\n",
      "0.18119794553720325 0.048939426141049264\n",
      "0.12381407919436474 0.021691098687550155\n",
      "0.15136534359799067 0.04208693490022466\n",
      "0.0999107122591967 0.02577183657677224\n",
      "0.1824308059388734 0.04739899372044345\n",
      "0.20081112172288734 0.06525228416306568\n",
      "0.131004180172183 0.022122487379557625\n",
      "0.12173833302542358 0.013263703060091806\n",
      "Mean Rouge-1 score over all articles:  0.15229237924074335\n",
      "Worst Rouge-1 score over all articles:  0.0999107122591967\n",
      "Mean Rouge-2 score over all articles:  0.032733868627451555\n",
      "Worst Rouge-2 score over all articles:  0.004265200044889715\n",
      "Found 10 article ids in generated comments and 10 article ids in reference comments\n"
     ]
    },
    {
     "name": "stderr",
     "output_type": "stream",
     "text": [
      "Batches: 100%|██████████| 10/10 [00:01<00:00,  8.33it/s]\n",
      "Batches: 100%|██████████| 5/5 [00:00<00:00,  6.21it/s]\n"
     ]
    },
    {
     "name": "stdout",
     "output_type": "stream",
     "text": [
      "0.553125\n",
      "              precision    recall  f1-score   support\n",
      "\n",
      "           0       1.00      0.88      0.93        32\n",
      "           1       1.00      0.25      0.40        32\n",
      "           2       0.23      1.00      0.38        32\n",
      "           3       0.17      0.03      0.05        32\n",
      "           4       0.92      0.72      0.81        32\n",
      "           5       0.97      0.88      0.92        32\n",
      "           6       0.60      0.09      0.16        32\n",
      "           7       1.00      0.88      0.93        32\n",
      "           8       1.00      0.03      0.06        32\n",
      "           9       0.48      0.78      0.60        32\n",
      "\n",
      "    accuracy                           0.55       320\n",
      "   macro avg       0.74      0.55      0.52       320\n",
      "weighted avg       0.74      0.55      0.52       320\n",
      "\n",
      "[[28  0  4  0  0  0  0  0  0  0]\n",
      " [ 0  8  4  2  1  0  2  0  0 15]\n",
      " [ 0  0 32  0  0  0  0  0  0  0]\n",
      " [ 0  0 29  1  1  1  0  0  0  0]\n",
      " [ 0  0  9  0 23  0  0  0  0  0]\n",
      " [ 0  0  2  0  0 28  0  0  0  2]\n",
      " [ 0  0 21  1  0  0  3  0  0  7]\n",
      " [ 0  0  3  1  0  0  0 28  0  0]\n",
      " [ 0  0 27  1  0  0  0  0  1  3]\n",
      " [ 0  0  7  0  0  0  0  0  0 25]]\n"
     ]
    }
   ],
   "source": [
    "# Data import; Should at least have the columns: \"article_id\", \"body\", \"level\"\n",
    "# other columns will be ignored\n",
    "train_art_df, val_art_df, train_tld_cmt_df, val_tld_cmt_df =  load_limited_split_data(\"cmtsplit\")\n",
    "\n",
    "reference_comment_df = val_tld_cmt_df\n",
    "generated_comment_df = pd.read_csv(\"S:\\\\Sync\\\\University\\\\2023_MRP_1\\\\MRP1_WorkDir\\\\data\\\\destilled\\\\cmtsplit\\\\r_cmtsplit_generated_[text-davinci-003]_[with32examples]_[T=0.8].csv\", sep=\";\")\n",
    "\n",
    "gpt35davinci_scores_dict = model_collect_scores(gen_cmt_df=generated_comment_df, ref_cmt_df=reference_comment_df)"
   ]
  },
  {
   "attachments": {},
   "cell_type": "markdown",
   "metadata": {},
   "source": [
    "### Godel-v1.1 test - cmtsplit (complete)"
   ]
  },
  {
   "cell_type": "code",
   "execution_count": 6,
   "metadata": {},
   "outputs": [
    {
     "name": "stdout",
     "output_type": "stream",
     "text": [
      "Found 10 article ids in generated comments and 10 article ids in reference comments\n",
      "Sentence embedding length> 768\n"
     ]
    },
    {
     "name": "stderr",
     "output_type": "stream",
     "text": [
      "Iteration: 100%|██████████| 37/37 [00:02<00:00, 14.32it/s]\n",
      "Iteration: 100%|██████████| 37/37 [00:02<00:00, 14.26it/s]\n",
      "Iteration: 100%|██████████| 37/37 [00:02<00:00, 14.37it/s]\n",
      "Iteration: 100%|██████████| 37/37 [00:02<00:00, 14.53it/s]\n",
      "Epoch: 100%|██████████| 4/4 [00:10<00:00,  2.59s/it]\n",
      "Training epochs:   0%|          | 0/12 [00:00<?, ?it/s]"
     ]
    },
    {
     "name": "stdout",
     "output_type": "stream",
     "text": [
      "Running epoch: 1\n"
     ]
    },
    {
     "name": "stderr",
     "output_type": "stream",
     "text": [
      "c:\\Users\\trothe\\AppData\\Local\\Programs\\Python\\Python310\\lib\\site-packages\\torch\\nn\\functional.py:1956: UserWarning: nn.functional.tanh is deprecated. Use torch.tanh instead.\n",
      "  warnings.warn(\"nn.functional.tanh is deprecated. Use torch.tanh instead.\")\n"
     ]
    },
    {
     "name": "stdout",
     "output_type": "stream",
     "text": [
      "Loss for this epoch: 2.231155824661255\n",
      "Running epoch: 2\n"
     ]
    },
    {
     "name": "stderr",
     "output_type": "stream",
     "text": []
    },
    {
     "name": "stdout",
     "output_type": "stream",
     "text": [
      "Loss for this epoch: 1.9684468746185302\n",
      "Running epoch: 3\n"
     ]
    },
    {
     "name": "stderr",
     "output_type": "stream",
     "text": []
    },
    {
     "name": "stdout",
     "output_type": "stream",
     "text": [
      "Loss for this epoch: 1.7471392750740051\n",
      "Running epoch: 4\n"
     ]
    },
    {
     "name": "stderr",
     "output_type": "stream",
     "text": [
      "Training epochs:  33%|███▎      | 4/12 [00:00<00:00, 34.32it/s]"
     ]
    },
    {
     "name": "stdout",
     "output_type": "stream",
     "text": [
      "Loss for this epoch: 1.4545078337192536\n",
      "Running epoch: 5\n"
     ]
    },
    {
     "name": "stderr",
     "output_type": "stream",
     "text": []
    },
    {
     "name": "stdout",
     "output_type": "stream",
     "text": [
      "Loss for this epoch: 1.2492070555686952\n",
      "Running epoch: 6\n"
     ]
    },
    {
     "name": "stderr",
     "output_type": "stream",
     "text": []
    },
    {
     "name": "stdout",
     "output_type": "stream",
     "text": [
      "Loss for this epoch: 1.1582678437232972\n",
      "Running epoch: 7\n"
     ]
    },
    {
     "name": "stderr",
     "output_type": "stream",
     "text": []
    },
    {
     "name": "stdout",
     "output_type": "stream",
     "text": [
      "Loss for this epoch: 0.9293346464633941\n",
      "Running epoch: 8\n"
     ]
    },
    {
     "name": "stderr",
     "output_type": "stream",
     "text": [
      "Training epochs:  67%|██████▋   | 8/12 [00:00<00:00, 34.82it/s]"
     ]
    },
    {
     "name": "stdout",
     "output_type": "stream",
     "text": [
      "Loss for this epoch: 0.7824429035186767\n",
      "Running epoch: 9\n"
     ]
    },
    {
     "name": "stderr",
     "output_type": "stream",
     "text": []
    },
    {
     "name": "stdout",
     "output_type": "stream",
     "text": [
      "Loss for this epoch: 0.6460552513599396\n",
      "Running epoch: 10\n"
     ]
    },
    {
     "name": "stderr",
     "output_type": "stream",
     "text": []
    },
    {
     "name": "stdout",
     "output_type": "stream",
     "text": [
      "Loss for this epoch: 0.5648240059614181\n",
      "Running epoch: 11\n"
     ]
    },
    {
     "name": "stderr",
     "output_type": "stream",
     "text": []
    },
    {
     "name": "stdout",
     "output_type": "stream",
     "text": [
      "Loss for this epoch: 0.49724355936050413\n",
      "Running epoch: 12\n"
     ]
    },
    {
     "name": "stderr",
     "output_type": "stream",
     "text": [
      "Training epochs: 100%|██████████| 12/12 [00:00<00:00, 35.63it/s]\n"
     ]
    },
    {
     "name": "stdout",
     "output_type": "stream",
     "text": [
      "Loss for this epoch: 0.40360480546951294\n"
     ]
    },
    {
     "name": "stderr",
     "output_type": "stream",
     "text": [
      "Evaluation batches: 100%|██████████| 10/10 [00:00<00:00, 2448.37it/s]\n"
     ]
    },
    {
     "name": "stdout",
     "output_type": "stream",
     "text": [
      "Average evaluation loss: 1.4221003636717797\n",
      "Classification accuracy: 0.4256756901741028\n",
      "[tensor(4, dtype=torch.int32), tensor(4, dtype=torch.int32), tensor(4, dtype=torch.int32), tensor(4, dtype=torch.int32), tensor(4, dtype=torch.int32), tensor(4, dtype=torch.int32), tensor(4, dtype=torch.int32), tensor(4, dtype=torch.int32), tensor(4, dtype=torch.int32), tensor(8, dtype=torch.int32), tensor(8, dtype=torch.int32), tensor(8, dtype=torch.int32), tensor(8, dtype=torch.int32), tensor(2, dtype=torch.int32), tensor(2, dtype=torch.int32), tensor(2, dtype=torch.int32), tensor(2, dtype=torch.int32), tensor(2, dtype=torch.int32), tensor(2, dtype=torch.int32), tensor(2, dtype=torch.int32), tensor(2, dtype=torch.int32), tensor(2, dtype=torch.int32), tensor(2, dtype=torch.int32), tensor(2, dtype=torch.int32), tensor(2, dtype=torch.int32), tensor(2, dtype=torch.int32), tensor(2, dtype=torch.int32), tensor(2, dtype=torch.int32), tensor(2, dtype=torch.int32), tensor(2, dtype=torch.int32), tensor(2, dtype=torch.int32), tensor(2, dtype=torch.int32), tensor(2, dtype=torch.int32), tensor(2, dtype=torch.int32), tensor(2, dtype=torch.int32), tensor(2, dtype=torch.int32), tensor(2, dtype=torch.int32), tensor(2, dtype=torch.int32), tensor(2, dtype=torch.int32), tensor(2, dtype=torch.int32), tensor(2, dtype=torch.int32), tensor(2, dtype=torch.int32), tensor(2, dtype=torch.int32), tensor(7, dtype=torch.int32), tensor(7, dtype=torch.int32), tensor(7, dtype=torch.int32), tensor(7, dtype=torch.int32), tensor(7, dtype=torch.int32), tensor(7, dtype=torch.int32), tensor(7, dtype=torch.int32), tensor(7, dtype=torch.int32), tensor(7, dtype=torch.int32), tensor(7, dtype=torch.int32), tensor(3, dtype=torch.int32), tensor(3, dtype=torch.int32), tensor(3, dtype=torch.int32), tensor(3, dtype=torch.int32), tensor(3, dtype=torch.int32), tensor(3, dtype=torch.int32), tensor(3, dtype=torch.int32), tensor(3, dtype=torch.int32), tensor(3, dtype=torch.int32), tensor(3, dtype=torch.int32), tensor(3, dtype=torch.int32), tensor(3, dtype=torch.int32), tensor(3, dtype=torch.int32), tensor(3, dtype=torch.int32), tensor(3, dtype=torch.int32), tensor(3, dtype=torch.int32), tensor(3, dtype=torch.int32), tensor(3, dtype=torch.int32), tensor(3, dtype=torch.int32), tensor(3, dtype=torch.int32), tensor(3, dtype=torch.int32), tensor(3, dtype=torch.int32), tensor(3, dtype=torch.int32), tensor(3, dtype=torch.int32), tensor(3, dtype=torch.int32), tensor(3, dtype=torch.int32), tensor(3, dtype=torch.int32), tensor(3, dtype=torch.int32), tensor(3, dtype=torch.int32), tensor(3, dtype=torch.int32), tensor(3, dtype=torch.int32), tensor(6, dtype=torch.int32), tensor(6, dtype=torch.int32), tensor(6, dtype=torch.int32), tensor(6, dtype=torch.int32), tensor(6, dtype=torch.int32), tensor(6, dtype=torch.int32), tensor(6, dtype=torch.int32), tensor(6, dtype=torch.int32), tensor(9, dtype=torch.int32), tensor(9, dtype=torch.int32), tensor(9, dtype=torch.int32), tensor(9, dtype=torch.int32), tensor(9, dtype=torch.int32), tensor(9, dtype=torch.int32), tensor(9, dtype=torch.int32), tensor(9, dtype=torch.int32), tensor(9, dtype=torch.int32), tensor(9, dtype=torch.int32), tensor(9, dtype=torch.int32), tensor(9, dtype=torch.int32), tensor(9, dtype=torch.int32), tensor(9, dtype=torch.int32), tensor(9, dtype=torch.int32), tensor(9, dtype=torch.int32), tensor(9, dtype=torch.int32), tensor(9, dtype=torch.int32), tensor(9, dtype=torch.int32), tensor(5, dtype=torch.int32), tensor(5, dtype=torch.int32), tensor(5, dtype=torch.int32), tensor(5, dtype=torch.int32), tensor(5, dtype=torch.int32), tensor(5, dtype=torch.int32), tensor(5, dtype=torch.int32), tensor(5, dtype=torch.int32), tensor(5, dtype=torch.int32), tensor(5, dtype=torch.int32), tensor(5, dtype=torch.int32), tensor(5, dtype=torch.int32), tensor(5, dtype=torch.int32), tensor(5, dtype=torch.int32), tensor(5, dtype=torch.int32), tensor(5, dtype=torch.int32), tensor(5, dtype=torch.int32), tensor(5, dtype=torch.int32), tensor(5, dtype=torch.int32), tensor(5, dtype=torch.int32), tensor(1, dtype=torch.int32), tensor(1, dtype=torch.int32), tensor(1, dtype=torch.int32), tensor(1, dtype=torch.int32), tensor(0, dtype=torch.int32), tensor(0, dtype=torch.int32), tensor(0, dtype=torch.int32), tensor(0, dtype=torch.int32), tensor(0, dtype=torch.int32), tensor(0, dtype=torch.int32), tensor(0, dtype=torch.int32), tensor(0, dtype=torch.int32), tensor(0, dtype=torch.int32), tensor(0, dtype=torch.int32), tensor(0, dtype=torch.int32), tensor(0, dtype=torch.int32), tensor(0, dtype=torch.int32)] [tensor(9), tensor(9), tensor(9), tensor(9), tensor(9), tensor(9), tensor(9), tensor(9), tensor(9), tensor(3), tensor(3), tensor(3), tensor(3), tensor(3), tensor(3), tensor(3), tensor(3), tensor(3), tensor(3), tensor(3), tensor(3), tensor(3), tensor(3), tensor(3), tensor(3), tensor(3), tensor(3), tensor(3), tensor(3), tensor(3), tensor(3), tensor(3), tensor(3), tensor(3), tensor(3), tensor(3), tensor(3), tensor(3), tensor(3), tensor(3), tensor(3), tensor(3), tensor(3), tensor(3), tensor(3), tensor(3), tensor(3), tensor(3), tensor(3), tensor(3), tensor(3), tensor(3), tensor(3), tensor(3), tensor(3), tensor(3), tensor(3), tensor(3), tensor(3), tensor(3), tensor(3), tensor(3), tensor(3), tensor(3), tensor(3), tensor(3), tensor(3), tensor(3), tensor(3), tensor(3), tensor(3), tensor(3), tensor(3), tensor(3), tensor(3), tensor(3), tensor(3), tensor(3), tensor(3), tensor(3), tensor(3), tensor(3), tensor(3), tensor(3), tensor(9), tensor(9), tensor(9), tensor(9), tensor(9), tensor(9), tensor(9), tensor(9), tensor(9), tensor(9), tensor(9), tensor(9), tensor(9), tensor(9), tensor(9), tensor(9), tensor(9), tensor(9), tensor(9), tensor(9), tensor(9), tensor(9), tensor(9), tensor(9), tensor(9), tensor(9), tensor(9), tensor(2), tensor(2), tensor(2), tensor(2), tensor(2), tensor(2), tensor(2), tensor(2), tensor(2), tensor(2), tensor(2), tensor(2), tensor(2), tensor(2), tensor(2), tensor(2), tensor(2), tensor(2), tensor(2), tensor(2), tensor(5), tensor(5), tensor(5), tensor(5), tensor(0), tensor(0), tensor(0), tensor(0), tensor(0), tensor(0), tensor(0), tensor(0), tensor(0), tensor(0), tensor(0), tensor(0), tensor(0)] tensor(0.4257)\n"
     ]
    },
    {
     "name": "stderr",
     "output_type": "stream",
     "text": [
      "Batches: 100%|██████████| 5/5 [00:06<00:00,  1.39s/it]\n",
      "Batches: 100%|██████████| 5/5 [00:00<00:00,  8.01it/s]\n"
     ]
    },
    {
     "name": "stdout",
     "output_type": "stream",
     "text": [
      "SVM accuracy:  0.42567567567567566\n",
      "======= DONE WITH SBERT CLASSIFICATION ======== \n"
     ]
    },
    {
     "name": "stderr",
     "output_type": "stream",
     "text": [
      "Batches: 100%|██████████| 1/1 [00:00<00:00, 58.79it/s]\n",
      "Batches: 100%|██████████| 1/1 [00:00<00:00, 20.98it/s]\n",
      "Batches: 100%|██████████| 1/1 [00:00<00:00, 58.84it/s]\n",
      "Batches: 100%|██████████| 1/1 [00:00<00:00, 64.29it/s]\n",
      "Batches: 100%|██████████| 1/1 [00:00<00:00, 23.83it/s]\n",
      "Batches: 100%|██████████| 1/1 [00:00<00:00,  6.25it/s]\n",
      "Batches: 100%|██████████| 1/1 [00:00<00:00, 58.82it/s]\n",
      "Batches: 100%|██████████| 1/1 [00:00<00:00,  5.02it/s]\n",
      "Batches: 100%|██████████| 1/1 [00:00<00:00, 66.67it/s]\n",
      "Batches: 100%|██████████| 1/1 [00:00<00:00,  9.15it/s]\n",
      "Batches: 100%|██████████| 1/1 [00:00<00:00, 74.05it/s]\n",
      "Batches: 100%|██████████| 1/1 [00:00<00:00, 37.03it/s]\n",
      "Batches: 100%|██████████| 1/1 [00:00<00:00, 58.83it/s]\n",
      "Batches: 100%|██████████| 1/1 [00:00<00:00, 21.05it/s]\n",
      "Batches: 100%|██████████| 1/1 [00:00<00:00, 47.61it/s]\n",
      "Batches: 100%|██████████| 1/1 [00:00<00:00,  2.91it/s]\n",
      "Batches: 100%|██████████| 1/1 [00:00<00:00, 58.82it/s]\n",
      "Batches: 100%|██████████| 1/1 [00:00<00:00, 41.67it/s]\n",
      "Batches: 100%|██████████| 1/1 [00:00<00:00, 54.02it/s]\n",
      "Batches: 100%|██████████| 1/1 [00:00<00:00, 18.87it/s]\n"
     ]
    },
    {
     "name": "stdout",
     "output_type": "stream",
     "text": [
      "Mean cosine similarity score over all articles:  0.35304898\n",
      "0.08988763900012627 0.0\n",
      "0.062499997812500076 0.0\n",
      "0.11320754546101817 0.06896551595719383\n",
      "0.0 0.0\n",
      "0.36363635867768607 0.2222222172839506\n",
      "0.12121211676767694 0.0\n",
      "0.1481481432098767 0.0799999950720003\n",
      "0.0 0.0\n",
      "0.1126760539178735 0.02247190811766209\n",
      "0.0645161241623313 0.0\n",
      "Mean Rouge-1 score over all articles:  0.10757839790090891\n",
      "Worst Rouge-1 score over all articles:  0.0\n",
      "Mean Rouge-2 score over all articles:  0.03936596364308068\n",
      "Worst Rouge-2 score over all articles:  0.0\n",
      "Found 10 article ids in generated comments and 10 article ids in reference comments\n"
     ]
    },
    {
     "name": "stderr",
     "output_type": "stream",
     "text": [
      "Batches: 100%|██████████| 5/5 [00:00<00:00, 25.22it/s]\n",
      "Batches: 100%|██████████| 5/5 [00:00<00:00,  6.16it/s]\n"
     ]
    },
    {
     "name": "stdout",
     "output_type": "stream",
     "text": [
      "0.5608108108108109\n",
      "              precision    recall  f1-score   support\n",
      "\n",
      "           0       1.00      1.00      1.00        13\n",
      "           1       0.00      0.00      0.00         4\n",
      "           2       0.00      0.00      0.00        30\n",
      "           3       0.44      1.00      0.61        31\n",
      "           4       0.00      0.00      0.00         9\n",
      "           5       0.83      1.00      0.91        20\n",
      "           6       0.00      0.00      0.00         8\n",
      "           7       0.00      0.00      0.00        10\n",
      "           8       0.00      0.00      0.00         4\n",
      "           9       0.47      1.00      0.64        19\n",
      "\n",
      "    accuracy                           0.56       148\n",
      "   macro avg       0.27      0.40      0.32       148\n",
      "weighted avg       0.35      0.56      0.42       148\n",
      "\n",
      "[[13  0  0  0  0  0  0  0  0  0]\n",
      " [ 0  0  0  0  0  4  0  0  0  0]\n",
      " [ 0  0  0 30  0  0  0  0  0  0]\n",
      " [ 0  0  0 31  0  0  0  0  0  0]\n",
      " [ 0  0  0  0  0  0  0  0  0  9]\n",
      " [ 0  0  0  0  0 20  0  0  0  0]\n",
      " [ 0  0  0  0  0  0  0  0  0  8]\n",
      " [ 0  0  0 10  0  0  0  0  0  0]\n",
      " [ 0  0  0  0  0  0  0  0  0  4]\n",
      " [ 0  0  0  0  0  0  0  0  0 19]]\n"
     ]
    },
    {
     "name": "stderr",
     "output_type": "stream",
     "text": [
      "c:\\Users\\trothe\\AppData\\Local\\Programs\\Python\\Python310\\lib\\site-packages\\sklearn\\metrics\\_classification.py:1334: UndefinedMetricWarning: Precision and F-score are ill-defined and being set to 0.0 in labels with no predicted samples. Use `zero_division` parameter to control this behavior.\n",
      "  _warn_prf(average, modifier, msg_start, len(result))\n",
      "c:\\Users\\trothe\\AppData\\Local\\Programs\\Python\\Python310\\lib\\site-packages\\sklearn\\metrics\\_classification.py:1334: UndefinedMetricWarning: Precision and F-score are ill-defined and being set to 0.0 in labels with no predicted samples. Use `zero_division` parameter to control this behavior.\n",
      "  _warn_prf(average, modifier, msg_start, len(result))\n",
      "c:\\Users\\trothe\\AppData\\Local\\Programs\\Python\\Python310\\lib\\site-packages\\sklearn\\metrics\\_classification.py:1334: UndefinedMetricWarning: Precision and F-score are ill-defined and being set to 0.0 in labels with no predicted samples. Use `zero_division` parameter to control this behavior.\n",
      "  _warn_prf(average, modifier, msg_start, len(result))\n"
     ]
    }
   ],
   "source": [
    "# Data import; Should at least have the columns: \"article_id\", \"body\", \"level\"\n",
    "# other columns will be ignored\n",
    "#train_art_df, val_art_df, train_tld_cmt_df, val_tld_cmt_df = load_complete_split_reddit_data(\"cmtsplit\")\n",
    "train_art_df, val_art_df, train_tld_cmt_df, val_tld_cmt_df =  load_limited_split_data(\"cmtsplit\")\n",
    "\n",
    "reference_comment_df = val_tld_cmt_df\n",
    "generated_comment_df = pd.read_csv(\"S:\\\\Sync\\\\University\\\\2023_MRP_1\\\\MRP1_WorkDir\\\\data\\\\destilled\\\\cmtsplit\\\\init_godel_cmtsplit_limited_generated_comments.csv\", sep=\";\")\n",
    "\n",
    "godel_scores_dict = model_collect_scores(gen_cmt_df=generated_comment_df, ref_cmt_df=reference_comment_df)"
   ]
  },
  {
   "attachments": {},
   "cell_type": "markdown",
   "metadata": {},
   "source": [
    "##### Score overview - Comment split - Evaluation Set"
   ]
  },
  {
   "cell_type": "code",
   "execution_count": 7,
   "metadata": {},
   "outputs": [
    {
     "name": "stdout",
     "output_type": "stream",
     "text": [
      "Scores for data split between comments: \n",
      "\n",
      "╒═══════════════════════════════╤═══════════════╤═══════════╤═══════════╤═════════════════════╤═══════════════════════╕\n",
      "│ Model                         │   Cosine Sim. │   Rouge-1 │   Rouge-2 │   SVM Classif. Acc. │   SBERT Classif. Acc. │\n",
      "╞═══════════════════════════════╪═══════════════╪═══════════╪═══════════╪═════════════════════╪═══════════════════════╡\n",
      "│ Bare Data (limited, no model) │      0.520087 │  0.13315  │ 0.0362402 │            0.581081 │              0.594595 │\n",
      "├───────────────────────────────┼───────────────┼───────────┼───────────┼─────────────────────┼───────────────────────┤\n",
      "│ Godel-v1.1                    │      0.353049 │  0.107578 │ 0.039366  │            0.560811 │              0.425676 │\n",
      "├───────────────────────────────┼───────────────┼───────────┼───────────┼─────────────────────┼───────────────────────┤\n",
      "│ Davinci-003                   │      0.542646 │  0.121609 │ 0.0335726 │            0.609375 │              0.640625 │\n",
      "├───────────────────────────────┼───────────────┼───────────┼───────────┼─────────────────────┼───────────────────────┤\n",
      "│ GPT-3.5-turbo                 │      0.526947 │  0.136076 │ 0.0359086 │            0.640625 │              0.65     │\n",
      "├───────────────────────────────┼───────────────┼───────────┼───────────┼─────────────────────┼───────────────────────┤\n",
      "│ GPT-4                         │      0.542646 │  0.121609 │ 0.0335726 │            0.609375 │              0.640625 │\n",
      "╘═══════════════════════════════╧═══════════════╧═══════════╧═══════════╧═════════════════════╧═══════════════════════╛\n",
      "\n",
      " In LaTeX, that is: \n",
      "\n",
      "\\begin{tabular}{lrrrrr}\n",
      "\\hline\n",
      " Model                         &   Cosine Sim. &   Rouge-1 &   Rouge-2 &   SVM Classif. Acc. &   SBERT Classif. Acc. \\\\\n",
      "\\hline\n",
      " Bare Data (limited, no model) &      0.520087 &  0.13315  & 0.0362402 &            0.581081 &              0.594595 \\\\\n",
      " Godel-v1.1                    &      0.353049 &  0.107578 & 0.039366  &            0.560811 &              0.425676 \\\\\n",
      " Davinci-003                   &      0.542646 &  0.121609 & 0.0335726 &            0.609375 &              0.640625 \\\\\n",
      " GPT-3.5-turbo                 &      0.526947 &  0.136076 & 0.0359086 &            0.640625 &              0.65     \\\\\n",
      " GPT-4                         &      0.542646 &  0.121609 & 0.0335726 &            0.609375 &              0.640625 \\\\\n",
      "\\hline\n",
      "\\end{tabular}\n"
     ]
    }
   ],
   "source": [
    "\n",
    "from tabulate import tabulate\n",
    "\n",
    "cmtsplit_scores_combined = [#[\"Bare Data (complete, no model)\", complete_dataset_score_dict[\"cosine_similarity\"], complete_dataset_score_dict[\"rouge1_score\"], complete_dataset_score_dict[\"rouge2_score\"],complete_dataset_score_dict[\"svm_class_accuracy\"]],\n",
    "                            [\"Bare Data (limited, no model)\", limited_dataset_score_dict[\"cosine_similarity\"], limited_dataset_score_dict[\"rouge1_score\"], limited_dataset_score_dict[\"rouge2_score\"], limited_dataset_score_dict[\"svm_class_accuracy\"], limited_dataset_score_dict[\"sbert_class_accuracy\"]],\n",
    "                            [\"Godel-v1.1\", godel_scores_dict[\"cosine_similarity\"], godel_scores_dict[\"rouge1_score\"], godel_scores_dict[\"rouge2_score\"], godel_scores_dict[\"svm_class_accuracy\"], godel_scores_dict[\"sbert_class_accuracy\"]],\n",
    "                            [\"Davinci-003\", gpt4_scores_dict[\"cosine_similarity\"], gpt4_scores_dict[\"rouge1_score\"], gpt4_scores_dict[\"rouge2_score\"], gpt4_scores_dict[\"svm_class_accuracy\"], gpt4_scores_dict[\"sbert_class_accuracy\"]],\n",
    "                            [\"GPT-3.5-turbo\", gpt35turbo_scores_dict[\"cosine_similarity\"], gpt35turbo_scores_dict[\"rouge1_score\"], gpt35turbo_scores_dict[\"rouge2_score\"], gpt35turbo_scores_dict[\"svm_class_accuracy\"], gpt35turbo_scores_dict[\"sbert_class_accuracy\"]],\n",
    "                            [\"GPT-4\", gpt4_scores_dict[\"cosine_similarity\"], gpt4_scores_dict[\"rouge1_score\"], gpt4_scores_dict[\"rouge2_score\"], gpt4_scores_dict[\"svm_class_accuracy\"], gpt4_scores_dict[\"sbert_class_accuracy\"]],\n",
    "                            ]\n",
    "cmtsplit_table_data_kwargs = {\"tabular_data\": cmtsplit_scores_combined, \"headers\": [\"Model\", \"Cosine Sim.\", \"Rouge-1\", \"Rouge-2\", \"SVM Classif. Acc.\", \"SBERT Classif. Acc.\"]}\n",
    "\n",
    "cmtsplit_score_table = tabulate(tablefmt=\"fancy_grid\",\n",
    "                                **cmtsplit_table_data_kwargs\n",
    "                                )\n",
    "\n",
    "\n",
    "#Show Output\n",
    "print(\"Scores for data split between comments: \\n\")\n",
    "print(cmtsplit_score_table)\n",
    "print(\"\\n In LaTeX, that is: \\n\")\n",
    "print(tabulate(tablefmt=\"latex\",\n",
    "                **cmtsplit_table_data_kwargs\n",
    "                )) "
   ]
  },
  {
   "attachments": {},
   "cell_type": "markdown",
   "metadata": {},
   "source": [
    "To compare the SVM classification accuracy between the human \"real\" data and the model generated data, consider also the variance in precisions over all classes. (Can be extracted in the classification report for each each further above.). While the human data has an almost randomly fluctuating but centered value for the precision across classes, the precision goes more into the extremes for the models. This subjective observation can be quantified objectively via the variance as a 0.0497361 vs. 0.127289 for human/real data vs. GPT-4."
   ]
  },
  {
   "cell_type": "code",
   "execution_count": null,
   "metadata": {},
   "outputs": [],
   "source": []
  },
  {
   "cell_type": "code",
   "execution_count": null,
   "metadata": {},
   "outputs": [],
   "source": []
  },
  {
   "attachments": {},
   "cell_type": "markdown",
   "metadata": {},
   "source": [
    "##### Original (TF-embedding based):"
   ]
  },
  {
   "cell_type": "code",
   "execution_count": 8,
   "metadata": {
    "vscode": {
     "languageId": "latex"
    }
   },
   "outputs": [
    {
     "ename": "SyntaxError",
     "evalue": "invalid character '╒' (U+2552) (Temp/ipykernel_22812/1425709987.py, line 3)",
     "output_type": "error",
     "traceback": [
      "\u001b[1;36m  File \u001b[1;32m\"C:\\Users\\trothe\\AppData\\Local\\Temp/ipykernel_22812/1425709987.py\"\u001b[1;36m, line \u001b[1;32m3\u001b[0m\n\u001b[1;33m    ╒════════════════════════════════╤═══════════════╤═══════════╤═══════════╤═════════════════════╕\u001b[0m\n\u001b[1;37m    ^\u001b[0m\n\u001b[1;31mSyntaxError\u001b[0m\u001b[1;31m:\u001b[0m invalid character '╒' (U+2552)\n"
     ]
    }
   ],
   "source": [
    "Scores for data split between comments: \n",
    "\n",
    "╒════════════════════════════════╤═══════════════╤═══════════╤═══════════╤═════════════════════╕\n",
    "│ Model                          │   Cosine Sim. │   Rouge-1 │   Rouge-2 │   SVM Classif. Acc. │\n",
    "╞════════════════════════════════╪═══════════════╪═══════════╪═══════════╪═════════════════════╡\n",
    "│ Bare Data (complete, no model) │      0.220525 │  0.15256  │ 0.0611136 │            0.228358 │\n",
    "├────────────────────────────────┼───────────────┼───────────┼───────────┼─────────────────────┤\n",
    "│ Bare Data (limited, no model)  │      0.200394 │  0.13315  │ 0.0362402 │            0.5      │\n",
    "├────────────────────────────────┼───────────────┼───────────┼───────────┼─────────────────────┤\n",
    "│ Godel-v1.1                     │      0.175213 │  0.107578 │ 0.039366  │            0.135135 │\n",
    "├────────────────────────────────┼───────────────┼───────────┼───────────┼─────────────────────┤\n",
    "│ Davinci-003                    │      0.151079 │  0.121609 │ 0.0335726 │            0.275    │\n",
    "├────────────────────────────────┼───────────────┼───────────┼───────────┼─────────────────────┤\n",
    "│ GPT-3.5-turbo                  │      0.163473 │  0.136076 │ 0.0359086 │            0.265625 │\n",
    "├────────────────────────────────┼───────────────┼───────────┼───────────┼─────────────────────┤\n",
    "│ GPT-4                          │      0.151079 │  0.121609 │ 0.0335726 │            0.275    │\n",
    "╘════════════════════════════════╧═══════════════╧═══════════╧═══════════╧═════════════════════╛\n",
    "\n",
    " In LaTeX, that is: \n",
    "\n",
    "\\begin{tabular}{lrrrr}\n",
    "\\hline\n",
    " Model                          &   Cosine Sim. &   Rouge-1 &   Rouge-2 &   SVM Classif. Acc. \\\\\n",
    "\\hline\n",
    " Bare Data (complete, no model) &      0.220525 &  0.15256  & 0.0611136 &            0.228358 \\\\\n",
    " Bare Data (limited, no model)  &      0.200394 &  0.13315  & 0.0362402 &            0.5      \\\\\n",
    " Godel-v1.1                     &      0.175213 &  0.107578 & 0.039366  &            0.135135 \\\\\n",
    " Davinci-003                    &      0.151079 &  0.121609 & 0.0335726 &            0.275    \\\\\n",
    " GPT-3.5-turbo                  &      0.163473 &  0.136076 & 0.0359086 &            0.265625 \\\\\n",
    " GPT-4                          &      0.151079 &  0.121609 & 0.0335726 &            0.275    \\\\\n",
    "\\hline\n",
    "\\end{tabular}"
   ]
  }
 ],
 "metadata": {
  "kernelspec": {
   "display_name": "Python 3",
   "language": "python",
   "name": "python3"
  },
  "language_info": {
   "codemirror_mode": {
    "name": "ipython",
    "version": 3
   },
   "file_extension": ".py",
   "mimetype": "text/x-python",
   "name": "python",
   "nbconvert_exporter": "python",
   "pygments_lexer": "ipython3",
   "version": "3.10.8"
  },
  "orig_nbformat": 4,
  "vscode": {
   "interpreter": {
    "hash": "5af6d6db34e8ca116fae08f6a59dbf71471a55a5411e623a27fad945680c9636"
   }
  }
 },
 "nbformat": 4,
 "nbformat_minor": 2
}
